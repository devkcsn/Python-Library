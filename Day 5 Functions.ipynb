{
 "cells": [
  {
   "cell_type": "code",
   "execution_count": null,
   "id": "a7916cd2",
   "metadata": {},
   "outputs": [],
   "source": [
    "#If we are nonly returning and not putting the value in any variable it will print it."
   ]
  },
  {
   "cell_type": "code",
   "execution_count": null,
   "id": "ca58d08f",
   "metadata": {},
   "outputs": [],
   "source": [
    "def average():\n",
    "    x ,y = int(input()) , int(input())\n",
    "    avg = (x+y)/2\n",
    "    return avg"
   ]
  },
  {
   "cell_type": "code",
   "execution_count": null,
   "id": "ab1f2aa1",
   "metadata": {},
   "outputs": [],
   "source": [
    "average()"
   ]
  },
  {
   "cell_type": "code",
   "execution_count": null,
   "id": "1797e772",
   "metadata": {},
   "outputs": [],
   "source": [
    "#Another Approach"
   ]
  },
  {
   "cell_type": "code",
   "execution_count": null,
   "id": "9dc8e4ed",
   "metadata": {},
   "outputs": [],
   "source": [
    "def average():\n",
    "    x ,y = int(input()) , int(input())\n",
    "    avg = (x+y)/2\n",
    "    return avg"
   ]
  },
  {
   "cell_type": "code",
   "execution_count": null,
   "id": "4d2260ba",
   "metadata": {},
   "outputs": [],
   "source": [
    "a = average()\n",
    "print(a)"
   ]
  },
  {
   "cell_type": "code",
   "execution_count": null,
   "id": "4454f778",
   "metadata": {},
   "outputs": [],
   "source": [
    "#Average of n number"
   ]
  },
  {
   "cell_type": "code",
   "execution_count": null,
   "id": "98e24aac",
   "metadata": {},
   "outputs": [],
   "source": [
    "def sum_of_numbers(n):\n",
    "    sum_ = sum(range(n+1))\n",
    "    return sum_\n",
    "\n",
    "def average(sum_,n):\n",
    "    avg = sum_/n\n",
    "    return avg\n",
    "\n",
    "n = int(input())\n",
    "z = sum_of_numbers(n)\n",
    "b = average(z,n)\n",
    "print(b)"
   ]
  },
  {
   "cell_type": "code",
   "execution_count": null,
   "id": "434409a7-a105-481e-a9ec-36a0f616229f",
   "metadata": {},
   "outputs": [],
   "source": [
    "#Cumulative sum "
   ]
  },
  {
   "cell_type": "markdown",
   "id": "ff0de6b4-f1b4-4030-85ab-cbb41869d560",
   "metadata": {
    "tags": []
   },
   "source": [
    "### Without Function"
   ]
  },
  {
   "cell_type": "code",
   "execution_count": null,
   "id": "19d927d6-1a86-4025-bd8e-50e528fa48ee",
   "metadata": {},
   "outputs": [],
   "source": [
    "i = input('what do you want to do c or q ?')\n",
    "cs = 0\n",
    "while i !='q':\n",
    "    n  = int(input('enter the number =>'))\n",
    "    cs +=n\n",
    "    print('cum sum till now',cs)\n",
    "    \n",
    "    i = input('what do you want to do c or q ?')"
   ]
  },
  {
   "cell_type": "markdown",
   "id": "bfe6e483-5088-440f-a935-24b1e0ea0a91",
   "metadata": {},
   "source": [
    "### With Function"
   ]
  },
  {
   "cell_type": "code",
   "execution_count": null,
   "id": "a7b33857",
   "metadata": {},
   "outputs": [],
   "source": [
    "def update():\n",
    "    i = input(\"c=continue or q=quit\")\n",
    "    return i\n",
    "\n",
    "\n",
    "CS = 0\n",
    "i = input(\"c=continue or q=quit\")\n",
    "\n",
    "while i != \"q\":\n",
    "    n = int(input(\"Enter the number \"))\n",
    "    CS += n\n",
    "    print('Cum Sum till now' ,CS)\n",
    "    i = update()\n",
    "\n",
    "    "
   ]
  },
  {
   "cell_type": "code",
   "execution_count": null,
   "id": "914b6724-96a8-4d87-82cf-c2a33b7f9050",
   "metadata": {},
   "outputs": [],
   "source": [
    "def teenbaar():\n",
    "    n = input(\"Enter your message\")\n",
    "    return n\n",
    "\n",
    "\n",
    "z = teenbaar()\n",
    "z+=\"\\n\"\n",
    "z*=3\n",
    "print(z)"
   ]
  },
  {
   "cell_type": "markdown",
   "id": "18649169-e3f1-4735-a5da-81ed8eda77a3",
   "metadata": {},
   "source": [
    "### Function Argument"
   ]
  },
  {
   "cell_type": "code",
   "execution_count": null,
   "id": "6ccb20e6-ad98-41dc-bc6d-ab5e15e6b5bb",
   "metadata": {},
   "outputs": [],
   "source": [
    "def name(day):\n",
    "    if day==\"monday\":\n",
    "        n=1\n",
    "    elif day==\"tuesday\":\n",
    "        n=2\n",
    "    elif day==\"wednesday\":\n",
    "        n=3\n",
    "    elif day==\"thursday\":\n",
    "        n=4\n",
    "    elif day==\"friday\":\n",
    "        n=5\n",
    "    elif day==\"saturday\":\n",
    "        n=6\n",
    "    elif day==\"sunday\":\n",
    "        n=7\n",
    "    else:\n",
    "        n=print(\"Pass a valid day\")\n",
    "    return n,day\n",
    "\n",
    "p = input(\"Day - > \")\n",
    "n,day = name(p)\n",
    "print(f\"Index of {day} is \" , n)\n",
    "\n"
   ]
  },
  {
   "cell_type": "code",
   "execution_count": null,
   "id": "40a0b740-fcd9-403a-bbea-b48071103c7f",
   "metadata": {},
   "outputs": [],
   "source": [
    "def add(a, b):\n",
    "    addition = a+b\n",
    "    return addition"
   ]
  },
  {
   "cell_type": "code",
   "execution_count": null,
   "id": "f6e81410-6bb6-415a-a769-0ce5a8e04d4a",
   "metadata": {},
   "outputs": [],
   "source": [
    "a = int(input())\n",
    "b = int(input())\n",
    "add(a,b)"
   ]
  },
  {
   "cell_type": "code",
   "execution_count": null,
   "id": "9703b89a-ca2c-4fe1-8212-9ab0613e25f8",
   "metadata": {},
   "outputs": [],
   "source": [
    "help(print)"
   ]
  },
  {
   "cell_type": "code",
   "execution_count": null,
   "id": "5805406b-36d5-47b7-abaf-60a9a6025ef9",
   "metadata": {},
   "outputs": [],
   "source": [
    "def mul(**var):\n",
    "    print(var)\n",
    "    \n",
    "    a = var[\"a\"]\n",
    "    d = var[\"d\"]\n",
    "    \n",
    "    multiplication = a*d\n",
    "    \n",
    "    return multiplication"
   ]
  },
  {
   "cell_type": "code",
   "execution_count": null,
   "id": "ed7f1a0c-6dfc-42ff-9333-554c3c0b6fb7",
   "metadata": {},
   "outputs": [],
   "source": [
    "mul(b = 34,c = 56, d =45,f=23,e=34,a=56,g=100)"
   ]
  },
  {
   "cell_type": "code",
   "execution_count": null,
   "id": "fce2fa31-fd55-46c4-8ddc-c066005f8c4f",
   "metadata": {},
   "outputs": [],
   "source": [
    "def mul(*var):\n",
    "    print(var)\n",
    "    \n",
    "    a =var[5]\n",
    "    d= var[2]\n",
    "    \n",
    "    multiplication = a*d\n",
    "    return multiplication"
   ]
  },
  {
   "cell_type": "code",
   "execution_count": null,
   "id": "a3791988",
   "metadata": {},
   "outputs": [],
   "source": [
    "mul(34,45,85,45,89,254,87)"
   ]
  },
  {
   "cell_type": "code",
   "execution_count": null,
   "id": "47e5670d",
   "metadata": {},
   "outputs": [],
   "source": [
    "def square(n):\n",
    "    n **=2\n",
    "    return n\n",
    "\n",
    "def inputting():\n",
    "    n = int(input(\"Enter the number -> \"))\n",
    "    return n\n",
    "\n",
    "n = inputting()\n",
    "p = square(n)\n",
    "print(\"Its square is -> \" , p)"
   ]
  },
  {
   "cell_type": "code",
   "execution_count": null,
   "id": "23f26f11",
   "metadata": {},
   "outputs": [],
   "source": [
    "square = lambda x ,y : int(x)*int(y)\n",
    "z,m = input() , input()\n",
    "square(z,m)\n"
   ]
  },
  {
   "cell_type": "code",
   "execution_count": null,
   "id": "e41cff36",
   "metadata": {},
   "outputs": [],
   "source": []
  }
 ],
 "metadata": {
  "kernelspec": {
   "display_name": "Python 3 (ipykernel)",
   "language": "python",
   "name": "python3"
  },
  "language_info": {
   "codemirror_mode": {
    "name": "ipython",
    "version": 3
   },
   "file_extension": ".py",
   "mimetype": "text/x-python",
   "name": "python",
   "nbconvert_exporter": "python",
   "pygments_lexer": "ipython3",
   "version": "3.10.9"
  }
 },
 "nbformat": 4,
 "nbformat_minor": 5
}
