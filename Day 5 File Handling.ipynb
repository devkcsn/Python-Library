{
 "cells": [
  {
   "cell_type": "markdown",
   "id": "368a5e80",
   "metadata": {},
   "source": [
    "### File Handling"
   ]
  },
  {
   "cell_type": "code",
   "execution_count": 33,
   "id": "1a6a452c",
   "metadata": {},
   "outputs": [
    {
     "data": {
      "text/plain": [
       "'This is the new content to be appended to the file'"
      ]
     },
     "execution_count": 33,
     "metadata": {},
     "output_type": "execute_result"
    }
   ],
   "source": [
    "f = open('File Handling.txt','r')\n",
    "f.read(50)"
   ]
  },
  {
   "cell_type": "code",
   "execution_count": 34,
   "id": "3143db4b",
   "metadata": {},
   "outputs": [
    {
     "data": {
      "text/plain": [
       "51"
      ]
     },
     "execution_count": 34,
     "metadata": {},
     "output_type": "execute_result"
    }
   ],
   "source": [
    "f = open('File Handling.txt', 'w')\n",
    "f.write(\"This is the new content to be appended to the file.\")"
   ]
  },
  {
   "cell_type": "code",
   "execution_count": 35,
   "id": "e76eeb35",
   "metadata": {},
   "outputs": [
    {
     "data": {
      "text/plain": [
       "'This is the new content to be appended to the file.'"
      ]
     },
     "execution_count": 35,
     "metadata": {},
     "output_type": "execute_result"
    }
   ],
   "source": [
    "f = open('File Handling.txt','r')\n",
    "f.read()"
   ]
  },
  {
   "cell_type": "code",
   "execution_count": 32,
   "id": "988b2631",
   "metadata": {},
   "outputs": [],
   "source": [
    "f = open('File Handling.txt', 'a')\n",
    "f.write(\"Artificial Intelligence (AI) has revolutionized the way we live and work, transforming various industries and shaping the future of technology. AI refers to the development of intelligent machines capable of performing tasks that typically require human intelligence, such as speech recognition, decision-making, problem-solving, and learning. This article explores the incredible potential of AI and its impact on various aspects of our lives.\\n\\nEnhancing Efficiency and Automation:\\nAI has the ability to automate mundane and repetitive tasks, freeing up human resources for more complex and creative endeavors. From manufacturing to customer service, AI-powered systems and robots are streamlining processes, reducing errors, and increasing overall efficiency. Businesses can leverage AI algorithms to optimize supply chains, predict demand, and improve decision-making.\\n\\nTransforming Healthcare:\\nAI is revolutionizing healthcare by providing accurate diagnosis, personalized treatment plans, and predictive analytics. Machine learning algorithms can analyze vast amounts of medical data to detect patterns, identify potential risks, and assist in early disease diagnosis. AI-powered robotic surgery systems are also enhancing precision and minimizing invasiveness in surgical procedures.\\n\\nEnabling Smart Cities:\\nAI is playing a pivotal role in building smarter and more sustainable cities. Through data analysis and predictive modeling, AI helps optimize energy consumption, traffic flow, and waste management. Smart city applications, such as intelligent transportation systems and sensor networks, enhance urban planning, improve citizen safety, and create more livable environments.\\n\\nRevolutionizing Finance:\\nAI is transforming the financial sector by automating tasks like fraud detection, algorithmic trading, and personalized financial advice. Machine learning algorithms analyze vast amounts of financial data to identify fraudulent transactions and suspicious patterns. AI-powered chatbots and virtual assistants offer personalized financial guidance, enhancing customer experiences.\\n\\nAdvancing Education:\\nAI technologies are reshaping the way we learn and acquire knowledge. Intelligent tutoring systems provide personalized learning experiences, adapting to individual student needs and learning styles. AI-based grading systems automate the evaluation process, providing faster and more consistent feedback. Virtual reality and augmented reality applications enhance immersive learning environments.\\n\\nEthical Considerations:\\nWhile the potential of AI is vast, there are ethical concerns that need to be addressed. Issues like bias in algorithms, data privacy, and job displacement require careful consideration. Ensuring transparency, fairness, and accountability in AI systems is crucial to mitigate potential risks and ensure responsible AI development and deployment.\\n\\nConclusion:\\nArtificial Intelligence is transforming various industries and aspects of our lives, bringing significant benefits and new possibilities. From enhancing efficiency and automation to revolutionizing healthcare, finance, and education, AI is reshaping our world. As we embrace AI's potential, it is important to address ethical considerations and ensure responsible development to create a future where humans and AI coexist harmoniously, leveraging the power of intelligent machines for the betterment of society.\")\n",
    "f.close()"
   ]
  },
  {
   "cell_type": "code",
   "execution_count": 28,
   "id": "3dfce365",
   "metadata": {
    "scrolled": true
   },
   "outputs": [
    {
     "data": {
      "text/plain": [
       "\"This is the new content to be appended to the file.This is the new content to be appended to the file.This is the new content to be appended to the file.This is the new content to be appended to the file.This is the new content to be appended to the file.This is the new content to be appended to the file.Artificial Intelligence (AI) has revolutionized the way we live and work, transforming various industries and shaping the future of technology. AI refers to the development of intelligent machines capable of performing tasks that typically require human intelligence, such as speech recognition, decision-making, problem-solving, and learning. This article explores the incredible potential of AI and its impact on various aspects of our lives.\\n\\nEnhancing Efficiency and Automation:\\nAI has the ability to automate mundane and repetitive tasks, freeing up human resources for more complex and creative endeavors. From manufacturing to customer service, AI-powered systems and robots are streamlining processes, reducing errors, and increasing overall efficiency. Businesses can leverage AI algorithms to optimize supply chains, predict demand, and improve decision-making.\\n\\nTransforming Healthcare:\\nAI is revolutionizing healthcare by providing accurate diagnosis, personalized treatment plans, and predictive analytics. Machine learning algorithms can analyze vast amounts of medical data to detect patterns, identify potential risks, and assist in early disease diagnosis. AI-powered robotic surgery systems are also enhancing precision and minimizing invasiveness in surgical procedures.\\n\\nEnabling Smart Cities:\\nAI is playing a pivotal role in building smarter and more sustainable cities. Through data analysis and predictive modeling, AI helps optimize energy consumption, traffic flow, and waste management. Smart city applications, such as intelligent transportation systems and sensor networks, enhance urban planning, improve citizen safety, and create more livable environments.\\n\\nRevolutionizing Finance:\\nAI is transforming the financial sector by automating tasks like fraud detection, algorithmic trading, and personalized financial advice. Machine learning algorithms analyze vast amounts of financial data to identify fraudulent transactions and suspicious patterns. AI-powered chatbots and virtual assistants offer personalized financial guidance, enhancing customer experiences.\\n\\nAdvancing Education:\\nAI technologies are reshaping the way we learn and acquire knowledge. Intelligent tutoring systems provide personalized learning experiences, adapting to individual student needs and learning styles. AI-based grading systems automate the evaluation process, providing faster and more consistent feedback. Virtual reality and augmented reality applications enhance immersive learning environments.\\n\\nEthical Considerations:\\nWhile the potential of AI is vast, there are ethical concerns that need to be addressed. Issues like bias in algorithms, data privacy, and job displacement require careful consideration. Ensuring transparency, fairness, and accountability in AI systems is crucial to mitigate potential risks and ensure responsible AI development and deployment.\\n\\nConclusion:\\nArtificial Intelligence is transforming various industries and aspects of our lives, bringing significant benefits and new possibilities. From enhancing efficiency and automation to revolutionizing healthcare, finance, and education, AI is reshaping our world. As we embrace AI's potential, it is important to address ethical considerations and ensure responsible development to create a future where humans and AI coexist harmoniously, leveraging the power of intelligent machines for the betterment of society.\""
      ]
     },
     "execution_count": 28,
     "metadata": {},
     "output_type": "execute_result"
    }
   ],
   "source": [
    "f = open('File Handling.txt','r')\n",
    "f.read()"
   ]
  }
 ],
 "metadata": {
  "kernelspec": {
   "display_name": "Python 3 (ipykernel)",
   "language": "python",
   "name": "python3"
  },
  "language_info": {
   "codemirror_mode": {
    "name": "ipython",
    "version": 3
   },
   "file_extension": ".py",
   "mimetype": "text/x-python",
   "name": "python",
   "nbconvert_exporter": "python",
   "pygments_lexer": "ipython3",
   "version": "3.10.9"
  }
 },
 "nbformat": 4,
 "nbformat_minor": 5
}
