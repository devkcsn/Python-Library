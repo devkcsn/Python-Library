{
 "cells": [
  {
   "cell_type": "markdown",
   "id": "1ecc61c0",
   "metadata": {},
   "source": [
    "### Class"
   ]
  },
  {
   "cell_type": "code",
   "execution_count": null,
   "id": "3aeeae07",
   "metadata": {
    "scrolled": true
   },
   "outputs": [],
   "source": [
    "print(type(6))"
   ]
  },
  {
   "cell_type": "code",
   "execution_count": null,
   "id": "f2baabd9",
   "metadata": {},
   "outputs": [],
   "source": [
    "class Fish:\n",
    "    heigh = 10\n",
    "    weight = 20\n",
    "    age = 3\n",
    "    \n",
    "    def swin(dist):\n",
    "        position += dist\n",
    "        return position"
   ]
  },
  {
   "cell_type": "code",
   "execution_count": null,
   "id": "131f02c2",
   "metadata": {},
   "outputs": [],
   "source": [
    "Fish()"
   ]
  },
  {
   "cell_type": "code",
   "execution_count": null,
   "id": "e70720a6",
   "metadata": {},
   "outputs": [],
   "source": [
    "class Fish:\n",
    "    color = 'gold'\n",
    "    weight = 20\n",
    "    height = 3"
   ]
  },
  {
   "cell_type": "code",
   "execution_count": null,
   "id": "0baf7503",
   "metadata": {},
   "outputs": [],
   "source": [
    "zen = Fish()\n",
    "print(f'weight => {zen.weight} , color -> {zen.color}')\n",
    "      "
   ]
  },
  {
   "cell_type": "code",
   "execution_count": null,
   "id": "81cc521a",
   "metadata": {},
   "outputs": [],
   "source": [
    "zen.color"
   ]
  },
  {
   "cell_type": "code",
   "execution_count": null,
   "id": "aadac4d3",
   "metadata": {},
   "outputs": [],
   "source": [
    "class Fish:\n",
    "    \n",
    "    \n",
    "    def __init__(self):\n",
    "        \n",
    "        #attributes\n",
    "        \n",
    "        self.height = 10\n",
    "        self.height = 20\n",
    "        self.age = 2\n",
    "        self.color = 'red'\n",
    "        \n",
    "    def ageing(self ,age_inc):\n",
    "        older = self.age + age_inc\n",
    "        return older\n",
    "        \n",
    "#Create all object in class in global if self is used in init function\n",
    "#init is used to init function then use self\n",
    "#its golbal name will be self.age or self.color"
   ]
  },
  {
   "cell_type": "code",
   "execution_count": null,
   "id": "a74f846d",
   "metadata": {},
   "outputs": [],
   "source": [
    "zen = Fish()"
   ]
  },
  {
   "cell_type": "code",
   "execution_count": null,
   "id": "f6a183ad",
   "metadata": {},
   "outputs": [],
   "source": [
    "zen.color"
   ]
  },
  {
   "cell_type": "code",
   "execution_count": null,
   "id": "d94cdc17",
   "metadata": {},
   "outputs": [],
   "source": [
    "print(zen.color)"
   ]
  },
  {
   "cell_type": "code",
   "execution_count": null,
   "id": "680782d7",
   "metadata": {},
   "outputs": [],
   "source": [
    "n = int(input(\"Enter the age to be added in old age - > \"))\n",
    "p =zen.ageing(n)\n",
    "print(f\"The old age is {zen.age} and the new age will be -> \",p )"
   ]
  },
  {
   "cell_type": "code",
   "execution_count": null,
   "id": "ac3f7c6d",
   "metadata": {},
   "outputs": [],
   "source": [
    "zen.age"
   ]
  },
  {
   "cell_type": "code",
   "execution_count": null,
   "id": "57c5479b",
   "metadata": {},
   "outputs": [],
   "source": [
    "class Email:\n",
    "    def __init__(self , fn ,ln):\n",
    "        self.firstname = fn\n",
    "        self.lastname = ln "
   ]
  },
  {
   "cell_type": "code",
   "execution_count": null,
   "id": "22ac75e6",
   "metadata": {},
   "outputs": [],
   "source": [
    "def generate(fn,ln):\n",
    "    em = fn + '_' + ln + '@ibm.com'\n",
    "    return em\n"
   ]
  },
  {
   "cell_type": "code",
   "execution_count": null,
   "id": "56f57c0f",
   "metadata": {},
   "outputs": [],
   "source": [
    "fn = input(\"Enter the first name -> \")\n",
    "ln = input(\"Enter the last name -> \")\n",
    "zen = Email(fn , ln)\n",
    "p = generate(zen.firstname , zen.lastname)\n",
    "print(p)"
   ]
  },
  {
   "cell_type": "markdown",
   "id": "0439ba11",
   "metadata": {},
   "source": [
    "### Inheritance"
   ]
  },
  {
   "cell_type": "code",
   "execution_count": 13,
   "id": "dcaca949",
   "metadata": {},
   "outputs": [],
   "source": [
    "def sum(self):\n",
    "    return self.x + self.y\n"
   ]
  },
  {
   "cell_type": "code",
   "execution_count": 14,
   "id": "744851c8",
   "metadata": {},
   "outputs": [],
   "source": [
    "class B(A):\n",
    "    def __init__(self, x, y):\n",
    "        super().__init__(x, y)\n",
    "        \n",
    "    def sub(self):\n",
    "        return self.x - self.y\n",
    "\n",
    "class C(A):\n",
    "    def __init__(self, x, y):\n",
    "        super().__init__(x, y)\n",
    "        \n",
    "    def multiply(self):\n",
    "        return self.x * self.y\n"
   ]
  },
  {
   "cell_type": "code",
   "execution_count": 15,
   "id": "8cb0de86",
   "metadata": {},
   "outputs": [],
   "source": [
    "class A:\n",
    "    def __init__(self, x, y):\n",
    "        self.x = x\n",
    "        self.y = y\n",
    "        \n",
    "    def sum(self):\n",
    "        return self.x + self.y\n",
    "\n",
    "\n",
    "class B(A):\n",
    "    def __init__(self, x, y):\n",
    "        super().__init__(x, \\\\y)\n",
    "        \n",
    "    def sub(self):\n",
    "        return self.x - self.y\n",
    "\n",
    "\n",
    "class C(A):\n",
    "    def __init__(self, x, y):\n",
    "        super().__init__(x, y)\n",
    "        \n",
    "    def multiply(self):\n",
    "        return self.x * self.y"
   ]
  },
  {
   "cell_type": "code",
   "execution_count": 16,
   "id": "a1e806e2",
   "metadata": {},
   "outputs": [
    {
     "name": "stdout",
     "output_type": "stream",
     "text": [
      "2\n",
      "8\n"
     ]
    }
   ],
   "source": [
    "b = B(5, 3)\n",
    "print(b.sub())  # Output: 2\n",
    "\n",
    "c = C(4, 2)\n",
    "print(c.multiply())  # Output: 8\n"
   ]
  },
  {
   "cell_type": "code",
   "execution_count": 1,
   "id": "795554bd",
   "metadata": {},
   "outputs": [],
   "source": [
    "#Question Area and Volume"
   ]
  },
  {
   "cell_type": "code",
   "execution_count": null,
   "id": "c3b59fb0",
   "metadata": {},
   "outputs": [],
   "source": [
    "class A:\n",
    "    def __init__(self,l,b)\n",
    "    self.length = l\n",
    "    self.breadth = b\n",
    "    \n",
    "    def area(self)\n",
    "    return self.length*self.breadth\n",
    "\n",
    "class B\n",
    "    def __init__()"
   ]
  }
 ],
 "metadata": {
  "kernelspec": {
   "display_name": "Python 3 (ipykernel)",
   "language": "python",
   "name": "python3"
  },
  "language_info": {
   "codemirror_mode": {
    "name": "ipython",
    "version": 3
   },
   "file_extension": ".py",
   "mimetype": "text/x-python",
   "name": "python",
   "nbconvert_exporter": "python",
   "pygments_lexer": "ipython3",
   "version": "3.10.9"
  }
 },
 "nbformat": 4,
 "nbformat_minor": 5
}
