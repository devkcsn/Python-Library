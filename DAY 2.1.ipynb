{
 "cells": [
  {
   "cell_type": "code",
   "execution_count": 1,
   "id": "85c5e8c3",
   "metadata": {},
   "outputs": [
    {
     "data": {
      "text/plain": [
       "(True, True)"
      ]
     },
     "execution_count": 1,
     "metadata": {},
     "output_type": "execute_result"
    }
   ],
   "source": [
    "True == 1 , False == 0"
   ]
  },
  {
   "cell_type": "code",
   "execution_count": 2,
   "id": "3c6c3ae8",
   "metadata": {},
   "outputs": [
    {
     "data": {
      "text/plain": [
       "1"
      ]
     },
     "execution_count": 2,
     "metadata": {},
     "output_type": "execute_result"
    }
   ],
   "source": [
    "True + False"
   ]
  },
  {
   "cell_type": "code",
   "execution_count": 3,
   "id": "2ba44683",
   "metadata": {},
   "outputs": [
    {
     "data": {
      "text/plain": [
       "3"
      ]
     },
     "execution_count": 3,
     "metadata": {},
     "output_type": "execute_result"
    }
   ],
   "source": [
    "True + True + True "
   ]
  },
  {
   "cell_type": "code",
   "execution_count": 4,
   "id": "a55e48ad",
   "metadata": {},
   "outputs": [
    {
     "data": {
      "text/plain": [
       "4"
      ]
     },
     "execution_count": 4,
     "metadata": {},
     "output_type": "execute_result"
    }
   ],
   "source": [
    "True + 3 "
   ]
  },
  {
   "cell_type": "code",
   "execution_count": 5,
   "id": "482e6163",
   "metadata": {},
   "outputs": [
    {
     "data": {
      "text/plain": [
       "0"
      ]
     },
     "execution_count": 5,
     "metadata": {},
     "output_type": "execute_result"
    }
   ],
   "source": [
    "False + False "
   ]
  },
  {
   "cell_type": "code",
   "execution_count": 6,
   "id": "e05f2ed9",
   "metadata": {},
   "outputs": [
    {
     "name": "stdout",
     "output_type": "stream",
     "text": [
      "0\n"
     ]
    }
   ],
   "source": [
    "var = True \n",
    "print(var*False)"
   ]
  },
  {
   "cell_type": "code",
   "execution_count": 7,
   "id": "fd7df6cc",
   "metadata": {},
   "outputs": [
    {
     "data": {
      "text/plain": [
       "True"
      ]
     },
     "execution_count": 7,
     "metadata": {},
     "output_type": "execute_result"
    }
   ],
   "source": [
    "True and True "
   ]
  },
  {
   "cell_type": "code",
   "execution_count": 8,
   "id": "9f5f2b5d",
   "metadata": {},
   "outputs": [
    {
     "data": {
      "text/plain": [
       "0"
      ]
     },
     "execution_count": 8,
     "metadata": {},
     "output_type": "execute_result"
    }
   ],
   "source": [
    "True and 0"
   ]
  },
  {
   "cell_type": "code",
   "execution_count": 9,
   "id": "59740042",
   "metadata": {},
   "outputs": [
    {
     "data": {
      "text/plain": [
       "False"
      ]
     },
     "execution_count": 9,
     "metadata": {},
     "output_type": "execute_result"
    }
   ],
   "source": [
    "1 and False "
   ]
  },
  {
   "cell_type": "code",
   "execution_count": 10,
   "id": "05b8f803",
   "metadata": {},
   "outputs": [
    {
     "data": {
      "text/plain": [
       "False"
      ]
     },
     "execution_count": 10,
     "metadata": {},
     "output_type": "execute_result"
    }
   ],
   "source": [
    "True and False"
   ]
  },
  {
   "cell_type": "code",
   "execution_count": 11,
   "id": "af45d3f0",
   "metadata": {},
   "outputs": [
    {
     "data": {
      "text/plain": [
       "True"
      ]
     },
     "execution_count": 11,
     "metadata": {},
     "output_type": "execute_result"
    }
   ],
   "source": [
    "rent = 1700\n",
    "inc = 2000\n",
    "budget = 5000\n",
    "min_rent = 1500\n",
    "\n",
    "(min_rent<rent) and (rent+inc<budget)"
   ]
  },
  {
   "cell_type": "code",
   "execution_count": null,
   "id": "5a042fe3",
   "metadata": {},
   "outputs": [],
   "source": [
    "rent = int(input(\"Rent - \"))\n",
    "inc = int(input(\"Increament -\"))\n",
    "budget = int(input(\"Budget -\"))\n",
    "min_rent = int(input(\"Minimum Rent - \"))\n",
    "print(\"Can we afford it -> \" , (min_rent<rent+inc) and (rent+inc<budget) )"
   ]
  },
  {
   "cell_type": "code",
   "execution_count": null,
   "id": "865bd69f",
   "metadata": {},
   "outputs": [],
   "source": [
    "# Idea - \n",
    "#1. Stock Price\n",
    "#2. Fall\n",
    "\n",
    "Stock_Price = int(input('Stock Price -> '))\n",
    "Fall = int(input(\"Fall -> \"))\n",
    "Min_Loss = int(input(\"Minimum Loss -> \"))\n",
    "Min_Loss>=Fall and Fall<Stock_Price"
   ]
  },
  {
   "cell_type": "code",
   "execution_count": 1,
   "id": "0e902f7e",
   "metadata": {},
   "outputs": [
    {
     "name": "stdout",
     "output_type": "stream",
     "text": [
      "5\n",
      "Value of n: 5\n",
      "Type of n: <class 'str'>\n",
      "Type comparison result: True\n"
     ]
    }
   ],
   "source": [
    "n = input()\n",
    "print(\"Value of n:\", n)\n",
    "print(\"Type of n:\", type(n))\n",
    "print(\"Type comparison result:\", type(n) is type(\"good\"))\n"
   ]
  },
  {
   "cell_type": "code",
   "execution_count": 2,
   "id": "91046c7c",
   "metadata": {},
   "outputs": [],
   "source": [
    "#MEMBERSHIP"
   ]
  },
  {
   "cell_type": "code",
   "execution_count": 3,
   "id": "ae16032f",
   "metadata": {},
   "outputs": [],
   "source": [
    "#in or not in "
   ]
  },
  {
   "cell_type": "code",
   "execution_count": 8,
   "id": "d9d4fb1e",
   "metadata": {},
   "outputs": [
    {
     "name": "stdout",
     "output_type": "stream",
     "text": [
      "amit \n",
      "rahul\n",
      "pratik\n",
      "False\n"
     ]
    }
   ],
   "source": [
    "A = input()\n",
    "B = input()\n",
    "C = input()\n",
    "group = [ 'Dhoni' , 'Virat' , 'Raina' ]\n",
    "condition = A in group or B in group or C in group \n",
    "print(condition)"
   ]
  },
  {
   "cell_type": "code",
   "execution_count": 9,
   "id": "21fc959a",
   "metadata": {},
   "outputs": [],
   "source": [
    "#Bitwise Operators"
   ]
  },
  {
   "cell_type": "code",
   "execution_count": 10,
   "id": "8dfeeef4",
   "metadata": {},
   "outputs": [],
   "source": [
    "#Left and Right shift << >> \n",
    "#IN bitwise shift it si observed that the existing number either get multiplied or divided"
   ]
  },
  {
   "cell_type": "code",
   "execution_count": 20,
   "id": "8aa1297d",
   "metadata": {},
   "outputs": [
    {
     "name": "stdout",
     "output_type": "stream",
     "text": [
      "120\n"
     ]
    }
   ],
   "source": [
    "a = 30\n",
    "print(a << 2)"
   ]
  },
  {
   "cell_type": "code",
   "execution_count": 21,
   "id": "9afce4a0",
   "metadata": {},
   "outputs": [
    {
     "data": {
      "text/plain": [
       "'0b11110000'"
      ]
     },
     "execution_count": 21,
     "metadata": {},
     "output_type": "execute_result"
    }
   ],
   "source": [
    "bin(240)"
   ]
  },
  {
   "cell_type": "code",
   "execution_count": 22,
   "id": "320e342b",
   "metadata": {},
   "outputs": [
    {
     "data": {
      "text/plain": [
       "'240'"
      ]
     },
     "execution_count": 22,
     "metadata": {},
     "output_type": "execute_result"
    }
   ],
   "source": [
    "ascii(0b11110000)"
   ]
  },
  {
   "cell_type": "code",
   "execution_count": null,
   "id": "03ae6f7d",
   "metadata": {},
   "outputs": [],
   "source": [
    "#TYPE STRING ^^^^^"
   ]
  }
 ],
 "metadata": {
  "kernelspec": {
   "display_name": "Python 3 (ipykernel)",
   "language": "python",
   "name": "python3"
  },
  "language_info": {
   "codemirror_mode": {
    "name": "ipython",
    "version": 3
   },
   "file_extension": ".py",
   "mimetype": "text/x-python",
   "name": "python",
   "nbconvert_exporter": "python",
   "pygments_lexer": "ipython3",
   "version": "3.10.9"
  }
 },
 "nbformat": 4,
 "nbformat_minor": 5
}
