{
 "cells": [
  {
   "cell_type": "markdown",
   "id": "ac23ee65",
   "metadata": {},
   "source": [
    "### Indexing and string operations"
   ]
  },
  {
   "cell_type": "code",
   "execution_count": null,
   "id": "d599d434",
   "metadata": {},
   "outputs": [],
   "source": [
    "print(\"She's having a cat in her bag\")"
   ]
  },
  {
   "cell_type": "code",
   "execution_count": null,
   "id": "c7fb08ac",
   "metadata": {},
   "outputs": [],
   "source": [
    "var1 = \"She's having a cat in her bag\"\n",
    "var2 = \"Wow!\"\n",
    "z = var2 +\" \" + var1\n",
    "print(z)"
   ]
  },
  {
   "cell_type": "code",
   "execution_count": null,
   "id": "5871d7e7",
   "metadata": {},
   "outputs": [],
   "source": [
    "var1 = \"She's having a cat in her bag ,\"\n",
    "var1 = var1*5\n",
    "print(var1)"
   ]
  },
  {
   "cell_type": "code",
   "execution_count": null,
   "id": "63629f3b",
   "metadata": {},
   "outputs": [],
   "source": [
    "var1 = \"She's having a cat in her bag\"\n",
    "var2 = \"Wow!\""
   ]
  },
  {
   "cell_type": "code",
   "execution_count": 1,
   "id": "7fa057dc",
   "metadata": {},
   "outputs": [
    {
     "name": "stdout",
     "output_type": "stream",
     "text": [
      "The data type of 4 is <class 'int'>\n",
      "The data type of <class 'int'> is 4\n",
      "The data type of 4 is <class 'int'>\n"
     ]
    }
   ],
   "source": [
    "str1 = 'Hello'\n",
    "str2 = 'Python'\n",
    "str3 = 4\n",
    "\n",
    "print('The data type of {} is {}' .format(str3, type(str3)))\n",
    "print('The data type of {} is {}' .format(type(str3) , str3))\n",
    "print(f'The data type of {str3} is {type(str3)}')"
   ]
  },
  {
   "cell_type": "code",
   "execution_count": null,
   "id": "cd469d0b",
   "metadata": {},
   "outputs": [],
   "source": [
    "Calculus = input(\"Enter the Calculus marks -> \")\n",
    "English  = input(\"Enter the marks in English -> \")\n",
    "Economics = input(\"Enter the marks in Economics - > \")\n",
    "print()\n",
    "print(\"Your marks in calculus is {} whose data type is {}\".format(Calculus , type(Calculus)))\n",
    "print(f\"Your marks in English is {English } whose data type is {type(English )}\")\n",
    "print(\"Your marks in Economics is {} whose data type is {}\".format(Economics , type(Economics)))\n",
    "print()\n",
    "print()\n",
    "print(f\"Your marks in calculus is {Calculus} whose data type is {type(Calculus)} \\nYour marks in English is {English } whose data type is {type(English )} \\nYour marks in English is {Economics } whose data type is {type(Economics )}\")\n",
    "print()\n",
    "total = int(Calculus) + int(English) + int(Economics)\n",
    "print(\"Total marks is {} whose data type is {}\".format(total , type(total)))"
   ]
  },
  {
   "cell_type": "code",
   "execution_count": null,
   "id": "da7b9d09",
   "metadata": {},
   "outputs": [],
   "source": [
    "#To access a letter in string "
   ]
  },
  {
   "cell_type": "code",
   "execution_count": null,
   "id": "45d3e535",
   "metadata": {},
   "outputs": [],
   "source": [
    "name = \"Anaconda\"\n",
    "name [5]"
   ]
  },
  {
   "cell_type": "code",
   "execution_count": null,
   "id": "b2bd9d9b",
   "metadata": {
    "scrolled": true
   },
   "outputs": [],
   "source": [
    "name = \"Anaconda\"\n",
    "for i in range(8):\n",
    "    print(name[i] ,\" Indexed at - > \", i)"
   ]
  },
  {
   "cell_type": "code",
   "execution_count": null,
   "id": "1c1ee319",
   "metadata": {},
   "outputs": [],
   "source": [
    "name = \"Python is a high level language\"\n",
    "for i in range(0,len(name)):\n",
    "    print(name[i])"
   ]
  },
  {
   "cell_type": "code",
   "execution_count": null,
   "id": "fef74462",
   "metadata": {},
   "outputs": [],
   "source": [
    "name = 'Pummy'\n",
    "\n",
    "for c in name:\n",
    "    print(c)"
   ]
  },
  {
   "cell_type": "code",
   "execution_count": null,
   "id": "43ffecf3",
   "metadata": {},
   "outputs": [],
   "source": [
    "string = \"Python is a high level language\"\n",
    "print(string.upper())\n",
    "print(string.lower())\n",
    "print(string.title())"
   ]
  },
  {
   "cell_type": "code",
   "execution_count": null,
   "id": "2c9044bd",
   "metadata": {},
   "outputs": [],
   "source": [
    "print(string.isupper())"
   ]
  },
  {
   "cell_type": "code",
   "execution_count": null,
   "id": "75c49609",
   "metadata": {
    "scrolled": true
   },
   "outputs": [],
   "source": [
    "string = \"Python is a high level language\"\n",
    "print(string.startswith('Python'))\n",
    "print(string.startswith('Pythooonn'))\n",
    "print()\n",
    "print(string.endswith('language'))\n",
    "print(string.endswith('Object'))"
   ]
  },
  {
   "cell_type": "code",
   "execution_count": null,
   "id": "98d1abb3",
   "metadata": {},
   "outputs": [],
   "source": [
    "string = input('Enter a sentence -> ')\n",
    "if string.isupper() != True:\n",
    "    print(string.upper())\n",
    "else:\n",
    "    print(string)"
   ]
  },
  {
   "cell_type": "code",
   "execution_count": null,
   "id": "bba6af96",
   "metadata": {
    "scrolled": false
   },
   "outputs": [],
   "source": [
    "List = [input() , input() , input() , input()]\n",
    "print()\n",
    "for i in range(len(List)):\n",
    "    if List[i].isupper():\n",
    "        print(List[i])\n",
    "        print()\n",
    "    else:\n",
    "        print(List[i].upper())\n",
    "        print()"
   ]
  },
  {
   "cell_type": "code",
   "execution_count": null,
   "id": "e0c3ba66",
   "metadata": {},
   "outputs": [],
   "source": [
    "#Check weather a PANCARD is valid or not (WITH GIVEN CONDITIONS)"
   ]
  },
  {
   "cell_type": "code",
   "execution_count": null,
   "id": "57c6feb5",
   "metadata": {},
   "outputs": [],
   "source": [
    "PANCARD = input(\"Enter a Pan Card number -> \")\n",
    "if len(PANCARD) == 10 and (PANCARD[2].isupper() or PANCARD[2].isnumeric()):\n",
    "    print('\\tVALID PANCARD\\n\\t',PANCARD)\n",
    "else:\n",
    "    print(\"\\tInvalid PANCARD\")"
   ]
  },
  {
   "cell_type": "code",
   "execution_count": 7,
   "id": "c9d5e37a",
   "metadata": {},
   "outputs": [
    {
     "data": {
      "text/plain": [
       "True"
      ]
     },
     "execution_count": 7,
     "metadata": {},
     "output_type": "execute_result"
    }
   ],
   "source": [
    "string = 'Hello'\n",
    "string.isalpha()"
   ]
  },
  {
   "cell_type": "code",
   "execution_count": 5,
   "id": "5187ba46",
   "metadata": {},
   "outputs": [
    {
     "data": {
      "text/plain": [
       "False"
      ]
     },
     "execution_count": 5,
     "metadata": {},
     "output_type": "execute_result"
    }
   ],
   "source": [
    "string = 'Hello '\n",
    "string.isalpha()\n",
    "\n",
    "#Because their is a space"
   ]
  },
  {
   "cell_type": "code",
   "execution_count": 6,
   "id": "bff68ba0",
   "metadata": {},
   "outputs": [
    {
     "data": {
      "text/plain": [
       "True"
      ]
     },
     "execution_count": 6,
     "metadata": {},
     "output_type": "execute_result"
    }
   ],
   "source": [
    "string = '12454'\n",
    "string.isnumeric()"
   ]
  }
 ],
 "metadata": {
  "kernelspec": {
   "display_name": "Python 3 (ipykernel)",
   "language": "python",
   "name": "python3"
  },
  "language_info": {
   "codemirror_mode": {
    "name": "ipython",
    "version": 3
   },
   "file_extension": ".py",
   "mimetype": "text/x-python",
   "name": "python",
   "nbconvert_exporter": "python",
   "pygments_lexer": "ipython3",
   "version": "3.10.9"
  }
 },
 "nbformat": 4,
 "nbformat_minor": 5
}
