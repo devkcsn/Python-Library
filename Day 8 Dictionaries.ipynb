{
 "cells": [
  {
   "cell_type": "code",
   "execution_count": null,
   "id": "1ae966c1",
   "metadata": {},
   "outputs": [],
   "source": [
    "l = ['Purple' , 'Orange' ,'orange' , 'Green']\n",
    "\n",
    "t = tuple(l) \n",
    "\n",
    "t2 = list(t) \n",
    "\n",
    "t2.append(\"Barcode\")\n",
    "\n",
    "print(t2)"
   ]
  },
  {
   "cell_type": "code",
   "execution_count": null,
   "id": "5e214d45",
   "metadata": {},
   "outputs": [],
   "source": [
    "s = set(l)\n",
    "print (s)"
   ]
  },
  {
   "cell_type": "code",
   "execution_count": null,
   "id": "a27176b4",
   "metadata": {},
   "outputs": [],
   "source": [
    "d = {1: 'square' , 2: 'circle' ,3: 'triangle' , 1: 'rectangle'}\n",
    "d[1]\n",
    "\n",
    "#The last value get overwrited on the values before"
   ]
  },
  {
   "cell_type": "code",
   "execution_count": null,
   "id": "35075462",
   "metadata": {},
   "outputs": [],
   "source": [
    "d = {1: 'triangle' , 2: 'circle' , 3: 'triangle'}\n",
    "d[1]\n",
    "\n",
    "#If keys are provided then sets can hold similar values in different keys"
   ]
  },
  {
   "cell_type": "code",
   "execution_count": null,
   "id": "4e750535",
   "metadata": {},
   "outputs": [],
   "source": [
    "d = {1: 'triangle' , 2: 'circle' , 1: 'triangle'}\n",
    "d[1]"
   ]
  },
  {
   "cell_type": "code",
   "execution_count": null,
   "id": "e05ad9ce",
   "metadata": {},
   "outputs": [],
   "source": [
    "s = {1: '1' , 2: '2' , 3: '3'}"
   ]
  },
  {
   "cell_type": "code",
   "execution_count": null,
   "id": "d3476737",
   "metadata": {},
   "outputs": [],
   "source": [
    "d = {}\n",
    "d[0] = 2\n",
    "d[1] = 4\n",
    "d[2] = 5\n",
    "d[3] = 'RAIN'\n",
    "d[4] = False\n",
    "\n",
    "print(len(d))\n",
    "\n",
    "print(d)"
   ]
  },
  {
   "cell_type": "code",
   "execution_count": null,
   "id": "0b103d49",
   "metadata": {},
   "outputs": [],
   "source": [
    "d = {}\n",
    "for i in range(1,51):\n",
    "    d[i] = input()\n",
    "print(len(d))\n",
    "print(d)"
   ]
  },
  {
   "cell_type": "code",
   "execution_count": 25,
   "id": "5460857d",
   "metadata": {},
   "outputs": [
    {
     "name": "stdout",
     "output_type": "stream",
     "text": [
      "{(1,): '1', (2,): '2', (3,): '3', (4,): '4'}\n"
     ]
    }
   ],
   "source": [
    "d = {}\n",
    "for i in range(1,5):\n",
    "    t = (i, )\n",
    "    d[t] = str(i)\n",
    "print(d)\n",
    "\n",
    "#Integers are not convertable to tuple bcz int are iterables"
   ]
  },
  {
   "cell_type": "code",
   "execution_count": 42,
   "id": "02750774",
   "metadata": {},
   "outputs": [],
   "source": [
    "# d = {}\n",
    "# for i in range(1,5):\n",
    "#     t = [i]\n",
    "#     d[t] = str(i)\n",
    "# print(d)"
   ]
  },
  {
   "cell_type": "code",
   "execution_count": 41,
   "id": "eaceac37",
   "metadata": {},
   "outputs": [],
   "source": [
    "# d = {}\n",
    "# for i in range(1,51):\n",
    "#     t = {i}\n",
    "#     d[t] = str(i)\n",
    "# # print(d)"
   ]
  },
  {
   "cell_type": "code",
   "execution_count": 39,
   "id": "f9765faa",
   "metadata": {},
   "outputs": [],
   "source": [
    "# i = 2\n",
    "# tuple(i)\n",
    "# print(i)"
   ]
  },
  {
   "cell_type": "code",
   "execution_count": 45,
   "id": "7b2cfa99",
   "metadata": {},
   "outputs": [],
   "source": [
    "#Another way to write a dictionay"
   ]
  },
  {
   "cell_type": "code",
   "execution_count": 50,
   "id": "93ae51e8",
   "metadata": {},
   "outputs": [
    {
     "name": "stdout",
     "output_type": "stream",
     "text": [
      "<class 'dict'>\n"
     ]
    }
   ],
   "source": [
    "MLB_TEAM = dict([ ('Colorado' , 'Rockies'),\n",
    "                  ('Boston' , 'Red Sox'),\n",
    "                  ('Minnesota' , 'Twins'),\n",
    "                  ('Milwaukee' , 'Brewers'),\n",
    "                  ('Seattle' , 'Mariners'),\n",
    "                ])\n",
    "\n",
    "print(type(MLB_TEAM))"
   ]
  },
  {
   "cell_type": "code",
   "execution_count": 51,
   "id": "3cec4efa",
   "metadata": {},
   "outputs": [],
   "source": [
    "#Another way to write a dictionay"
   ]
  },
  {
   "cell_type": "code",
   "execution_count": 80,
   "id": "6c822217",
   "metadata": {},
   "outputs": [
    {
     "data": {
      "text/plain": [
       "'Low Level'"
      ]
     },
     "execution_count": 80,
     "metadata": {},
     "output_type": "execute_result"
    }
   ],
   "source": [
    "Language = dict(  Python = 'High Level',\n",
    "                  C = 'Low Level',\n",
    "                  Mojo = 'High level',\n",
    "                  Java = 'Low Level')\n",
    "\n",
    "Language['Java']\n"
   ]
  },
  {
   "cell_type": "code",
   "execution_count": 83,
   "id": "79f39e63",
   "metadata": {},
   "outputs": [
    {
     "name": "stdout",
     "output_type": "stream",
     "text": [
      "{'calculus': '20 June 23', 'Maths': '23 June 23', 'English': '22 June 23', 'C': '23 June 23', 'C++': '7 June 23', 'Physics': '25 June 23', 'LPP': None}\n"
     ]
    }
   ],
   "source": [
    "datesheet = dict(calculus = '20 June 23',\n",
    "                  Maths = '23 June 23',\n",
    "                  English = '22 June 23',\n",
    "                  C = '23 June 23'  )\n",
    "\n",
    "datesheet['C++'] = '7 June 23'\n",
    "datesheet['Physics'] = '25 June 23'\n",
    "datesheet['LPP'] = None\n",
    "print(datesheet)"
   ]
  },
  {
   "cell_type": "code",
   "execution_count": 84,
   "id": "e4290147",
   "metadata": {},
   "outputs": [
    {
     "data": {
      "text/plain": [
       "NoneType"
      ]
     },
     "execution_count": 84,
     "metadata": {},
     "output_type": "execute_result"
    }
   ],
   "source": [
    "type(None)"
   ]
  },
  {
   "cell_type": "code",
   "execution_count": 85,
   "id": "83a6e377",
   "metadata": {},
   "outputs": [
    {
     "data": {
      "text/plain": [
       "False"
      ]
     },
     "execution_count": 85,
     "metadata": {},
     "output_type": "execute_result"
    }
   ],
   "source": [
    "'Python' in datesheet"
   ]
  },
  {
   "cell_type": "code",
   "execution_count": 86,
   "id": "bb9abc49",
   "metadata": {},
   "outputs": [
    {
     "data": {
      "text/plain": [
       "True"
      ]
     },
     "execution_count": 86,
     "metadata": {},
     "output_type": "execute_result"
    }
   ],
   "source": [
    "'LPP' in datesheet"
   ]
  },
  {
   "cell_type": "code",
   "execution_count": 87,
   "id": "128b29db",
   "metadata": {},
   "outputs": [
    {
     "data": {
      "text/plain": [
       "True"
      ]
     },
     "execution_count": 87,
     "metadata": {},
     "output_type": "execute_result"
    }
   ],
   "source": [
    "'C   ' .strip() in datesheet"
   ]
  },
  {
   "cell_type": "code",
   "execution_count": 94,
   "id": "b158d37e",
   "metadata": {},
   "outputs": [],
   "source": [
    "# del datesheet['C' , 'English' , 'C++']\n",
    "#Cannot delete multiple keys"
   ]
  },
  {
   "cell_type": "code",
   "execution_count": 92,
   "id": "39f9e3c3",
   "metadata": {},
   "outputs": [
    {
     "name": "stdout",
     "output_type": "stream",
     "text": [
      "{'calculus': '20 June 23', 'Maths': '23 June 23', 'English': '22 June 23', 'C++': '7 June 23', 'Physics': '25 June 23', 'LPP': None}\n"
     ]
    }
   ],
   "source": [
    "print(datesheet)"
   ]
  },
  {
   "cell_type": "code",
   "execution_count": 100,
   "id": "0a2e9bcf",
   "metadata": {},
   "outputs": [
    {
     "name": "stdout",
     "output_type": "stream",
     "text": [
      "True\n",
      "False\n"
     ]
    }
   ],
   "source": [
    "#Possible\n",
    "d1 = {0: 'a' , 1: 'b' , 2: 'c' , 3:'d'}\n",
    "d2 = {(1,1): 'a' , (1,2): 'b', (2,1): 'c', (2,2): 'd'}\n",
    "\n",
    "print(d1[0] == d2[(1,1)])\n",
    "print(d1[0] > d2[(1,1)])\n",
    "\n",
    "# Not Possible\n",
    "# d3 = {[1,1]: 'a' , [1,2]: 'b', [2,1]: 'c' , [2,2]: 'd'}"
   ]
  },
  {
   "cell_type": "code",
   "execution_count": 107,
   "id": "d33bc9f7",
   "metadata": {},
   "outputs": [],
   "source": [
    "#Clearing a dictionary"
   ]
  },
  {
   "cell_type": "code",
   "execution_count": 108,
   "id": "740ea30a",
   "metadata": {},
   "outputs": [
    {
     "name": "stdout",
     "output_type": "stream",
     "text": [
      "{}\n"
     ]
    }
   ],
   "source": [
    "d = {1: '1' , 'a': 'Apple'}\n",
    "d['a']\n",
    "d[1]\n",
    "\n",
    "d.clear()\n",
    "print(d)"
   ]
  },
  {
   "cell_type": "code",
   "execution_count": 109,
   "id": "c63e80f5",
   "metadata": {},
   "outputs": [],
   "source": [
    "#To get a value in dictionary "
   ]
  },
  {
   "cell_type": "code",
   "execution_count": 157,
   "id": "6bc4ec22",
   "metadata": {},
   "outputs": [
    {
     "name": "stdout",
     "output_type": "stream",
     "text": [
      "Not found in the key\n",
      "None\n"
     ]
    }
   ],
   "source": [
    "d = {0: 'a' , 1: 'b' , 2: 'c' , 3:'d'}\n",
    "print(d.get('B' , 'Not found in the key'))\n",
    "print(d.get('a'))"
   ]
  },
  {
   "cell_type": "code",
   "execution_count": 127,
   "id": "7cd19147",
   "metadata": {},
   "outputs": [],
   "source": [
    "#to get access to a key or value"
   ]
  },
  {
   "cell_type": "code",
   "execution_count": 158,
   "id": "0805b6b9",
   "metadata": {},
   "outputs": [
    {
     "data": {
      "text/plain": [
       "dict_keys([0, 1, 2, 3])"
      ]
     },
     "execution_count": 158,
     "metadata": {},
     "output_type": "execute_result"
    }
   ],
   "source": [
    "d = {0: 'a' , 1: 'b' , 2: 'c' , 3:'d'}\n",
    "d.keys()"
   ]
  },
  {
   "cell_type": "code",
   "execution_count": 159,
   "id": "d233fc3c",
   "metadata": {},
   "outputs": [
    {
     "name": "stdout",
     "output_type": "stream",
     "text": [
      "0\n",
      "1\n",
      "2\n",
      "3\n"
     ]
    }
   ],
   "source": [
    "for keys in d:\n",
    "    print(keys)"
   ]
  },
  {
   "cell_type": "code",
   "execution_count": 160,
   "id": "99968439",
   "metadata": {},
   "outputs": [
    {
     "data": {
      "text/plain": [
       "dict_values(['a', 'b', 'c', 'd'])"
      ]
     },
     "execution_count": 160,
     "metadata": {},
     "output_type": "execute_result"
    }
   ],
   "source": [
    "d = {0: 'a' , 1: 'b' , 2: 'c' , 3:'d'}\n",
    "d.values()"
   ]
  },
  {
   "cell_type": "code",
   "execution_count": 161,
   "id": "f030bd20",
   "metadata": {},
   "outputs": [
    {
     "name": "stdout",
     "output_type": "stream",
     "text": [
      "a\n",
      "b\n",
      "c\n",
      "d\n"
     ]
    }
   ],
   "source": [
    "for values in d.values():\n",
    "    print(values)"
   ]
  },
  {
   "cell_type": "code",
   "execution_count": 162,
   "id": "ec4d09bd",
   "metadata": {},
   "outputs": [
    {
     "data": {
      "text/plain": [
       "dict_items([(0, 'a'), (1, 'b'), (2, 'c'), (3, 'd')])"
      ]
     },
     "execution_count": 162,
     "metadata": {},
     "output_type": "execute_result"
    }
   ],
   "source": [
    "d = {0: 'a' , 1: 'b' , 2: 'c' , 3:'d'}\n",
    "d.items()"
   ]
  },
  {
   "cell_type": "code",
   "execution_count": 163,
   "id": "f01abaeb",
   "metadata": {},
   "outputs": [
    {
     "name": "stdout",
     "output_type": "stream",
     "text": [
      "Keys -> 0 and values -> a\n",
      "Keys -> 1 and values -> b\n",
      "Keys -> 2 and values -> c\n",
      "Keys -> 3 and values -> d\n"
     ]
    }
   ],
   "source": [
    "for k , v in d.items():\n",
    "    print(f\"Keys -> {k} and values -> {v}\")"
   ]
  },
  {
   "cell_type": "code",
   "execution_count": 150,
   "id": "f6f30544",
   "metadata": {},
   "outputs": [],
   "source": [
    "#Question \n",
    "# 1.40\n",
    "# 2. Not Exist - d -> 40\n",
    "# 3. Exists"
   ]
  },
  {
   "cell_type": "code",
   "execution_count": 175,
   "id": "05bc246c",
   "metadata": {},
   "outputs": [
    {
     "data": {
      "text/plain": [
       "'Not Found'"
      ]
     },
     "execution_count": 175,
     "metadata": {},
     "output_type": "execute_result"
    }
   ],
   "source": [
    "#This will show error if key not found ---> d.pop('z')\n",
    "#Use this instead of this to get a custom message.\n",
    "d = {0: 'a' , 1: 'b' , 2: 'c' , 3:'d'}\n",
    "d.pop('z' , 'Not Found')"
   ]
  },
  {
   "cell_type": "code",
   "execution_count": 176,
   "id": "21782123",
   "metadata": {},
   "outputs": [
    {
     "name": "stdout",
     "output_type": "stream",
     "text": [
      "{0: 'a', 1: 'b', 2: 'c', 3: 'd'}\n"
     ]
    }
   ],
   "source": [
    "print(d)"
   ]
  },
  {
   "cell_type": "code",
   "execution_count": 178,
   "id": "e1af89cb",
   "metadata": {},
   "outputs": [
    {
     "data": {
      "text/plain": [
       "('e', 500)"
      ]
     },
     "execution_count": 178,
     "metadata": {},
     "output_type": "execute_result"
    }
   ],
   "source": [
    "d = {0: 'a' , 1: 'b' , 2: 'c' , 3:'d'}\n",
    "d['e'] = 500\n",
    "d.popitem()"
   ]
  },
  {
   "cell_type": "code",
   "execution_count": 179,
   "id": "745b7380",
   "metadata": {},
   "outputs": [
    {
     "name": "stdout",
     "output_type": "stream",
     "text": [
      "{0: 'a', 1: 'b', 2: 'c', 3: 'd'}\n"
     ]
    }
   ],
   "source": [
    "print(d)"
   ]
  },
  {
   "cell_type": "code",
   "execution_count": 181,
   "id": "7a78eb2c",
   "metadata": {},
   "outputs": [],
   "source": [
    "d1 = {0: 'a' , 1: 'b' , 2: 'c' , 3:'d'}\n",
    "d2 = {(1,1): 'a' , (1,2): 'b', (2,1): 'c', (2,2): 'd'}\n",
    "\n",
    "d1.update(d2)\n",
    "d1.update([('b' , 200),('d' ,400)])\n",
    "d1.update(b=200,d=400)"
   ]
  },
  {
   "cell_type": "code",
   "execution_count": 182,
   "id": "c2193e11",
   "metadata": {},
   "outputs": [
    {
     "name": "stdout",
     "output_type": "stream",
     "text": [
      "{0: 'a', 1: 'b', 2: 'c', 3: 'd', (1, 1): 'a', (1, 2): 'b', (2, 1): 'c', (2, 2): 'd', 'b': 200, 'd': 400}\n"
     ]
    }
   ],
   "source": [
    "print(d1)"
   ]
  }
 ],
 "metadata": {
  "kernelspec": {
   "display_name": "Python 3 (ipykernel)",
   "language": "python",
   "name": "python3"
  },
  "language_info": {
   "codemirror_mode": {
    "name": "ipython",
    "version": 3
   },
   "file_extension": ".py",
   "mimetype": "text/x-python",
   "name": "python",
   "nbconvert_exporter": "python",
   "pygments_lexer": "ipython3",
   "version": "3.10.9"
  }
 },
 "nbformat": 4,
 "nbformat_minor": 5
}
