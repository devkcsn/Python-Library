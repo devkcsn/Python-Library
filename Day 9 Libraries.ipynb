{
 "cells": [
  {
   "cell_type": "markdown",
   "id": "efaff063",
   "metadata": {},
   "source": [
    "### Numpy"
   ]
  },
  {
   "cell_type": "code",
   "execution_count": 38,
   "id": "cba7184c",
   "metadata": {},
   "outputs": [],
   "source": [
    "#To install numpy"
   ]
  },
  {
   "cell_type": "code",
   "execution_count": 39,
   "id": "034933c6",
   "metadata": {
    "scrolled": true
   },
   "outputs": [
    {
     "name": "stdout",
     "output_type": "stream",
     "text": [
      "Defaulting to user installation because normal site-packages is not writeable\n",
      "Requirement already satisfied: numpy in c:\\programdata\\anaconda3\\lib\\site-packages (1.23.5)\n"
     ]
    }
   ],
   "source": [
    "!pip install numpy                                   "
   ]
  },
  {
   "cell_type": "code",
   "execution_count": 2,
   "id": "7e1f8921",
   "metadata": {},
   "outputs": [],
   "source": [
    "import numpy as np"
   ]
  },
  {
   "cell_type": "code",
   "execution_count": 41,
   "id": "335beb6e",
   "metadata": {},
   "outputs": [
    {
     "name": "stdout",
     "output_type": "stream",
     "text": [
      "[1 2 3]\n",
      "<class 'numpy.ndarray'>\n",
      "3\n"
     ]
    }
   ],
   "source": [
    "arr = np.array([1 ,2 , 3])\n",
    "print(arr)\n",
    "print(type(arr))\n",
    "print(len(arr))"
   ]
  },
  {
   "cell_type": "code",
   "execution_count": 42,
   "id": "3d17b356",
   "metadata": {},
   "outputs": [
    {
     "name": "stdout",
     "output_type": "stream",
     "text": [
      "['Pratik' 'Bhoot' 'Redemption' '1']\n",
      "<class 'numpy.ndarray'>\n"
     ]
    }
   ],
   "source": [
    "arr1 = np.array(['Pratik' , 'Bhoot' , 'Redemption' , 1 ])\n",
    "print(arr1)\n",
    "print(type(arr1))"
   ]
  },
  {
   "cell_type": "code",
   "execution_count": 43,
   "id": "2f689b17",
   "metadata": {},
   "outputs": [],
   "source": [
    "#TO force datatype"
   ]
  },
  {
   "cell_type": "code",
   "execution_count": 44,
   "id": "892ee60a",
   "metadata": {},
   "outputs": [
    {
     "name": "stdout",
     "output_type": "stream",
     "text": [
      "[7 1 2 3]\n",
      "<class 'numpy.ndarray'>\n"
     ]
    }
   ],
   "source": [
    "arr1 = np.array([ 7.2 ,1 ,2 ,3 ], dtype = int)\n",
    "print(arr1)\n",
    "print(type(arr1))"
   ]
  },
  {
   "cell_type": "code",
   "execution_count": 68,
   "id": "97555b83",
   "metadata": {},
   "outputs": [
    {
     "name": "stdout",
     "output_type": "stream",
     "text": [
      "[ 0  2  4  6  8 10 12 14 16 18 20]\n"
     ]
    }
   ],
   "source": [
    "l = []\n",
    "for i in range(0,21,2):\n",
    "    l.append(i)\n",
    "arr = np.array(l)\n",
    "print(arr)"
   ]
  },
  {
   "cell_type": "code",
   "execution_count": 83,
   "id": "a9cf0189",
   "metadata": {},
   "outputs": [
    {
     "data": {
      "text/plain": [
       "array([0, 0, 0, 0, 0, 0, 0, 0, 0, 0])"
      ]
     },
     "execution_count": 83,
     "metadata": {},
     "output_type": "execute_result"
    }
   ],
   "source": [
    "np.zeros(10 , dtype = int)"
   ]
  },
  {
   "cell_type": "code",
   "execution_count": 85,
   "id": "e54505e2",
   "metadata": {},
   "outputs": [
    {
     "name": "stdout",
     "output_type": "stream",
     "text": [
      "[0 0 0 0 0 0 0 0 0 0 0]\n"
     ]
    }
   ],
   "source": [
    "arr = []\n",
    "for i in range(11):\n",
    "    arr.append(0)\n",
    "nump = np.array(arr)\n",
    "print(nump)"
   ]
  },
  {
   "cell_type": "code",
   "execution_count": 88,
   "id": "c6e3736d",
   "metadata": {},
   "outputs": [
    {
     "name": "stdout",
     "output_type": "stream",
     "text": [
      "[1 1 1 1 1 1 1 1 1 1]\n",
      "<class 'numpy.ndarray'>\n"
     ]
    }
   ],
   "source": [
    "a = np.ones(10 , dtype = int)\n",
    "print(a)\n",
    "print(type(a))"
   ]
  },
  {
   "cell_type": "code",
   "execution_count": 101,
   "id": "fdb085a2",
   "metadata": {},
   "outputs": [
    {
     "data": {
      "text/plain": [
       "array([[1, 0, 0, 0, 0, 0, 0, 0],\n",
       "       [0, 1, 0, 0, 0, 0, 0, 0],\n",
       "       [0, 0, 1, 0, 0, 0, 0, 0],\n",
       "       [0, 0, 0, 1, 0, 0, 0, 0],\n",
       "       [0, 0, 0, 0, 1, 0, 0, 0],\n",
       "       [0, 0, 0, 0, 0, 1, 0, 0],\n",
       "       [0, 0, 0, 0, 0, 0, 1, 0],\n",
       "       [0, 0, 0, 0, 0, 0, 0, 1]])"
      ]
     },
     "execution_count": 101,
     "metadata": {},
     "output_type": "execute_result"
    }
   ],
   "source": [
    "np.eye((8) , dtype = int)"
   ]
  },
  {
   "cell_type": "code",
   "execution_count": 111,
   "id": "bd6bd2a9",
   "metadata": {},
   "outputs": [
    {
     "name": "stdout",
     "output_type": "stream",
     "text": [
      "[['*' '*' '*']\n",
      " ['*' '*' '*']\n",
      " ['*' '*' '*']]\n"
     ]
    }
   ],
   "source": [
    "arr6 = np.full((3,3) , '*')\n",
    "print(arr6)"
   ]
  },
  {
   "cell_type": "code",
   "execution_count": 115,
   "id": "6afc20af",
   "metadata": {},
   "outputs": [
    {
     "data": {
      "text/plain": [
       "array([0. , 0.1, 0.2, 0.3, 0.4, 0.5, 0.6, 0.7, 0.8, 0.9, 1. ])"
      ]
     },
     "execution_count": 115,
     "metadata": {},
     "output_type": "execute_result"
    }
   ],
   "source": [
    "np.linspace(0,1,11)"
   ]
  },
  {
   "cell_type": "code",
   "execution_count": 117,
   "id": "a12d2206",
   "metadata": {},
   "outputs": [
    {
     "data": {
      "text/plain": [
       "array([[19,  7,  0,  1,  0],\n",
       "       [13,  8,  9,  4, 13],\n",
       "       [15, 10,  9,  4, 18]])"
      ]
     },
     "execution_count": 117,
     "metadata": {},
     "output_type": "execute_result"
    }
   ],
   "source": [
    "np.random.seed(1000)\n",
    "\n",
    "np.random.randint(0,20, (3,5))"
   ]
  },
  {
   "cell_type": "code",
   "execution_count": 124,
   "id": "be019059",
   "metadata": {},
   "outputs": [
    {
     "name": "stdout",
     "output_type": "stream",
     "text": [
      "2\n",
      "(3, 5)\n",
      "15\n",
      "[[ 0  3  3 11  3]\n",
      " [ 6  4  2  4  4]\n",
      " [18 17 12 15 18]]\n"
     ]
    }
   ],
   "source": [
    "x = np.random.randint(0,20, (3,5))\n",
    "print(x.ndim)\n",
    "print(x.shape)\n",
    "print(x.size)\n",
    "print(x)"
   ]
  },
  {
   "cell_type": "code",
   "execution_count": 148,
   "id": "983f8c56",
   "metadata": {},
   "outputs": [
    {
     "name": "stdout",
     "output_type": "stream",
     "text": [
      "[[3 0 5]\n",
      " [3 4 9]\n",
      " [8 1 5]]\n"
     ]
    },
    {
     "data": {
      "text/plain": [
       "array([[4, 9],\n",
       "       [1, 5]])"
      ]
     },
     "execution_count": 148,
     "metadata": {},
     "output_type": "execute_result"
    }
   ],
   "source": [
    "np.random.seed(45)\n",
    "x = np.random.randint(0,10, (3,3))\n",
    "print(x)\n",
    "x[1:4 , 1:10]"
   ]
  },
  {
   "cell_type": "code",
   "execution_count": 162,
   "id": "469a861b",
   "metadata": {},
   "outputs": [
    {
     "data": {
      "text/plain": [
       "array([[12, 12],\n",
       "       [ 9, 14],\n",
       "       [14, 14],\n",
       "       [16, 14],\n",
       "       [17, 12],\n",
       "       [15,  7],\n",
       "       [12, 14],\n",
       "       [19, 19]])"
      ]
     },
     "execution_count": 162,
     "metadata": {},
     "output_type": "execute_result"
    }
   ],
   "source": [
    "arr = np.random.randint(5,20 , (4,4))\n",
    "arr.reshape(8,2)"
   ]
  },
  {
   "cell_type": "code",
   "execution_count": null,
   "id": "f56786d4",
   "metadata": {},
   "outputs": [],
   "source": [
    "#axis = o for rows and axis = 1 is for coulumn"
   ]
  },
  {
   "cell_type": "code",
   "execution_count": 167,
   "id": "b259c330",
   "metadata": {},
   "outputs": [],
   "source": [
    "# x= np.eye(4)\n",
    "# y = np.zeros(9 , dtype = int).reshape(3,3)\n",
    "\n",
    "# print(np.concatenate([x,y]))"
   ]
  },
  {
   "cell_type": "code",
   "execution_count": 169,
   "id": "e1e528e2",
   "metadata": {},
   "outputs": [],
   "source": [
    "x = [1,2,3]\n",
    "y = [ \n",
    "[5,6,7],\n",
    "[8,15,8]\n",
    "]\n",
    "\n",
    "# vstack - axis\n",
    "# hstack - axis"
   ]
  },
  {
   "cell_type": "code",
   "execution_count": 171,
   "id": "a12bf673",
   "metadata": {},
   "outputs": [
    {
     "data": {
      "text/plain": [
       "array([[ 5,  6,  7],\n",
       "       [ 8, 15,  8],\n",
       "       [ 1,  2,  3]])"
      ]
     },
     "execution_count": 171,
     "metadata": {},
     "output_type": "execute_result"
    }
   ],
   "source": [
    "np.vstack([y,x])"
   ]
  },
  {
   "cell_type": "code",
   "execution_count": 177,
   "id": "af99b6d9",
   "metadata": {},
   "outputs": [
    {
     "name": "stdout",
     "output_type": "stream",
     "text": [
      "[0 2]\n"
     ]
    }
   ],
   "source": [
    "x = np.array([0,1,2,3,4,5,6])\n",
    "\n",
    "print(x[2*x == x**2])"
   ]
  },
  {
   "cell_type": "code",
   "execution_count": 189,
   "id": "4395d009",
   "metadata": {},
   "outputs": [
    {
     "name": "stdout",
     "output_type": "stream",
     "text": [
      "True\n"
     ]
    },
    {
     "data": {
      "text/plain": [
       "False"
      ]
     },
     "execution_count": 189,
     "metadata": {},
     "output_type": "execute_result"
    }
   ],
   "source": [
    "x = np.array([0,1,2,3,4,5,6])\n",
    "\n",
    "print(np.any(x>2))\n",
    "(np.all(x<6))"
   ]
  },
  {
   "cell_type": "code",
   "execution_count": 201,
   "id": "fd0353aa",
   "metadata": {},
   "outputs": [
    {
     "name": "stdout",
     "output_type": "stream",
     "text": [
      "True\n",
      "\n",
      "True\n",
      "\n",
      "[[ 9 17 18  8]\n",
      " [15  7 16 10]\n",
      " [12 18 16 14]\n",
      " [ 7 10 13  5]]\n"
     ]
    }
   ],
   "source": [
    "arr = np.random.randint(5,20 , (4,4))\n",
    "\n",
    "print(np.all(x>-2))\n",
    "print()\n",
    "print(np.any(x**2 == x*2))\n",
    "print()\n",
    "print(arr)"
   ]
  },
  {
   "cell_type": "markdown",
   "id": "bc875d57",
   "metadata": {},
   "source": [
    "#### Splitting"
   ]
  },
  {
   "cell_type": "code",
   "execution_count": 4,
   "id": "89973be2",
   "metadata": {},
   "outputs": [
    {
     "name": "stdout",
     "output_type": "stream",
     "text": [
      "[1 2] [ 3 99] [99  3]\n"
     ]
    }
   ],
   "source": [
    "x = [1,2,3,99,99,3,2,1]\n",
    "x1 ,x2,x3, x4 = np.split(x, [2,4,6])\n",
    "print(x1,x2,x3)"
   ]
  },
  {
   "cell_type": "code",
   "execution_count": 6,
   "id": "fdf37cb3",
   "metadata": {},
   "outputs": [
    {
     "data": {
      "text/plain": [
       "array([5, 5, 5, 5, 5, 5, 5, 5, 5, 5, 5, 5, 5, 5, 5, 5, 5, 5, 5, 5])"
      ]
     },
     "execution_count": 6,
     "metadata": {},
     "output_type": "execute_result"
    }
   ],
   "source": [
    "np.ones(20 ,dtype = int)*5"
   ]
  },
  {
   "cell_type": "code",
   "execution_count": 9,
   "id": "572aae94",
   "metadata": {},
   "outputs": [
    {
     "name": "stdout",
     "output_type": "stream",
     "text": [
      "[ 1  2  3 99 99  3  2  1]\n",
      "\n",
      "[ 1  2  3 99 99  3  2  1]\n"
     ]
    }
   ],
   "source": [
    "print(np.absolute(x))\n",
    "print()\n",
    "\n",
    "print(np.abs(x))\n"
   ]
  },
  {
   "cell_type": "markdown",
   "id": "168822b7",
   "metadata": {},
   "source": [
    "#### Absolute function"
   ]
  },
  {
   "cell_type": "code",
   "execution_count": 15,
   "id": "e24a129e",
   "metadata": {},
   "outputs": [
    {
     "name": "stdout",
     "output_type": "stream",
     "text": [
      "[100  99  98  97  96  95  94  93  92  91  90  89  88  87  86  85  84  83\n",
      "  82  81  80  79  78  77  76  75  74  73  72  71  70  69  68  67  66  65\n",
      "  64  63  62  61  60  59  58  57  56  55  54  53  52  51  50  49  48  47\n",
      "  46  45  44  43  42  41  40  39  38  37  36  35  34  33  32  31  30  29\n",
      "  28  27  26  25  24  23  22  21  20  19  18  17  16  15  14  13  12  11\n",
      "  10   9   8   7   6   5   4   3   2   1   0   1   2   3   4   5   6   7\n",
      "   8   9  10  11  12  13  14  15  16  17  18  19  20  21  22  23  24  25\n",
      "  26  27  28  29  30  31  32  33  34  35  36  37  38  39  40  41  42  43\n",
      "  44  45  46  47  48  49  50  51  52  53  54  55  56  57  58  59  60  61\n",
      "  62  63  64  65  66  67  68  69  70  71  72  73  74  75  76  77  78  79\n",
      "  80  81  82  83  84  85  86  87  88  89  90  91  92  93  94  95  96  97\n",
      "  98  99 100]\n"
     ]
    }
   ],
   "source": [
    "arr = np.array([])\n",
    "l= []\n",
    "for i in range(-100,101):\n",
    "    l.append(i)\n",
    "print(np.absolute(l))"
   ]
  },
  {
   "cell_type": "code",
   "execution_count": 16,
   "id": "1b4bf751",
   "metadata": {},
   "outputs": [
    {
     "name": "stdout",
     "output_type": "stream",
     "text": [
      "[100  99  98  97  96  95  94  93  92  91  90  89  88  87  86  85  84  83\n",
      "  82  81  80  79  78  77  76  75  74  73  72  71  70  69  68  67  66  65\n",
      "  64  63  62  61  60  59  58  57  56  55  54  53  52  51  50  49  48  47\n",
      "  46  45  44  43  42  41  40  39  38  37  36  35  34  33  32  31  30  29\n",
      "  28  27  26  25  24  23  22  21  20  19  18  17  16  15  14  13  12  11\n",
      "  10   9   8   7   6   5   4   3   2   1   0   1   2   3   4   5   6   7\n",
      "   8   9  10  11  12  13  14  15  16  17  18  19  20  21  22  23  24  25\n",
      "  26  27  28  29  30  31  32  33  34  35  36  37  38  39  40  41  42  43\n",
      "  44  45  46  47  48  49  50  51  52  53  54  55  56  57  58  59  60  61\n",
      "  62  63  64  65  66  67  68  69  70  71  72  73  74  75  76  77  78  79\n",
      "  80  81  82  83  84  85  86  87  88  89  90  91  92  93  94  95  96  97\n",
      "  98  99 100]\n"
     ]
    }
   ],
   "source": [
    "arr = np.array([])\n",
    "l= []\n",
    "for i in range(-100,101):\n",
    "    l.append(i)\n",
    "print(np.abs(l))"
   ]
  },
  {
   "cell_type": "code",
   "execution_count": 43,
   "id": "dac39ee2",
   "metadata": {},
   "outputs": [
    {
     "name": "stdout",
     "output_type": "stream",
     "text": [
      "146 µs ± 3.64 µs per loop (mean ± std. dev. of 7 runs, 10,000 loops each)\n",
      "7.84 µs ± 179 ns per loop (mean ± std. dev. of 7 runs, 100,000 loops each)\n",
      "3.81 µs ± 43.1 ns per loop (mean ± std. dev. of 7 runs, 100,000 loops each)\n"
     ]
    }
   ],
   "source": [
    "big_array = np.random.rand(1000)\n",
    "\n",
    "%timeit sum(big_array)\n",
    "%timeit np.sum(big_array)\n",
    "%timeit big_array.sum()"
   ]
  },
  {
   "cell_type": "code",
   "execution_count": 48,
   "id": "95c6172d",
   "metadata": {},
   "outputs": [
    {
     "name": "stdout",
     "output_type": "stream",
     "text": [
      "50.0\n"
     ]
    }
   ],
   "source": [
    "arr = np.array([])\n",
    "l= []\n",
    "for i in range(0,101):\n",
    "    l.append(i)\n",
    "    \n",
    "arr = np.array(l) \n",
    "arrsum = arr.sum()\n",
    "print(arrsum/len(range(0,101)))\n"
   ]
  },
  {
   "cell_type": "code",
   "execution_count": 51,
   "id": "1bcffe43",
   "metadata": {},
   "outputs": [
    {
     "name": "stdout",
     "output_type": "stream",
     "text": [
      "0\n",
      "100\n"
     ]
    }
   ],
   "source": [
    "print(np.min(l))\n",
    "print(np.max(l))"
   ]
  },
  {
   "cell_type": "code",
   "execution_count": 55,
   "id": "d52c6cf8",
   "metadata": {},
   "outputs": [
    {
     "name": "stdout",
     "output_type": "stream",
     "text": [
      "[[1. 1. 1.]\n",
      " [1. 1. 1.]]\n",
      "\n",
      "[0 1 2]\n",
      "\n",
      "[[1. 2. 3.]\n",
      " [1. 2. 3.]]\n",
      "\n"
     ]
    }
   ],
   "source": [
    "M = np.ones((2,3))\n",
    "A = np.arange(3)\n",
    "\n",
    "print(M, end ='\\n\\n')\n",
    "print(A, end = '\\n\\n')\n",
    "print(M+A, end = '\\n\\n')"
   ]
  },
  {
   "cell_type": "code",
   "execution_count": 60,
   "id": "f43a6cae",
   "metadata": {},
   "outputs": [],
   "source": [
    "# M = np.ones((2,3))\n",
    "# A = np.arange(2)\n",
    "\n",
    "# print(M, end ='\\n\\n')\n",
    "# print(A, end = '\\n\\n')\n",
    "# print(M+A, end = '\\n\\n')\n",
    "\n",
    "#NOT POSSIBLE"
   ]
  },
  {
   "cell_type": "code",
   "execution_count": 61,
   "id": "97cb3469",
   "metadata": {},
   "outputs": [
    {
     "name": "stdout",
     "output_type": "stream",
     "text": [
      "[[0 1 2]\n",
      " [1 2 3]\n",
      " [2 3 4]]\n",
      "\n"
     ]
    }
   ],
   "source": [
    "M = np.arange(3)\n",
    "A = np.arange(3).reshape(3,1)\n",
    "print(M+A, end = '\\n\\n')"
   ]
  }
 ],
 "metadata": {
  "kernelspec": {
   "display_name": "Python 3 (ipykernel)",
   "language": "python",
   "name": "python3"
  },
  "language_info": {
   "codemirror_mode": {
    "name": "ipython",
    "version": 3
   },
   "file_extension": ".py",
   "mimetype": "text/x-python",
   "name": "python",
   "nbconvert_exporter": "python",
   "pygments_lexer": "ipython3",
   "version": "3.10.9"
  }
 },
 "nbformat": 4,
 "nbformat_minor": 5
}
