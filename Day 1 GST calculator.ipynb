{
 "cells": [
  {
   "cell_type": "code",
   "execution_count": 1,
   "id": "16bf34c9",
   "metadata": {},
   "outputs": [
    {
     "name": "stdout",
     "output_type": "stream",
     "text": [
      "MRP Without TAX - $ 520\n",
      "GST - ( 18 ) % - $ 93.6\n",
      "Net payable -$ 613.6\n"
     ]
    }
   ],
   "source": [
    "input1 = int(input('MRP Without TAX - $ '))\n",
    "gst = 18\n",
    "cal =((gst/100)*input1)\n",
    "print('GST -','(',gst,')' ,'% - $' , cal)\n",
    "print('Net payable -$' , cal+input1)"
   ]
  }
 ],
 "metadata": {
  "kernelspec": {
   "display_name": "Python 3 (ipykernel)",
   "language": "python",
   "name": "python3"
  },
  "language_info": {
   "codemirror_mode": {
    "name": "ipython",
    "version": 3
   },
   "file_extension": ".py",
   "mimetype": "text/x-python",
   "name": "python",
   "nbconvert_exporter": "python",
   "pygments_lexer": "ipython3",
   "version": "3.10.9"
  }
 },
 "nbformat": 4,
 "nbformat_minor": 5
}
