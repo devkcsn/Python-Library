{
 "cells": [
  {
   "cell_type": "code",
   "execution_count": 4,
   "id": "db685873",
   "metadata": {},
   "outputs": [
    {
     "name": "stdout",
     "output_type": "stream",
     "text": [
      "10\n",
      "-1\n"
     ]
    }
   ],
   "source": [
    "print(5+5)\n",
    "print(4-5)"
   ]
  },
  {
   "cell_type": "code",
   "execution_count": 5,
   "id": "f97852ed",
   "metadata": {},
   "outputs": [
    {
     "data": {
      "text/plain": [
       "14"
      ]
     },
     "execution_count": 5,
     "metadata": {},
     "output_type": "execute_result"
    }
   ],
   "source": [
    "2+7\n",
    "2*7"
   ]
  },
  {
   "cell_type": "code",
   "execution_count": 6,
   "id": "de1deaa3",
   "metadata": {},
   "outputs": [
    {
     "data": {
      "text/plain": [
       "'Hello World'"
      ]
     },
     "execution_count": 6,
     "metadata": {},
     "output_type": "execute_result"
    }
   ],
   "source": [
    "'Hello World'"
   ]
  },
  {
   "cell_type": "code",
   "execution_count": 10,
   "id": "9b0c486b",
   "metadata": {},
   "outputs": [
    {
     "name": "stdout",
     "output_type": "stream",
     "text": [
      "Hello World !!!\n"
     ]
    }
   ],
   "source": [
    "print(\"Hello World !!!\")"
   ]
  },
  {
   "cell_type": "code",
   "execution_count": 13,
   "id": "ef52f16b",
   "metadata": {},
   "outputs": [],
   "source": [
    "import pandas"
   ]
  },
  {
   "cell_type": "code",
   "execution_count": 14,
   "id": "3f10a3e7",
   "metadata": {},
   "outputs": [],
   "source": [
    "import numpy"
   ]
  },
  {
   "cell_type": "code",
   "execution_count": 35,
   "id": "f498714b",
   "metadata": {},
   "outputs": [
    {
     "name": "stdout",
     "output_type": "stream",
     "text": [
      "Total marks =\n",
      "228\n",
      "Percentage = 76.0\n",
      "76.0\n"
     ]
    }
   ],
   "source": [
    "Name = 'Pratik'\n",
    "Chemistry_marks = 58\n",
    "Physics_marks = 75\n",
    "Maths_marks = 95\n",
    "Total_marks = Chemistry_marks + Physics_marks + Maths_marks\n",
    "print(\"Total marks =\")\n",
    "print(Total_marks)\n",
    "Percentage = (Total_marks/300)*100\n",
    "print('Percentage =', Percentage)\n",
    "print(Percentage)"
   ]
  },
  {
   "cell_type": "code",
   "execution_count": 45,
   "id": "a05b59c0",
   "metadata": {},
   "outputs": [
    {
     "name": "stdout",
     "output_type": "stream",
     "text": [
      "Tu kyu hai    Tu kyu hai    Tu kyu hai    Tu kyu hai    Tu kyu hai    Tu kyu hai    Tu kyu hai    Tu kyu hai    Tu kyu hai    Tu kyu hai    Tu kyu hai    Tu kyu hai    Tu kyu hai    Tu kyu hai    Tu kyu hai    Tu kyu hai    Tu kyu hai    Tu kyu hai    Tu kyu hai    Tu kyu hai    Tu kyu hai    Tu kyu hai    Tu kyu hai    Tu kyu hai    Tu kyu hai    Tu kyu hai    Tu kyu hai    Tu kyu hai    Tu kyu hai    Tu kyu hai    Tu kyu hai    Tu kyu hai    Tu kyu hai    Tu kyu hai    Tu kyu hai    Tu kyu hai    Tu kyu hai    Tu kyu hai    Tu kyu hai    Tu kyu hai    Tu kyu hai    Tu kyu hai    Tu kyu hai    Tu kyu hai    Tu kyu hai    Tu kyu hai    Tu kyu hai    Tu kyu hai    Tu kyu hai    Tu kyu hai    Tu kyu hai    Tu kyu hai    Tu kyu hai    Tu kyu hai    Tu kyu hai    Tu kyu hai    Tu kyu hai    Tu kyu hai    Tu kyu hai    Tu kyu hai    Tu kyu hai    Tu kyu hai    Tu kyu hai    Tu kyu hai    Tu kyu hai    Tu kyu hai    Tu kyu hai    Tu kyu hai    Tu kyu hai    Tu kyu hai    Tu kyu hai    Tu kyu hai    Tu kyu hai    Tu kyu hai    Tu kyu hai    Tu kyu hai    Tu kyu hai    Tu kyu hai    Tu kyu hai    Tu kyu hai    Tu kyu hai    Tu kyu hai    Tu kyu hai    Tu kyu hai    Tu kyu hai    Tu kyu hai    Tu kyu hai    Tu kyu hai    Tu kyu hai    Tu kyu hai    Tu kyu hai    Tu kyu hai    Tu kyu hai    Tu kyu hai    Tu kyu hai    Tu kyu hai    Tu kyu hai    Tu kyu hai    Tu kyu hai    Tu kyu hai    Tu kyu hai    Tu kyu hai    Tu kyu hai    Tu kyu hai    Tu kyu hai    Tu kyu hai    Tu kyu hai    Tu kyu hai    Tu kyu hai    Tu kyu hai    Tu kyu hai    Tu kyu hai    Tu kyu hai    Tu kyu hai    Tu kyu hai    Tu kyu hai    Tu kyu hai    Tu kyu hai    Tu kyu hai    Tu kyu hai    Tu kyu hai    Tu kyu hai    Tu kyu hai    Tu kyu hai    Tu kyu hai    Tu kyu hai    Tu kyu hai    Tu kyu hai    Tu kyu hai    Tu kyu hai    Tu kyu hai    Tu kyu hai    Tu kyu hai    Tu kyu hai    Tu kyu hai    Tu kyu hai    Tu kyu hai    Tu kyu hai    Tu kyu hai    Tu kyu hai    Tu kyu hai    Tu kyu hai    Tu kyu hai    Tu kyu hai    Tu kyu hai    Tu kyu hai    Tu kyu hai    Tu kyu hai    Tu kyu hai    Tu kyu hai    Tu kyu hai    Tu kyu hai    Tu kyu hai    Tu kyu hai    Tu kyu hai    Tu kyu hai    Tu kyu hai    Tu kyu hai    Tu kyu hai    Tu kyu hai    Tu kyu hai    Tu kyu hai    Tu kyu hai    Tu kyu hai    Tu kyu hai    Tu kyu hai    Tu kyu hai    Tu kyu hai    Tu kyu hai    Tu kyu hai    Tu kyu hai    Tu kyu hai    Tu kyu hai    Tu kyu hai    Tu kyu hai    Tu kyu hai    Tu kyu hai    Tu kyu hai    Tu kyu hai    Tu kyu hai    Tu kyu hai    Tu kyu hai    Tu kyu hai    Tu kyu hai    Tu kyu hai    Tu kyu hai    Tu kyu hai    Tu kyu hai    Tu kyu hai    Tu kyu hai    Tu kyu hai    Tu kyu hai    Tu kyu hai    Tu kyu hai    Tu kyu hai    Tu kyu hai    Tu kyu hai    Tu kyu hai    Tu kyu hai    Tu kyu hai    Tu kyu hai    Tu kyu hai    Tu kyu hai    Tu kyu hai    Tu kyu hai    Tu kyu hai    Tu kyu hai    Tu kyu hai    Tu kyu hai    Tu kyu hai    Tu kyu hai    Tu kyu hai    Tu kyu hai    Tu kyu hai    Tu kyu hai    Tu kyu hai    Tu kyu hai    Tu kyu hai    Tu kyu hai    Tu kyu hai    Tu kyu hai    Tu kyu hai    Tu kyu hai    Tu kyu hai    Tu kyu hai    Tu kyu hai    Tu kyu hai    Tu kyu hai    Tu kyu hai    Tu kyu hai    Tu kyu hai    Tu kyu hai    Tu kyu hai    Tu kyu hai    Tu kyu hai    Tu kyu hai    Tu kyu hai    Tu kyu hai    Tu kyu hai    Tu kyu hai    Tu kyu hai    Tu kyu hai    Tu kyu hai    Tu kyu hai    Tu kyu hai    Tu kyu hai    Tu kyu hai    Tu kyu hai    Tu kyu hai    Tu kyu hai    Tu kyu hai    Tu kyu hai    Tu kyu hai    Tu kyu hai    Tu kyu hai    Tu kyu hai    Tu kyu hai    Tu kyu hai    Tu kyu hai    Tu kyu hai    Tu kyu hai    Tu kyu hai    Tu kyu hai    Tu kyu hai    Tu kyu hai    Tu kyu hai    Tu kyu hai    Tu kyu hai    Tu kyu hai    Tu kyu hai    Tu kyu hai    Tu kyu hai    Tu kyu hai    Tu kyu hai    Tu kyu hai    Tu kyu hai    Tu kyu hai    Tu kyu hai    Tu kyu hai    Tu kyu hai    Tu kyu hai    Tu kyu hai    Tu kyu hai    Tu kyu hai    Tu kyu hai    Tu kyu hai    Tu kyu hai    Tu kyu hai    Tu kyu hai    Tu kyu hai    Tu kyu hai    Tu kyu hai    Tu kyu hai    Tu kyu hai    Tu kyu hai    Tu kyu hai    Tu kyu hai    Tu kyu hai    Tu kyu hai    Tu kyu hai    Tu kyu hai    Tu kyu hai    Tu kyu hai    Tu kyu hai    Tu kyu hai    Tu kyu hai    Tu kyu hai    Tu kyu hai    Tu kyu hai    Tu kyu hai    Tu kyu hai    Tu kyu hai    Tu kyu hai    Tu kyu hai    Tu kyu hai    Tu kyu hai    Tu kyu hai    Tu kyu hai    Tu kyu hai    Tu kyu hai    Tu kyu hai    Tu kyu hai    Tu kyu hai    Tu kyu hai    Tu kyu hai    Tu kyu hai    Tu kyu hai    Tu kyu hai    Tu kyu hai    Tu kyu hai    Tu kyu hai    Tu kyu hai    Tu kyu hai    Tu kyu hai    Tu kyu hai    Tu kyu hai    Tu kyu hai    Tu kyu hai    Tu kyu hai    Tu kyu hai    Tu kyu hai    Tu kyu hai    Tu kyu hai    Tu kyu hai    Tu kyu hai    Tu kyu hai    Tu kyu hai    Tu kyu hai    Tu kyu hai    Tu kyu hai    Tu kyu hai    Tu kyu hai    Tu kyu hai    Tu kyu hai    Tu kyu hai    Tu kyu hai    Tu kyu hai    Tu kyu hai    Tu kyu hai    Tu kyu hai    Tu kyu hai    Tu kyu hai    Tu kyu hai    Tu kyu hai    Tu kyu hai    Tu kyu hai    Tu kyu hai    Tu kyu hai    Tu kyu hai    Tu kyu hai    Tu kyu hai    Tu kyu hai    Tu kyu hai    Tu kyu hai    Tu kyu hai    Tu kyu hai    Tu kyu hai    Tu kyu hai    Tu kyu hai    Tu kyu hai    Tu kyu hai    Tu kyu hai    Tu kyu hai    Tu kyu hai    Tu kyu hai    Tu kyu hai    Tu kyu hai    Tu kyu hai    Tu kyu hai    Tu kyu hai    Tu kyu hai    Tu kyu hai    Tu kyu hai    Tu kyu hai    Tu kyu hai    Tu kyu hai    Tu kyu hai    Tu kyu hai    Tu kyu hai    Tu kyu hai    Tu kyu hai    Tu kyu hai    Tu kyu hai    Tu kyu hai    Tu kyu hai    Tu kyu hai    Tu kyu hai    Tu kyu hai    Tu kyu hai    Tu kyu hai    Tu kyu hai    Tu kyu hai    Tu kyu hai    Tu kyu hai    Tu kyu hai    Tu kyu hai    Tu kyu hai    Tu kyu hai    Tu kyu hai    Tu kyu hai    Tu kyu hai    Tu kyu hai    Tu kyu hai    Tu kyu hai    Tu kyu hai    Tu kyu hai    Tu kyu hai    Tu kyu hai    Tu kyu hai    Tu kyu hai    Tu kyu hai    Tu kyu hai    Tu kyu hai    Tu kyu hai    Tu kyu hai    Tu kyu hai    Tu kyu hai    Tu kyu hai    Tu kyu hai    Tu kyu hai    Tu kyu hai    Tu kyu hai    Tu kyu hai    Tu kyu hai    Tu kyu hai    Tu kyu hai    Tu kyu hai    Tu kyu hai    Tu kyu hai    Tu kyu hai    Tu kyu hai    Tu kyu hai    Tu kyu hai    Tu kyu hai    Tu kyu hai    Tu kyu hai    Tu kyu hai    Tu kyu hai    Tu kyu hai    Tu kyu hai    Tu kyu hai    Tu kyu hai    Tu kyu hai    Tu kyu hai    Tu kyu hai    Tu kyu hai    Tu kyu hai    Tu kyu hai    Tu kyu hai    Tu kyu hai    Tu kyu hai    Tu kyu hai    Tu kyu hai    Tu kyu hai    Tu kyu hai    Tu kyu hai    Tu kyu hai    Tu kyu hai    Tu kyu hai    Tu kyu hai    Tu kyu hai    Tu kyu hai    Tu kyu hai    Tu kyu hai    Tu kyu hai    Tu kyu hai    Tu kyu hai    Tu kyu hai    Tu kyu hai    Tu kyu hai    Tu kyu hai    Tu kyu hai    Tu kyu hai    Tu kyu hai    Tu kyu hai    Tu kyu hai    Tu kyu hai    Tu kyu hai    Tu kyu hai    Tu kyu hai    Tu kyu hai    Tu kyu hai    Tu kyu hai    Tu kyu hai    Tu kyu hai    Tu kyu hai    Tu kyu hai    Tu kyu hai    Tu kyu hai    Tu kyu hai    Tu kyu hai    Tu kyu hai    Tu kyu hai    Tu kyu hai    Tu kyu hai    Tu kyu hai    Tu kyu hai    Tu kyu hai    Tu kyu hai    Tu kyu hai    Tu kyu hai    Tu kyu hai    Tu kyu hai    Tu kyu hai    Tu kyu hai    Tu kyu hai    Tu kyu hai    Tu kyu hai    Tu kyu hai    Tu kyu hai    Tu kyu hai    Tu kyu hai    Tu kyu hai    Tu kyu hai    Tu kyu hai    Tu kyu hai    Tu kyu hai    Tu kyu hai    Tu kyu hai    Tu kyu hai    Tu kyu hai    Tu kyu hai    Tu kyu hai    Tu kyu hai    Tu kyu hai    Tu kyu hai    Tu kyu hai    Tu kyu hai    Tu kyu hai    Tu kyu hai    Tu kyu hai    Tu kyu hai    Tu kyu hai    Tu kyu hai    Tu kyu hai    Tu kyu hai    Tu kyu hai    Tu kyu hai    Tu kyu hai    Tu kyu hai    Tu kyu hai    Tu kyu hai    Tu kyu hai    Tu kyu hai    Tu kyu hai    Tu kyu hai    Tu kyu hai    Tu kyu hai    Tu kyu hai    Tu kyu hai    Tu kyu hai    Tu kyu hai    Tu kyu hai    Tu kyu hai    Tu kyu hai    Tu kyu hai    Tu kyu hai    Tu kyu hai    Tu kyu hai    Tu kyu hai    Tu kyu hai    Tu kyu hai    Tu kyu hai    Tu kyu hai    Tu kyu hai    Tu kyu hai    Tu kyu hai    Tu kyu hai    Tu kyu hai    Tu kyu hai    Tu kyu hai    Tu kyu hai    Tu kyu hai    Tu kyu hai    Tu kyu hai    Tu kyu hai    Tu kyu hai    Tu kyu hai    Tu kyu hai    Tu kyu hai    Tu kyu hai    Tu kyu hai    Tu kyu hai    Tu kyu hai    Tu kyu hai    Tu kyu hai    Tu kyu hai    Tu kyu hai    Tu kyu hai    Tu kyu hai    Tu kyu hai    Tu kyu hai    Tu kyu hai    Tu kyu hai    Tu kyu hai    Tu kyu hai    Tu kyu hai    Tu kyu hai    Tu kyu hai    Tu kyu hai    Tu kyu hai    Tu kyu hai    Tu kyu hai    Tu kyu hai    Tu kyu hai    Tu kyu hai    Tu kyu hai    Tu kyu hai    Tu kyu hai    Tu kyu hai    Tu kyu hai    Tu kyu hai    Tu kyu hai    Tu kyu hai    Tu kyu hai    Tu kyu hai    Tu kyu hai    Tu kyu hai    Tu kyu hai    Tu kyu hai    Tu kyu hai    Tu kyu hai    Tu kyu hai    Tu kyu hai    Tu kyu hai    Tu kyu hai    Tu kyu hai    Tu kyu hai    Tu kyu hai    Tu kyu hai    Tu kyu hai    Tu kyu hai    Tu kyu hai    Tu kyu hai    Tu kyu hai    Tu kyu hai    Tu kyu hai    Tu kyu hai    Tu kyu hai    Tu kyu hai    Tu kyu hai    Tu kyu hai    Tu kyu hai    Tu kyu hai    Tu kyu hai    Tu kyu hai    Tu kyu hai    Tu kyu hai    Tu kyu hai    Tu kyu hai    Tu kyu hai    Tu kyu hai    Tu kyu hai    Tu kyu hai    Tu kyu hai    Tu kyu hai    Tu kyu hai    Tu kyu hai    Tu kyu hai    Tu kyu hai    Tu kyu hai    Tu kyu hai    Tu kyu hai    Tu kyu hai    Tu kyu hai    Tu kyu hai    Tu kyu hai    Tu kyu hai    Tu kyu hai    Tu kyu hai    Tu kyu hai    Tu kyu hai    Tu kyu hai    Tu kyu hai    Tu kyu hai    Tu kyu hai    Tu kyu hai    Tu kyu hai    Tu kyu hai    Tu kyu hai    Tu kyu hai    Tu kyu hai    Tu kyu hai    Tu kyu hai    Tu kyu hai    Tu kyu hai    Tu kyu hai    Tu kyu hai    Tu kyu hai    Tu kyu hai    Tu kyu hai    Tu kyu hai    Tu kyu hai    Tu kyu hai    Tu kyu hai    Tu kyu hai    Tu kyu hai    Tu kyu hai    Tu kyu hai    Tu kyu hai    Tu kyu hai    Tu kyu hai    Tu kyu hai    Tu kyu hai    Tu kyu hai    Tu kyu hai    Tu kyu hai    Tu kyu hai    Tu kyu hai    Tu kyu hai    Tu kyu hai    Tu kyu hai    Tu kyu hai    Tu kyu hai    Tu kyu hai    Tu kyu hai    Tu kyu hai    Tu kyu hai    Tu kyu hai    Tu kyu hai    Tu kyu hai    Tu kyu hai    Tu kyu hai    Tu kyu hai    Tu kyu hai    Tu kyu hai    Tu kyu hai    Tu kyu hai    Tu kyu hai    Tu kyu hai    Tu kyu hai    Tu kyu hai    Tu kyu hai    Tu kyu hai    Tu kyu hai    Tu kyu hai    Tu kyu hai    Tu kyu hai    Tu kyu hai    Tu kyu hai    Tu kyu hai    Tu kyu hai    Tu kyu hai    Tu kyu hai    Tu kyu hai    Tu kyu hai    Tu kyu hai    Tu kyu hai    Tu kyu hai    Tu kyu hai    Tu kyu hai    Tu kyu hai    Tu kyu hai    Tu kyu hai    Tu kyu hai    Tu kyu hai    Tu kyu hai    Tu kyu hai    Tu kyu hai    Tu kyu hai    Tu kyu hai    Tu kyu hai    Tu kyu hai    Tu kyu hai    Tu kyu hai    Tu kyu hai    Tu kyu hai    Tu kyu hai    Tu kyu hai    Tu kyu hai    Tu kyu hai    Tu kyu hai    Tu kyu hai    Tu kyu hai    Tu kyu hai    Tu kyu hai    Tu kyu hai    Tu kyu hai    Tu kyu hai    Tu kyu hai    Tu kyu hai    Tu kyu hai    Tu kyu hai    Tu kyu hai    Tu kyu hai    Tu kyu hai    Tu kyu hai    Tu kyu hai    Tu kyu hai    Tu kyu hai    Tu kyu hai    Tu kyu hai    Tu kyu hai    Tu kyu hai    Tu kyu hai    Tu kyu hai    Tu kyu hai    Tu kyu hai    Tu kyu hai    Tu kyu hai    Tu kyu hai    Tu kyu hai    Tu kyu hai    Tu kyu hai    Tu kyu hai    Tu kyu hai    Tu kyu hai    Tu kyu hai    Tu kyu hai    Tu kyu hai    Tu kyu hai    Tu kyu hai    Tu kyu hai    Tu kyu hai    Tu kyu hai    Tu kyu hai    Tu kyu hai    Tu kyu hai    Tu kyu hai    Tu kyu hai    Tu kyu hai    Tu kyu hai    Tu kyu hai    Tu kyu hai    Tu kyu hai    Tu kyu hai    Tu kyu hai    Tu kyu hai    Tu kyu hai    Tu kyu hai    Tu kyu hai    Tu kyu hai    Tu kyu hai    Tu kyu hai    Tu kyu hai    Tu kyu hai    Tu kyu hai    Tu kyu hai    Tu kyu hai    Tu kyu hai    Tu kyu hai    Tu kyu hai    Tu kyu hai    Tu kyu hai    Tu kyu hai    Tu kyu hai    Tu kyu hai    Tu kyu hai    Tu kyu hai    Tu kyu hai    Tu kyu hai    Tu kyu hai    Tu kyu hai    Tu kyu hai    Tu kyu hai    Tu kyu hai    Tu kyu hai    Tu kyu hai    Tu kyu hai    Tu kyu hai    Tu kyu hai    Tu kyu hai    Tu kyu hai    Tu kyu hai    Tu kyu hai    Tu kyu hai    Tu kyu hai    Tu kyu hai    Tu kyu hai    Tu kyu hai    Tu kyu hai    Tu kyu hai    Tu kyu hai    Tu kyu hai    Tu kyu hai    Tu kyu hai    Tu kyu hai    Tu kyu hai    Tu kyu hai    Tu kyu hai    Tu kyu hai    Tu kyu hai    Tu kyu hai    Tu kyu hai    Tu kyu hai    Tu kyu hai    Tu kyu hai    Tu kyu hai    Tu kyu hai    Tu kyu hai    Tu kyu hai    Tu kyu hai    Tu kyu hai    Tu kyu hai    Tu kyu hai    Tu kyu hai    Tu kyu hai    Tu kyu hai    Tu kyu hai    Tu kyu hai    Tu kyu hai    Tu kyu hai    Tu kyu hai    Tu kyu hai    Tu kyu hai    Tu kyu hai    Tu kyu hai    Tu kyu hai    Tu kyu hai    Tu kyu hai    Tu kyu hai    Tu kyu hai    Tu kyu hai    Tu kyu hai    Tu kyu hai    Tu kyu hai    Tu kyu hai    Tu kyu hai    Tu kyu hai    Tu kyu hai    Tu kyu hai    Tu kyu hai    Tu kyu hai    Tu kyu hai    Tu kyu hai    Tu kyu hai    Tu kyu hai    Tu kyu hai    Tu kyu hai    Tu kyu hai    Tu kyu hai    Tu kyu hai    Tu kyu hai    Tu kyu hai    Tu kyu hai    Tu kyu hai    Tu kyu hai    Tu kyu hai    Tu kyu hai    Tu kyu hai    Tu kyu hai    Tu kyu hai    Tu kyu hai    Tu kyu hai    Tu kyu hai    Tu kyu hai    Tu kyu hai    Tu kyu hai    Tu kyu hai    Tu kyu hai    Tu kyu hai    Tu kyu hai    Tu kyu hai    Tu kyu hai    Tu kyu hai    Tu kyu hai    Tu kyu hai    Tu kyu hai    Tu kyu hai    Tu kyu hai    Tu kyu hai    Tu kyu hai    Tu kyu hai    Tu kyu hai    Tu kyu hai    Tu kyu hai    Tu kyu hai    Tu kyu hai    Tu kyu hai    Tu kyu hai    Tu kyu hai    Tu kyu hai    Tu kyu hai    Tu kyu hai    Tu kyu hai    Tu kyu hai    Tu kyu hai    Tu kyu hai    Tu kyu hai    Tu kyu hai    \n"
     ]
    }
   ],
   "source": [
    "str1 = 'Tu '\n",
    "str2 = 'kyu hai    '\n",
    "print((str1+str2)*1000)"
   ]
  },
  {
   "cell_type": "code",
   "execution_count": null,
   "id": "410e2673",
   "metadata": {},
   "outputs": [],
   "source": [
    "input1 = int(input('MRP Without TAX - $ '))\n",
    "gst = 18\n",
    "cal =((gst/100)*input1)\n",
    "print('GST -','(',gst,')' ,'% - $' , cal)\n",
    "print('Net payable -$' , cal+input1)"
   ]
  },
  {
   "cell_type": "code",
   "execution_count": null,
   "id": "7d89fba0",
   "metadata": {},
   "outputs": [],
   "source": []
  }
 ],
 "metadata": {
  "kernelspec": {
   "display_name": "Python 3 (ipykernel)",
   "language": "python",
   "name": "python3"
  },
  "language_info": {
   "codemirror_mode": {
    "name": "ipython",
    "version": 3
   },
   "file_extension": ".py",
   "mimetype": "text/x-python",
   "name": "python",
   "nbconvert_exporter": "python",
   "pygments_lexer": "ipython3",
   "version": "3.10.9"
  }
 },
 "nbformat": 4,
 "nbformat_minor": 5
}
