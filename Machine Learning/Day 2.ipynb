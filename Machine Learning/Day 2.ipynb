{
 "cells": [
  {
   "cell_type": "code",
   "execution_count": 6,
   "id": "689858bf",
   "metadata": {},
   "outputs": [],
   "source": [
    "import pymysql"
   ]
  },
  {
   "cell_type": "code",
   "execution_count": 10,
   "id": "ece2cc03",
   "metadata": {},
   "outputs": [
    {
     "ename": "NameError",
     "evalue": "name 'createconnection' is not defined",
     "output_type": "error",
     "traceback": [
      "\u001b[1;31m---------------------------------------------------------------------------\u001b[0m",
      "\u001b[1;31mNameError\u001b[0m                                 Traceback (most recent call last)",
      "Cell \u001b[1;32mIn[10], line 9\u001b[0m\n\u001b[0;32m      7\u001b[0m     \u001b[38;5;28mprint\u001b[39m(\u001b[38;5;124m\"\u001b[39m\u001b[38;5;124mTable is created.\u001b[39m\u001b[38;5;124m\"\u001b[39m)\n\u001b[0;32m      8\u001b[0m     conn\u001b[38;5;241m.\u001b[39mclose()\n\u001b[1;32m----> 9\u001b[0m \u001b[43mcreatetable\u001b[49m\u001b[43m(\u001b[49m\u001b[43m)\u001b[49m\n",
      "Cell \u001b[1;32mIn[10], line 2\u001b[0m, in \u001b[0;36mcreatetable\u001b[1;34m()\u001b[0m\n\u001b[0;32m      1\u001b[0m \u001b[38;5;28;01mdef\u001b[39;00m \u001b[38;5;21mcreatetable\u001b[39m():\n\u001b[1;32m----> 2\u001b[0m     conn\u001b[38;5;241m=\u001b[39m\u001b[43mcreateconnection\u001b[49m()\n\u001b[0;32m      3\u001b[0m     cursor\u001b[38;5;241m=\u001b[39mcon\u001b[38;5;241m.\u001b[39mcursor()\n\u001b[0;32m      4\u001b[0m     query\u001b[38;5;241m=\u001b[39m\u001b[38;5;124m\"\u001b[39m\u001b[38;5;124mcreate table student (Name VARCHAR(50), Age = VARCHAR(50),address VARCHAR(50))\u001b[39m\u001b[38;5;124m\"\u001b[39m\n",
      "\u001b[1;31mNameError\u001b[0m: name 'createconnection' is not defined"
     ]
    }
   ],
   "source": [
    "def createtable():\n",
    "    conn=createconnection()\n",
    "    cursor=conn.cursor()\n",
    "    query=\"create table student (Name VARCHAR(50), Age = VARCHAR(50),address VARCHAR(50))\"\n",
    "    cursor.execute(query)\n",
    "    conn.commit()\n",
    "    print(\"Table is created.\")\n",
    "    conn.close()\n",
    "createtable()"
   ]
  },
  {
   "cell_type": "code",
   "execution_count": null,
   "id": "c74cf898",
   "metadata": {},
   "outputs": [],
   "source": []
  }
 ],
 "metadata": {
  "kernelspec": {
   "display_name": "Python 3 (ipykernel)",
   "language": "python",
   "name": "python3"
  },
  "language_info": {
   "codemirror_mode": {
    "name": "ipython",
    "version": 3
   },
   "file_extension": ".py",
   "mimetype": "text/x-python",
   "name": "python",
   "nbconvert_exporter": "python",
   "pygments_lexer": "ipython3",
   "version": "3.10.9"
  }
 },
 "nbformat": 4,
 "nbformat_minor": 5
}
