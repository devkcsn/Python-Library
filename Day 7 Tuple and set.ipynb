{
 "cells": [
  {
   "cell_type": "markdown",
   "id": "4ad2dd00",
   "metadata": {},
   "source": [
    "### Tuple is non manupulating and can be indexed and sliced"
   ]
  },
  {
   "cell_type": "markdown",
   "id": "42de3f0c",
   "metadata": {},
   "source": [
    "### Set is manupulating but with different keywords and can not be indexed and sliced"
   ]
  },
  {
   "cell_type": "markdown",
   "id": "66133522",
   "metadata": {},
   "source": [
    "### List can be manupulated and can be indexed and sliced"
   ]
  },
  {
   "cell_type": "markdown",
   "id": "4795f338",
   "metadata": {},
   "source": [
    "### SET"
   ]
  },
  {
   "cell_type": "code",
   "execution_count": 6,
   "id": "9da5ecbe",
   "metadata": {},
   "outputs": [
    {
     "name": "stdout",
     "output_type": "stream",
     "text": [
      "{0, 1, 2, 32, 15, 52, 85, 54}\n"
     ]
    }
   ],
   "source": [
    "s = {0,52,54,52,1,2,85,52,15,32}\n",
    "print(s)"
   ]
  },
  {
   "cell_type": "code",
   "execution_count": 12,
   "id": "6baafafa",
   "metadata": {},
   "outputs": [
    {
     "name": "stdout",
     "output_type": "stream",
     "text": [
      "{'Fri', 'Sun', 'Wed', 'Sat', 'Thurs', 'Tues', 'Mon'}\n"
     ]
    }
   ],
   "source": [
    "s = ['Mon' , 'Tues' , 'Wed' , 'Thurs' , 'Fri' , 'Sat' , 'Sun']\n",
    "print(set(s))"
   ]
  },
  {
   "cell_type": "code",
   "execution_count": 18,
   "id": "7c27231a",
   "metadata": {},
   "outputs": [
    {
     "name": "stdout",
     "output_type": "stream",
     "text": [
      "{'Fri', 'Thurs', 'Tues', 'Sun', 'Bro', 'Mon', 'Wed', 'Sat'}\n"
     ]
    }
   ],
   "source": [
    "f = {'Fri', 'Sun', 'Wed', 'Sat', 'Thurs', 'Tues', 'Mon'}\n",
    "f.add(\"Bro\")\n",
    "print(f)"
   ]
  },
  {
   "cell_type": "code",
   "execution_count": 21,
   "id": "c13bdedb",
   "metadata": {},
   "outputs": [
    {
     "data": {
      "text/plain": [
       "{'circle', 'triangle'}"
      ]
     },
     "execution_count": 21,
     "metadata": {},
     "output_type": "execute_result"
    }
   ],
   "source": [
    "shapes = ['circle' , 'square' , 'triangle' , 'circle']\n",
    "set_of_shapes = set(shapes)\n",
    "\n",
    "favourite_shapes = set(['circle' ,'triangle' , 'hexagon'])\n",
    "\n",
    "set_of_shapes.intersection(favourite_shapes)"
   ]
  },
  {
   "cell_type": "code",
   "execution_count": 22,
   "id": "be91b927",
   "metadata": {},
   "outputs": [
    {
     "data": {
      "text/plain": [
       "{'circle', 'hexagon', 'square', 'triangle'}"
      ]
     },
     "execution_count": 22,
     "metadata": {},
     "output_type": "execute_result"
    }
   ],
   "source": [
    "shapes = ['circle' , 'square' , 'triangle' , 'circle']\n",
    "set_of_shapes = set(shapes)\n",
    "\n",
    "favourite_shapes = set(['circle' ,'triangle' , 'hexagon'])\n",
    "\n",
    "set_of_shapes.union(favourite_shapes)"
   ]
  },
  {
   "cell_type": "code",
   "execution_count": 23,
   "id": "6adcf0b7",
   "metadata": {},
   "outputs": [
    {
     "data": {
      "text/plain": [
       "{'square'}"
      ]
     },
     "execution_count": 23,
     "metadata": {},
     "output_type": "execute_result"
    }
   ],
   "source": [
    "shapes = ['circle' , 'square' , 'triangle' , 'circle']\n",
    "set_of_shapes = set(shapes)\n",
    "\n",
    "favourite_shapes = set(['circle' ,'triangle' , 'hexagon'])\n",
    "\n",
    "set_of_shapes.difference(favourite_shapes)"
   ]
  },
  {
   "cell_type": "code",
   "execution_count": 24,
   "id": "5099bcf2",
   "metadata": {},
   "outputs": [
    {
     "data": {
      "text/plain": [
       "{'hexagon'}"
      ]
     },
     "execution_count": 24,
     "metadata": {},
     "output_type": "execute_result"
    }
   ],
   "source": [
    "shapes = ['circle' , 'square' , 'triangle' , 'circle']\n",
    "set_of_shapes = set(shapes)\n",
    "\n",
    "favourite_shapes = set(['circle' ,'triangle' , 'hexagon'])\n",
    "\n",
    "favourite_shapes.difference(set_of_shapes)"
   ]
  },
  {
   "cell_type": "code",
   "execution_count": null,
   "id": "aceb43e9",
   "metadata": {},
   "outputs": [],
   "source": []
  }
 ],
 "metadata": {
  "kernelspec": {
   "display_name": "Python 3 (ipykernel)",
   "language": "python",
   "name": "python3"
  },
  "language_info": {
   "codemirror_mode": {
    "name": "ipython",
    "version": 3
   },
   "file_extension": ".py",
   "mimetype": "text/x-python",
   "name": "python",
   "nbconvert_exporter": "python",
   "pygments_lexer": "ipython3",
   "version": "3.10.9"
  }
 },
 "nbformat": 4,
 "nbformat_minor": 5
}
