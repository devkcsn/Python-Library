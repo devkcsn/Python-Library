{
 "cells": [
  {
   "cell_type": "code",
   "execution_count": 1,
   "id": "437f370a",
   "metadata": {},
   "outputs": [
    {
     "name": "stdout",
     "output_type": "stream",
     "text": [
      "Defaulting to user installation because normal site-packages is not writeable\n",
      "Requirement already satisfied: pymysql in c:\\users\\kumar\\appdata\\roaming\\python\\python310\\site-packages (1.1.0)\n",
      "Note: you may need to restart the kernel to use updated packages.\n"
     ]
    }
   ],
   "source": [
    "pip install pymysql"
   ]
  },
  {
   "cell_type": "code",
   "execution_count": 9,
   "id": "6189455b",
   "metadata": {},
   "outputs": [],
   "source": [
    "import pymysql"
   ]
  },
  {
   "cell_type": "code",
   "execution_count": 17,
   "id": "4b8ec746",
   "metadata": {
    "scrolled": true
   },
   "outputs": [
    {
     "data": {
      "text/plain": [
       "<pymysql.connections.Connection at 0x1f48e667580>"
      ]
     },
     "execution_count": 17,
     "metadata": {},
     "output_type": "execute_result"
    }
   ],
   "source": [
    "def createconnection():\n",
    "    return pymysql.connect(user=\"root\",database=\"database1\",password=\"mellowwater50\",host=\"localhost\",port=3306)\n",
    "\n",
    "createconnection()"
   ]
  },
  {
   "cell_type": "code",
   "execution_count": null,
   "id": "3b145884",
   "metadata": {},
   "outputs": [],
   "source": [
    "#Day 2"
   ]
  },
  {
   "cell_type": "code",
   "execution_count": 19,
   "id": "a95fafcd",
   "metadata": {
    "scrolled": true
   },
   "outputs": [
    {
     "name": "stdout",
     "output_type": "stream",
     "text": [
      "Table is created.\n"
     ]
    }
   ],
   "source": [
    "def createtable():\n",
    "    conn = createconnection()\n",
    "    cursor = conn.cursor()\n",
    "    query = \"CREATE TABLE student (Name VARCHAR(50), Age VARCHAR(50), Address VARCHAR(50))\"\n",
    "    cursor.execute(query)\n",
    "    conn.commit()\n",
    "    print(\"Table is created.\")\n",
    "    conn.close()\n",
    "\n",
    "createtable()"
   ]
  },
  {
   "cell_type": "code",
   "execution_count": null,
   "id": "643d9e60",
   "metadata": {},
   "outputs": [],
   "source": [
    "#Improvised"
   ]
  },
  {
   "cell_type": "code",
   "execution_count": null,
   "id": "56a00b90",
   "metadata": {},
   "outputs": [
    {
     "name": "stdout",
     "output_type": "stream",
     "text": [
      "Enter your name Amit \n",
      "Enter your age 1\n",
      "Enter your address Roorkee\n",
      "Table is created.\n"
     ]
    }
   ],
   "source": [
    "def insertdata(Name,Age,Address):\n",
    "    conn = createconnection()\n",
    "    cursor = conn.cursor()\n",
    "    args=Name,Age,Address\n",
    "    query = \"insert into student(Name,Age,Address)values(%s,%s,%s)\"\n",
    "    cursor.execute(query,args)\n",
    "    conn.commit()\n",
    "    print(\"Table is created.\")\n",
    "    conn.close()\n",
    "na=input(\"Enter your name \")\n",
    "ag=int(input(\"Enter your age \"))\n",
    "add=input(\"Enter your address \")\n",
    "insertdata(na,ag,add)"
   ]
  },
  {
   "cell_type": "code",
   "execution_count": null,
   "id": "963e8076",
   "metadata": {},
   "outputs": [],
   "source": []
  }
 ],
 "metadata": {
  "kernelspec": {
   "display_name": "Python 3 (ipykernel)",
   "language": "python",
   "name": "python3"
  },
  "language_info": {
   "codemirror_mode": {
    "name": "ipython",
    "version": 3
   },
   "file_extension": ".py",
   "mimetype": "text/x-python",
   "name": "python",
   "nbconvert_exporter": "python",
   "pygments_lexer": "ipython3",
   "version": "3.10.9"
  }
 },
 "nbformat": 4,
 "nbformat_minor": 5
}
