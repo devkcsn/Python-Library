{
 "cells": [
  {
   "cell_type": "code",
   "execution_count": 21,
   "id": "1bc41b6e",
   "metadata": {},
   "outputs": [
    {
     "data": {
      "text/plain": [
       "<pymysql.connections.Connection at 0x1ef9a8ea2c0>"
      ]
     },
     "execution_count": 21,
     "metadata": {},
     "output_type": "execute_result"
    }
   ],
   "source": [
    "from tkinter import*\n",
    "import tkinter.font\n",
    "from tkinter import messagebox\n",
    "import pymysql\n",
    "def createconnection():\n",
    "    return pymysql.connect(user=\"root\",database=\"RegistrationForm\",password=\"mellowwater50\",host=\"localhost\",port=3306)\n",
    "\n",
    "createconnection()"
   ]
  },
  {
   "cell_type": "code",
   "execution_count": null,
   "id": "eb88c79b",
   "metadata": {},
   "outputs": [
    {
     "name": "stdout",
     "output_type": "stream",
     "text": [
      "Table is created.\n",
      "Data inserted.\n"
     ]
    }
   ],
   "source": [
    "r = Tk()\n",
    "r.geometry(\"500x500\")\n",
    "r.configure(bg=\"khaki\")\n",
    "r.title(\"Reg form\")\n",
    "r.resizable(0, 0)\n",
    "\n",
    "def submit():\n",
    "    Name = na0_entry.get()\n",
    "    Fathername = na1_entry.get()\n",
    "    EmailId = na2_entry.get()\n",
    "    Mobilenumber = na3_entry.get()\n",
    "\n",
    "    def createtable():\n",
    "        conn = createconnection()\n",
    "        cursor = conn.cursor()\n",
    "        query = \"CREATE TABLE IF NOT EXISTS student (Name VARCHAR(50), Fathername VARCHAR(50), EmailId VARCHAR(50), Mobilenumber VARCHAR(50))\"\n",
    "        cursor.execute(query)\n",
    "        conn.commit()\n",
    "        print(\"Table is created.\")\n",
    "        conn.close()\n",
    "\n",
    "    createtable()\n",
    "\n",
    "    def insertdata(Name, Fathername, EmailId, Mobilenumber):\n",
    "        conn = createconnection()\n",
    "        cursor = conn.cursor()\n",
    "        args = (Name, Fathername, EmailId, Mobilenumber)\n",
    "        query = \"INSERT INTO student(Name, Fathername, EmailId, Mobilenumber) VALUES (%s, %s, %s, %s)\"\n",
    "        cursor.execute(query, args)\n",
    "        conn.commit()\n",
    "        print(\"Data inserted.\")\n",
    "        conn.close()\n",
    "\n",
    "    if Name == \"\":\n",
    "        messagebox.showerror(\"Error\", \"Please Enter Your Name\")\n",
    "    elif Fathername == \"\":\n",
    "        messagebox.showerror(\"Error\", \"Please Enter Your Father Name\")\n",
    "    elif EmailId == \"\":\n",
    "        messagebox.showerror(\"Error\", \"Please Enter Your Email ID\")\n",
    "    elif Mobilenumber == \"\":\n",
    "        messagebox.showerror(\"Error\", \"Please Enter Your Mobile Number\")\n",
    "    else:\n",
    "        insertdata(Name, Fathername, EmailId, Mobilenumber)\n",
    "        messagebox.showinfo(\"Success\", \"Registration successful\")\n",
    "\n",
    "def clear():\n",
    "    na0_entry.delete(0, END)\n",
    "    na1_entry.delete(0, END)\n",
    "    na2_entry.delete(0, END)\n",
    "    na3_entry.delete(0, END)\n",
    "\n",
    "reg = Label(r, text=\"REGISTRATION FORM\", font=(\"Segoe Script\", 15))\n",
    "reg.place(x=130, y=30)\n",
    "reg.configure(bg=\"yellow3\")\n",
    "\n",
    "na0 = Label(r, text=\"NAME\", font=(\"Segoe Script\", 13))\n",
    "na0.place(x=40, y=90)\n",
    "na0.configure(bg=\"darkkhaki\")\n",
    "na0_entry = Entry(font=\"30\")\n",
    "na0_entry.configure(bg=\"palegoldenrod\")\n",
    "na0_entry.place(x=120, y=95)\n",
    "\n",
    "na1 = Label(r, text=\"FATHER'S NAME\", font=(\"Segoe Script\", 13))\n",
    "na1.place(x=40, y=150)\n",
    "na1.configure(bg=\"darkkhaki\")\n",
    "na1_entry = Entry(font=\"30\")\n",
    "na1_entry.configure(bg=\"palegoldenrod\")\n",
    "na1_entry.place(x=220, y=155)\n",
    "\n",
    "na2 = Label(r, text=\"MOBILE NUMBER\", font=(\"Segoe Script\", 13))\n",
    "na2.place(x=40, y=205)\n",
    "na2.configure(bg=\"darkkhaki\")\n",
    "na2_entry = Entry(font=\"30\")\n",
    "na2_entry.configure(bg=\"palegoldenrod\")\n",
    "na2_entry.place(x=230, y=210)\n",
    "\n",
    "na3 = Label(r, text=\"EMAIL ID\", font=(\"Segoe Script\", 13))\n",
    "na3.place(x=40, y=260)\n",
    "na3.configure(bg=\"darkkhaki\")\n",
    "na3_entry = Entry(font=\"30\")\n",
    "na3_entry.configure(bg=\"palegoldenrod\")\n",
    "na3_entry.place(x=150, y=265)\n",
    "\n",
    "submit_btn = Button(r, text=\"SUBMIT\", font=\"30\", command=submit)\n",
    "submit_btn.place(x=40, y=380)\n",
    "submit_btn.configure(bg=\"darkkhaki\")\n",
    "\n",
    "clear_btn = Button(r, text=\"CLEAR\", font=\"30\", command=clear)\n",
    "clear_btn.place(x=210, y=380)\n",
    "clear_btn.configure(bg=\"darkkhaki\")\n",
    "\n",
    "exit_btn = Button(r, text=\"EXIT\", font=\"30\", command=r.destroy)\n",
    "exit_btn.place(x=380, y=380)\n",
    "exit_btn.configure(bg=\"darkkhaki\")\n",
    "\n",
    "r.mainloop()\n"
   ]
  },
  {
   "cell_type": "code",
   "execution_count": null,
   "id": "19d46315",
   "metadata": {},
   "outputs": [],
   "source": []
  }
 ],
 "metadata": {
  "kernelspec": {
   "display_name": "Python 3 (ipykernel)",
   "language": "python",
   "name": "python3"
  },
  "language_info": {
   "codemirror_mode": {
    "name": "ipython",
    "version": 3
   },
   "file_extension": ".py",
   "mimetype": "text/x-python",
   "name": "python",
   "nbconvert_exporter": "python",
   "pygments_lexer": "ipython3",
   "version": "3.10.9"
  }
 },
 "nbformat": 4,
 "nbformat_minor": 5
}
