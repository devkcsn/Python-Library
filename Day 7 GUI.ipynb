{
 "cells": [
  {
   "cell_type": "code",
   "execution_count": 18,
   "id": "00884581",
   "metadata": {},
   "outputs": [],
   "source": [
    "from tkinter import*"
   ]
  },
  {
   "cell_type": "code",
   "execution_count": 21,
   "id": "b148f290",
   "metadata": {},
   "outputs": [],
   "source": [
    "r=Tk()\n",
    "r.geometry(\"500x500\")\n",
    "r.configure(bg=\"orange\")\n",
    "r.title(\"Reg form\")\n",
    "r.resizable(0,0)\n",
    "reg=Label(r,text=\"REGISTRATION FORM\",font=\"30\")\n",
    "reg.place(x=180,y=40)\n",
    "na=Label(r,text=\"NAME\",font=\"30\")\n",
    "na.place(x=40,y=90)\n",
    "na_entry=Entry(font=\"30\")\n",
    "na_entry.place(x=120,y=90)\n",
    "button1=Button(r,text=\"SUBMIT\",font=\"30\")\n",
    "button1.place(x=40,y=380)\n",
    "mainloop()"
   ]
  }
 ],
 "metadata": {
  "kernelspec": {
   "display_name": "Python 3 (ipykernel)",
   "language": "python",
   "name": "python3"
  },
  "language_info": {
   "codemirror_mode": {
    "name": "ipython",
    "version": 3
   },
   "file_extension": ".py",
   "mimetype": "text/x-python",
   "name": "python",
   "nbconvert_exporter": "python",
   "pygments_lexer": "ipython3",
   "version": "3.10.9"
  }
 },
 "nbformat": 4,
 "nbformat_minor": 5
}
