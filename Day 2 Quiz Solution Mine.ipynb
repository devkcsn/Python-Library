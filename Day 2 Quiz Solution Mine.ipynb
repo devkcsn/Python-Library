{
 "cells": [
  {
   "cell_type": "code",
   "execution_count": null,
   "id": "d08ce778",
   "metadata": {},
   "outputs": [],
   "source": [
    "#Simple Interest "
   ]
  },
  {
   "cell_type": "code",
   "execution_count": null,
   "id": "b0fc13dc",
   "metadata": {
    "scrolled": true
   },
   "outputs": [],
   "source": [
    "principal_amount = int(input('Enter the deposited amount $ -'))\n",
    "rate = int(input('Enter the annual ROI - '))\n",
    "time = int(input('Time - '))\n",
    "simple_interest = principal_amount*rate/100*time\n",
    "print('Simple Interest = $' , simple_interest)                                                            "
   ]
  },
  {
   "cell_type": "code",
   "execution_count": null,
   "id": "3676541f",
   "metadata": {},
   "outputs": [],
   "source": [
    "#Compound_Interest"
   ]
  },
  {
   "cell_type": "code",
   "execution_count": null,
   "id": "831cb954",
   "metadata": {},
   "outputs": [],
   "source": [
    "principal_amount = float(input('Enter the deposited amount $ -  '))\n",
    "rate = float(input('Enter the annual ROI -  '))\n",
    "time = float(input('Time -  '))\n",
    "number_of_times_interest_is_compounded = int(input('Number of times interest is compounded -  ' ))\n",
    "compound_interest_amount = principal_amount*(1+rate/number_of_times_interest_is_compounded)**(number_of_times_interest_is_compounded*time)\n",
    "print('Compound Interest Amount = $ ' , compound_interest_amount )"
   ]
  },
  {
   "cell_type": "code",
   "execution_count": null,
   "id": "cb00c6a5",
   "metadata": {},
   "outputs": [],
   "source": [
    "# Input principal amount\n",
    "principal = float(input(\"Enter the principal amount: \"))\n",
    "\n",
    "# Input interest rate\n",
    "interest_rate = float(input(\"Enter the interest rate (in decimal form): \"))\n",
    "\n",
    "# Input time period\n",
    "time_period = int(input(\"Enter the time period (in years): \"))\n",
    "\n",
    "# Calculate compound interest\n",
    "compound_interest = principal * (1 + interest_rate) ** time_period - principal\n",
    "\n",
    "# Print the result\n",
    "print(\"Compound Interest:\", compound_interest)\n"
   ]
  },
  {
   "cell_type": "code",
   "execution_count": null,
   "id": "b23644fe",
   "metadata": {},
   "outputs": [],
   "source": [
    "#Celcius to Fahrenheit "
   ]
  },
  {
   "cell_type": "code",
   "execution_count": null,
   "id": "ad8c1c5d",
   "metadata": {},
   "outputs": [],
   "source": [
    "temp = float(input(\"Temperature in Celcius -> \"))\n",
    "temp2= (temp * 9/5) + 32\n",
    "print('Temperature in Fahrenheit -> ' , temp2 , \"°F\")\n"
   ]
  },
  {
   "cell_type": "code",
   "execution_count": null,
   "id": "6f6cae8a",
   "metadata": {},
   "outputs": [],
   "source": [
    "#Fahrenheit to Celcius "
   ]
  },
  {
   "cell_type": "code",
   "execution_count": null,
   "id": "3b320bdb",
   "metadata": {},
   "outputs": [],
   "source": [
    "temp = float(input(\"Temperature in Fahrenheit -> \"))\n",
    "temp2 = (temp - 32) * 5/9\n",
    "print('Temperature in Celcius -> ' ,temp2, '°C')"
   ]
  },
  {
   "cell_type": "code",
   "execution_count": null,
   "id": "b4ba1534",
   "metadata": {},
   "outputs": [],
   "source": [
    "#Celcius to Kelvin"
   ]
  },
  {
   "cell_type": "code",
   "execution_count": null,
   "id": "19f94e99",
   "metadata": {},
   "outputs": [],
   "source": [
    "temp = float(input(\"Temperature in Celcius -> \"))\n",
    "temp += 273.15\n",
    "print(\"Temperature in Kelvin -> \",temp ,'K')"
   ]
  },
  {
   "cell_type": "code",
   "execution_count": null,
   "id": "ca6a49a7",
   "metadata": {},
   "outputs": [],
   "source": [
    "#Swapping "
   ]
  },
  {
   "cell_type": "code",
   "execution_count": null,
   "id": "592edf22",
   "metadata": {},
   "outputs": [],
   "source": [
    "var1 = int(input('Variable 1 -> '))\n",
    "var2 = int(input('Variable 2 -> '))\n",
    "temp=var1\n",
    "var1=var2\n",
    "var2=temp\n",
    "\n",
    "print('After Swapping')\n",
    "\n",
    "print('Variable 1 -> ' , var1 , 'Variable 2 ->' , var2)"
   ]
  },
  {
   "cell_type": "code",
   "execution_count": null,
   "id": "09b71e7c",
   "metadata": {},
   "outputs": [],
   "source": [
    "#Swapping without third variable"
   ]
  },
  {
   "cell_type": "code",
   "execution_count": null,
   "id": "3512ad24",
   "metadata": {},
   "outputs": [],
   "source": [
    "var1 = int(input('Variable 1 -> '))\n",
    "var2 = int(input('Variable 2 -> '))\n",
    "\n",
    "var1 , var2 = var2 , var1\n",
    "print('After Swapping')\n",
    "\n",
    "print('Variable 1 -> ' , var1 , ': Variable 2 -> ' ,var2)\n"
   ]
  },
  {
   "cell_type": "code",
   "execution_count": null,
   "id": "66905951",
   "metadata": {},
   "outputs": [],
   "source": [
    "#BMI Calculator"
   ]
  },
  {
   "cell_type": "code",
   "execution_count": null,
   "id": "7bfa8e6f",
   "metadata": {},
   "outputs": [],
   "source": [
    "Weight = float(input('Weight in kg -> '))\n",
    "Height = float(input('Height in feet -> '))\n",
    "BMI = Weight/(Height*0.3048)**2\n",
    "print('BMI' , BMI)\n",
    "if(BMI<18):\n",
    "print('Under Weight')\n",
    "if(BMI>=18 and BMI<=25):\n",
    "print('Normal')\n",
    "if(BMI>25):\n",
    "print('Overweight')"
   ]
  },
  {
   "cell_type": "code",
   "execution_count": null,
   "id": "0de345fd",
   "metadata": {},
   "outputs": [],
   "source": [
    "#EMI Calculator"
   ]
  },
  {
   "cell_type": "code",
   "execution_count": 9,
   "id": "d02c133b",
   "metadata": {},
   "outputs": [
    {
     "name": "stdout",
     "output_type": "stream",
     "text": [
      "Total amount -> 5400\n",
      "Paid amount -> 2000\n",
      "Rate of interest -> 45\n",
      "Number of cycle of EMI ->8\n",
      "EMI = 1529.0\n"
     ]
    }
   ],
   "source": [
    "T=int(input('Total amount -> '))\n",
    "PAID = int(input(\"Paid amount -> \"))\n",
    "P = T - PAID\n",
    "R=int(input('Rate of interest -> '))\n",
    "R /= 100\n",
    "N=int(input('Number of cycle of EMI ->'))\n",
    "A= P*R*(1+R)**N/(1+R)**N-1\n",
    "print(\"EMI =\" , A)"
   ]
  },
  {
   "cell_type": "code",
   "execution_count": 13,
   "id": "9cb5a842",
   "metadata": {},
   "outputs": [
    {
     "name": "stdout",
     "output_type": "stream",
     "text": [
      "Total amount -> 54000\n",
      "Paid amount -> 20000\n",
      "Rate of interest -> 5\n",
      "Number of months of EMI -> 4\n",
      "EMI with 0.004166666666666667 % = 8588.725744339312\n"
     ]
    }
   ],
   "source": [
    "T = int(input('Total amount -> '))\n",
    "PAID = int(input(\"Paid amount -> \"))\n",
    "P = T - PAID\n",
    "R = int(input('Rate of interest -> '))  # Corrected: Convert to int\n",
    "R /= (12*100)\n",
    "N = int(input('Number of months of EMI -> '))  # Corrected: Corrected the prompt message\n",
    "A = P * R * (1 + R)**N / ((1 + R)**N - 1)  # Corrected: Added parentheses for proper calculation\n",
    "print(f\"EMI with {R} % =\", A)  # Corrected: Adjusted the print statement"
   ]
  },
  {
   "cell_type": "code",
   "execution_count": null,
   "id": "9d01e2f7",
   "metadata": {},
   "outputs": [],
   "source": []
  }
 ],
 "metadata": {
  "kernelspec": {
   "display_name": "Python 3 (ipykernel)",
   "language": "python",
   "name": "python3"
  },
  "language_info": {
   "codemirror_mode": {
    "name": "ipython",
    "version": 3
   },
   "file_extension": ".py",
   "mimetype": "text/x-python",
   "name": "python",
   "nbconvert_exporter": "python",
   "pygments_lexer": "ipython3",
   "version": "3.10.9"
  }
 },
 "nbformat": 4,
 "nbformat_minor": 5
}
