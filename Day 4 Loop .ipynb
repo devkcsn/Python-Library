{
 "cells": [
  {
   "cell_type": "markdown",
   "id": "2abb4d7d",
   "metadata": {},
   "source": [
    "### For Loop "
   ]
  },
  {
   "cell_type": "code",
   "execution_count": 1,
   "id": "7984c0b5",
   "metadata": {},
   "outputs": [
    {
     "name": "stdout",
     "output_type": "stream",
     "text": [
      "Amit\n",
      "Rahul\n",
      "Sumit\n",
      "Aditya\n",
      "Done!\n"
     ]
    }
   ],
   "source": [
    "Name = ['Amit' , 'Rahul' , 'Sumit' , 'Aditya']\n",
    "\n",
    "for Names in Name:\n",
    "    print(Names)\n",
    "    \n",
    "print('Done!')"
   ]
  },
  {
   "cell_type": "code",
   "execution_count": 2,
   "id": "4ba14b38",
   "metadata": {},
   "outputs": [
    {
     "name": "stdout",
     "output_type": "stream",
     "text": [
      "Even number ->  0\n",
      "Even number ->  2\n",
      "Even number ->  4\n",
      "Even number ->  6\n",
      "Even number ->  8\n",
      "Even number ->  10\n",
      "Even number ->  12\n",
      "Even number ->  14\n"
     ]
    }
   ],
   "source": [
    "number_list = [0,1,2,3,4,5,6,7,8,9,10,11,12,13,14,15]\n",
    "for even_number in number_list:\n",
    "    if even_number%2==0:\n",
    "        print(\"Even number -> \" , even_number)"
   ]
  },
  {
   "cell_type": "code",
   "execution_count": 3,
   "id": "3b29894a",
   "metadata": {},
   "outputs": [
    {
     "name": "stdout",
     "output_type": "stream",
     "text": [
      "0\n",
      "2\n",
      "4\n",
      "6\n",
      "8\n",
      "10\n",
      "12\n",
      "14\n",
      "16\n",
      "18\n",
      "20\n",
      "22\n",
      "24\n",
      "26\n",
      "28\n",
      "30\n",
      "32\n",
      "34\n",
      "36\n",
      "38\n",
      "40\n",
      "42\n",
      "44\n",
      "46\n",
      "48\n",
      "50\n",
      "52\n",
      "54\n",
      "56\n",
      "58\n",
      "60\n",
      "62\n",
      "64\n",
      "66\n",
      "68\n",
      "70\n",
      "72\n",
      "74\n",
      "76\n",
      "78\n",
      "80\n",
      "82\n",
      "84\n",
      "86\n",
      "88\n",
      "90\n",
      "92\n",
      "94\n",
      "96\n",
      "98\n",
      "100\n"
     ]
    }
   ],
   "source": [
    "List = list(range(101))\n",
    "for num in List:\n",
    "    if num%2 == 0:\n",
    "        print(num)"
   ]
  },
  {
   "cell_type": "code",
   "execution_count": 4,
   "id": "81868464",
   "metadata": {},
   "outputs": [],
   "source": [
    "#Question 2"
   ]
  },
  {
   "cell_type": "code",
   "execution_count": 5,
   "id": "ab445d50",
   "metadata": {},
   "outputs": [
    {
     "name": "stdout",
     "output_type": "stream",
     "text": [
      "Sum of the numbers: 1683\n"
     ]
    }
   ],
   "source": [
    "sum_of_numbers = 0\n",
    "\n",
    "for num in range(100):\n",
    "    if num % 3 == 0:\n",
    "        sum_of_numbers += num\n",
    "\n",
    "print(\"Sum of the numbers:\", sum_of_numbers)\n"
   ]
  },
  {
   "cell_type": "code",
   "execution_count": 6,
   "id": "705cc9ca",
   "metadata": {},
   "outputs": [],
   "source": [
    "#Question 3"
   ]
  },
  {
   "cell_type": "code",
   "execution_count": 7,
   "id": "81387715",
   "metadata": {},
   "outputs": [
    {
     "name": "stdout",
     "output_type": "stream",
     "text": [
      "Bill Gates\n",
      "Steve Jobs\n",
      "Mark Zuckerberg\n"
     ]
    }
   ],
   "source": [
    "names = [\"Bill Gates\", \"Steve Jobs\", \"Mark Zuckerberg\" , \"Amit\" , \"Rahul\"]\n",
    "letter = \"b\" \n",
    "for name in names:\n",
    "    if letter in name or letter.upper() in name:\n",
    "        print(name)\n"
   ]
  },
  {
   "cell_type": "code",
   "execution_count": 8,
   "id": "d34b63a6",
   "metadata": {},
   "outputs": [],
   "source": [
    "#Question 4"
   ]
  },
  {
   "cell_type": "code",
   "execution_count": 9,
   "id": "d91790d9",
   "metadata": {},
   "outputs": [],
   "source": [
    "n = int(input())\n",
    "\n",
    "for i in range(n+1):\n",
    "    print(n-1-i)"
   ]
  },
  {
   "cell_type": "code",
   "execution_count": null,
   "id": "e6c74e98",
   "metadata": {},
   "outputs": [],
   "source": [
    "#Modified Code"
   ]
  },
  {
   "cell_type": "code",
   "execution_count": null,
   "id": "6bb439b2",
   "metadata": {},
   "outputs": [],
   "source": [
    "print(\"Enter the number last number \")\n",
    "n = int(input())\n",
    "for num in range(n-1,-1,-1):\n",
    "    print(num, end =\" \")\n",
    "    "
   ]
  },
  {
   "cell_type": "code",
   "execution_count": null,
   "id": "7506d8f9",
   "metadata": {},
   "outputs": [],
   "source": [
    "n = int(input(\"Enter the number -> \"))\n",
    "for num in range(n,-1,-1):\n",
    "    print(num, end=\"  \")"
   ]
  },
  {
   "cell_type": "code",
   "execution_count": null,
   "id": "95a2a362",
   "metadata": {},
   "outputs": [],
   "source": [
    "#Question 5"
   ]
  },
  {
   "cell_type": "code",
   "execution_count": null,
   "id": "228e763d",
   "metadata": {},
   "outputs": [],
   "source": [
    "n = int(input(\"Enter the number: \"))\n",
    "for num in range(0,n,2):\n",
    "    print(num)"
   ]
  },
  {
   "cell_type": "code",
   "execution_count": null,
   "id": "43014f78",
   "metadata": {},
   "outputs": [],
   "source": [
    "#Question 6"
   ]
  },
  {
   "cell_type": "code",
   "execution_count": null,
   "id": "843b33b1",
   "metadata": {},
   "outputs": [],
   "source": [
    "names = [ \"Bill gates\" , \"Mark zukerburg\" , \"Aesthetic\"]\n",
    "for name in names: \n",
    "    for letters in name:\n",
    "        print( letters )"
   ]
  },
  {
   "cell_type": "code",
   "execution_count": null,
   "id": "8fb046b7",
   "metadata": {},
   "outputs": [],
   "source": [
    "#Question 7"
   ]
  },
  {
   "cell_type": "code",
   "execution_count": null,
   "id": "1a83346a",
   "metadata": {},
   "outputs": [],
   "source": [
    "sum = 0\n",
    "n = int(input())\n",
    "for num in range(n+1):\n",
    "    sum += num\n",
    "print(\"Average is--> \" ,sum/n)"
   ]
  },
  {
   "cell_type": "code",
   "execution_count": null,
   "id": "d7c9fdbd",
   "metadata": {},
   "outputs": [],
   "source": [
    "#Additional questions\n",
    "\n",
    "n = int(input(\"Enter the last number \"))\n",
    "for i in range(0,n,7):\n",
    "    print(i , end=\"\\t\")"
   ]
  },
  {
   "cell_type": "code",
   "execution_count": null,
   "id": "9d5447a4",
   "metadata": {},
   "outputs": [],
   "source": [
    "#Additional questions\n",
    "\n",
    "n = int(input(\"Enter the last number \"))\n",
    "for i in range(0,n,7):\n",
    "    print(i , end=\" \")"
   ]
  },
  {
   "cell_type": "code",
   "execution_count": null,
   "id": "d8c158b3",
   "metadata": {},
   "outputs": [],
   "source": [
    "#Print a pattern"
   ]
  },
  {
   "cell_type": "code",
   "execution_count": null,
   "id": "53f1b905",
   "metadata": {},
   "outputs": [],
   "source": [
    "for i in range(1,8):\n",
    "    str='*'*i\n",
    "    print(str)"
   ]
  },
  {
   "cell_type": "code",
   "execution_count": null,
   "id": "ec849d0a",
   "metadata": {},
   "outputs": [],
   "source": [
    "n = int(input())\n",
    "for i in range(1,n+1):\n",
    "    str='*'*i\n",
    "    print(str)"
   ]
  },
  {
   "cell_type": "code",
   "execution_count": null,
   "id": "8d90b3a9",
   "metadata": {},
   "outputs": [],
   "source": [
    "n = int(input(\"Total number of pattern-> \"))\n",
    "print(\"The Patter will be\")\n",
    "for i in range(n,-1,-1):\n",
    "    str='*'*i\n",
    "    print(str)"
   ]
  },
  {
   "cell_type": "code",
   "execution_count": null,
   "id": "c839a83d",
   "metadata": {},
   "outputs": [],
   "source": [
    "n = int(input())\n",
    "for i in range(1,n+1):\n",
    "    str='*'*i\n",
    "    print(str)\n",
    "for i in range(n,-1,-1):\n",
    "    str='*'*i\n",
    "    print(str)"
   ]
  },
  {
   "cell_type": "code",
   "execution_count": null,
   "id": "c8f5fe28",
   "metadata": {},
   "outputs": [],
   "source": [
    "n = int(input())\n",
    "for i in range(0,n+1):\n",
    "    str=(n-i)*' '+ i*\" *\"  \n",
    "    print(str)\n",
    "for i in range(n,-1,-1):\n",
    "    str=(n-i)*' '+ i*\" *\"  \n",
    "    print(str)"
   ]
  },
  {
   "cell_type": "markdown",
   "id": "24626db2",
   "metadata": {},
   "source": [
    "### Control For Loop"
   ]
  },
  {
   "cell_type": "code",
   "execution_count": null,
   "id": "2e07b757",
   "metadata": {},
   "outputs": [],
   "source": [
    "number = [1,4,8,21,96,45,14,25,85]\n",
    "\n",
    "for i in number:\n",
    "    if i > 45:\n",
    "        break\n",
    "    else:\n",
    "        print(i)"
   ]
  },
  {
   "cell_type": "code",
   "execution_count": null,
   "id": "5e37274a",
   "metadata": {},
   "outputs": [],
   "source": [
    "number = [1,4,8,21,96,45,14,25,85]\n",
    "\n",
    "for i in number:\n",
    "    if i <= 4:\n",
    "        print(i)\n",
    "   "
   ]
  },
  {
   "cell_type": "markdown",
   "id": "d1d8878f",
   "metadata": {},
   "source": [
    "### While Loop"
   ]
  },
  {
   "cell_type": "code",
   "execution_count": null,
   "id": "9fd19caf",
   "metadata": {},
   "outputs": [],
   "source": [
    "counter = 0\n",
    "while counter < 5:\n",
    "    print(\"Hi\")\n",
    "    counter += 1"
   ]
  },
  {
   "cell_type": "code",
   "execution_count": null,
   "id": "1417b7c8",
   "metadata": {},
   "outputs": [],
   "source": [
    "n = int(input(\"Enter the value of 'n': \"))\n",
    "sum_numbers = 0\n",
    "count = 0\n",
    "\n",
    "while count <= n:\n",
    "    sum_numbers += count\n",
    "    count += 1\n",
    "\n",
    "average = sum_numbers / n\n",
    "\n",
    "print(\"Average of the first\", n, \"natural numbers:\", average)"
   ]
  },
  {
   "cell_type": "code",
   "execution_count": null,
   "id": "3561a4d7",
   "metadata": {},
   "outputs": [],
   "source": [
    "#Interview Question"
   ]
  },
  {
   "cell_type": "code",
   "execution_count": null,
   "id": "a1decdf7",
   "metadata": {},
   "outputs": [],
   "source": [
    "n = int(input(\"Enter an integer: \"))\n",
    "reversed_n = 0\n",
    "\n",
    "while n > 0:\n",
    "    digit = n % 10\n",
    "    reversed_n = (reversed_n * 10) + digit\n",
    "    n = n // 10\n",
    "\n",
    "print(\"Reversed integer:\", reversed_n)\n"
   ]
  },
  {
   "cell_type": "markdown",
   "id": "c4fa2b59-e4cf-4e44-89b8-9f67812074a1",
   "metadata": {},
   "source": [
    "### Nested Loop"
   ]
  },
  {
   "cell_type": "code",
   "execution_count": null,
   "id": "0dc0ecd5-c29e-43a4-a85c-ba25a84005cc",
   "metadata": {},
   "outputs": [],
   "source": [
    "for i in range(1,11):\n",
    "    for j in range(1,11):\n",
    "        print(f\"{i} X {j} = \" , i*j)\n",
    "    print()"
   ]
  },
  {
   "cell_type": "code",
   "execution_count": null,
   "id": "9dcab62d-802f-43bb-9357-2c18c8161de3",
   "metadata": {},
   "outputs": [
    {
     "name": "stdout",
     "output_type": "stream",
     "text": [
      "1 X 1 =  1\n",
      "1 X 2 =  2\n",
      "1 X 3 =  3\n",
      "1 X 4 =  4\n",
      "1 X 5 =  5\n",
      "1 X 6 =  6\n",
      "1 X 7 =  7\n",
      "1 X 8 =  8\n",
      "1 X 9 =  9\n",
      "1 X 10 =  10\n",
      "\n",
      "2 X 1 =  2\n",
      "2 X 2 =  4\n",
      "2 X 3 =  6\n",
      "2 X 4 =  8\n",
      "2 X 5 =  10\n",
      "2 X 6 =  12\n",
      "2 X 7 =  14\n",
      "2 X 8 =  16\n",
      "2 X 9 =  18\n",
      "2 X 10 =  20\n",
      "\n",
      "3 X 1 =  3\n",
      "3 X 2 =  6\n",
      "3 X 3 =  9\n",
      "3 X 4 =  12\n",
      "3 X 5 =  15\n",
      "3 X 6 =  18\n",
      "3 X 7 =  21\n",
      "3 X 8 =  24\n",
      "3 X 9 =  27\n",
      "3 X 10 =  30\n",
      "\n",
      "4 X 1 =  4\n",
      "4 X 2 =  8\n",
      "4 X 3 =  12\n",
      "4 X 4 =  16\n",
      "4 X 5 =  20\n",
      "4 X 6 =  24\n",
      "4 X 7 =  28\n",
      "4 X 8 =  32\n",
      "4 X 9 =  36\n",
      "4 X 10 =  40\n",
      "\n",
      "5 X 1 =  5\n",
      "5 X 2 =  10\n",
      "5 X 3 =  15\n",
      "5 X 4 =  20\n",
      "5 X 5 =  25\n",
      "5 X 6 =  30\n",
      "5 X 7 =  35\n",
      "5 X 8 =  40\n",
      "5 X 9 =  45\n",
      "5 X 10 =  50\n",
      "\n",
      "6 X 1 =  6\n",
      "6 X 2 =  12\n",
      "6 X 3 =  18\n",
      "6 X 4 =  24\n",
      "6 X 5 =  30\n",
      "6 X 6 =  36\n",
      "6 X 7 =  42\n",
      "6 X 8 =  48\n",
      "6 X 9 =  54\n",
      "6 X 10 =  60\n",
      "\n",
      "7 X 1 =  7\n",
      "7 X 2 =  14\n",
      "7 X 3 =  21\n",
      "7 X 4 =  28\n",
      "7 X 5 =  35\n",
      "7 X 6 =  42\n",
      "7 X 7 =  49\n",
      "7 X 8 =  56\n",
      "7 X 9 =  63\n",
      "7 X 10 =  70\n",
      "\n",
      "8 X 1 =  8\n",
      "8 X 2 =  16\n",
      "8 X 3 =  24\n",
      "8 X 4 =  32\n",
      "8 X 5 =  40\n",
      "8 X 6 =  48\n",
      "8 X 7 =  56\n",
      "8 X 8 =  64\n",
      "8 X 9 =  72\n",
      "8 X 10 =  80\n",
      "\n",
      "9 X 1 =  9\n",
      "9 X 2 =  18\n",
      "9 X 3 =  27\n",
      "9 X 4 =  36\n",
      "9 X 5 =  45\n",
      "9 X 6 =  54\n",
      "9 X 7 =  63\n",
      "9 X 8 =  72\n",
      "9 X 9 =  81\n",
      "9 X 10 =  90\n",
      "\n",
      "10 X 1 =  10\n",
      "10 X 2 =  20\n",
      "10 X 3 =  30\n",
      "10 X 4 =  40\n",
      "10 X 5 =  50\n",
      "10 X 6 =  60\n",
      "10 X 7 =  70\n",
      "10 X 8 =  80\n",
      "10 X 9 =  90\n",
      "10 X 10 =  100\n",
      "\n",
      "11 X 1 =  11\n",
      "11 X 2 =  22\n",
      "11 X 3 =  33\n",
      "11 X 4 =  44\n",
      "11 X 5 =  55\n",
      "11 X 6 =  66\n",
      "11 X 7 =  77\n",
      "11 X 8 =  88\n",
      "11 X 9 =  99\n",
      "11 X 10 =  110\n",
      "\n"
     ]
    }
   ],
   "source": [
    "i = 0\n",
    "while i < 11:\n",
    "    i+=1\n",
    "    for j in range(1,11):\n",
    "        print(f\"{i} X {j} = \" ,  i*j ) \n",
    "    print()"
   ]
  },
  {
   "cell_type": "code",
   "execution_count": null,
   "id": "6e23f98c-2356-4bcc-a86d-4d1e21ad7184",
   "metadata": {},
   "outputs": [
    {
     "name": "stdout",
     "output_type": "stream",
     "text": [
      "1\n",
      "2\n"
     ]
    }
   ],
   "source": [
    "i = 1\n",
    "while True:\n",
    "    if i%3 == 0:\n",
    "        break\n",
    "    print(i)\n",
    "    i += 1"
   ]
  },
  {
   "cell_type": "code",
   "execution_count": null,
   "id": "5409638a-d851-494c-9192-5c44b2a92f98",
   "metadata": {},
   "outputs": [
    {
     "name": "stdout",
     "output_type": "stream",
     "text": [
      "0 3 6 9 12 15 "
     ]
    }
   ],
   "source": [
    "\n",
    "count = 0\n",
    "while(True):\n",
    "    if count % 3 == 0:\n",
    "        print(count, end = \" \")\n",
    "    if(count > 15):\n",
    "        break;\n",
    "    count += 1\n"
   ]
  },
  {
   "cell_type": "code",
   "execution_count": null,
   "id": "5c175988-49b9-426d-a9d1-47004f62ca76",
   "metadata": {},
   "outputs": [],
   "source": []
  },
  {
   "cell_type": "code",
   "execution_count": null,
   "id": "68d717aa-f088-4158-b190-0d8b9e2b5daf",
   "metadata": {},
   "outputs": [],
   "source": []
  }
 ],
 "metadata": {
  "kernelspec": {
   "display_name": "Python 3 (ipykernel)",
   "language": "python",
   "name": "python3"
  },
  "language_info": {
   "codemirror_mode": {
    "name": "ipython",
    "version": 3
   },
   "file_extension": ".py",
   "mimetype": "text/x-python",
   "name": "python",
   "nbconvert_exporter": "python",
   "pygments_lexer": "ipython3",
   "version": "3.11.4"
  }
 },
 "nbformat": 4,
 "nbformat_minor": 5
}
