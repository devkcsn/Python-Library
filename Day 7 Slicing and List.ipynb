{
 "cells": [
  {
   "cell_type": "code",
   "execution_count": 1,
   "id": "88d7808a",
   "metadata": {},
   "outputs": [
    {
     "name": "stdout",
     "output_type": "stream",
     "text": [
      "Pp\n"
     ]
    }
   ],
   "source": [
    "S = \"HaPpy\"\n",
    "print(S[2:4])"
   ]
  },
  {
   "cell_type": "code",
   "execution_count": null,
   "id": "f5e1556e",
   "metadata": {},
   "outputs": [],
   "source": [
    "List = [\"Anything\",\"Abhishek\"]\n",
    "for i in List:\n",
    "    for j in range(0,len(i)):\n",
    "        print(i[0:j+1])"
   ]
  },
  {
   "cell_type": "code",
   "execution_count": null,
   "id": "f35d3ca8",
   "metadata": {},
   "outputs": [],
   "source": [
    "string = \"Anything\"\n",
    "string[ : len(string): 2]"
   ]
  },
  {
   "cell_type": "code",
   "execution_count": null,
   "id": "5f358836",
   "metadata": {},
   "outputs": [],
   "source": [
    "#Print to the last of the string"
   ]
  },
  {
   "cell_type": "code",
   "execution_count": null,
   "id": "d0942b60",
   "metadata": {},
   "outputs": [],
   "source": [
    "s = \"Python is a great language\"\n",
    "print(s[2:])"
   ]
  },
  {
   "cell_type": "code",
   "execution_count": null,
   "id": "4341a815",
   "metadata": {},
   "outputs": [],
   "source": [
    "s = \"Python is a great language\"\n",
    "print(s[0 : len(s)])"
   ]
  },
  {
   "cell_type": "code",
   "execution_count": null,
   "id": "7b639b40",
   "metadata": {},
   "outputs": [],
   "source": [
    "s = \"Python is a great language\"\n",
    "print(s[ : ])"
   ]
  },
  {
   "cell_type": "code",
   "execution_count": null,
   "id": "51417c50",
   "metadata": {},
   "outputs": [],
   "source": [
    "s = \"FRISDAY\"\n",
    "s[0:2:5]"
   ]
  },
  {
   "cell_type": "code",
   "execution_count": null,
   "id": "c790755d",
   "metadata": {},
   "outputs": [],
   "source": [
    "s = \"FRIDAY\"\n",
    "s[::-1]"
   ]
  },
  {
   "cell_type": "code",
   "execution_count": null,
   "id": "5fe614b8",
   "metadata": {},
   "outputs": [],
   "source": [
    "#  s = \"FRIDAY\"\n",
    "#  s[-3:-1:+ve]\n",
    "# LEFT TO RIGHT\n",
    "\n",
    "# s = \"FRIDAY\"\n",
    "# s[-3:-1:-ve]\n",
    "# RIGHT TO LEFT"
   ]
  },
  {
   "cell_type": "code",
   "execution_count": null,
   "id": "51b74946",
   "metadata": {},
   "outputs": [],
   "source": [
    "s = \"FRIDAY\"\n",
    "s[3:4]"
   ]
  },
  {
   "cell_type": "code",
   "execution_count": null,
   "id": "8f44f5b0",
   "metadata": {},
   "outputs": [],
   "source": [
    "greeting = \"Hello there\"\n",
    "\n",
    "print(\"Hello\" in greeting, \"her\" not in greeting)"
   ]
  },
  {
   "cell_type": "code",
   "execution_count": null,
   "id": "82ecd983",
   "metadata": {},
   "outputs": [],
   "source": [
    "#Tue in "
   ]
  },
  {
   "cell_type": "code",
   "execution_count": null,
   "id": "d214aeff",
   "metadata": {},
   "outputs": [],
   "source": [
    "greeting = \"Hello world\"\n",
    "print(greeting[:5] in greeting)"
   ]
  },
  {
   "cell_type": "code",
   "execution_count": null,
   "id": "9cd32e62",
   "metadata": {},
   "outputs": [],
   "source": [
    "#False in"
   ]
  },
  {
   "cell_type": "code",
   "execution_count": null,
   "id": "b4e0e41d",
   "metadata": {},
   "outputs": [],
   "source": [
    "greeting = \"Hello world\"\n",
    "print(greeting[:5:2] in greeting)\n",
    "\n",
    "greeting = \"Hello world\"\n",
    "print(greeting[:5:-2] in greeting)"
   ]
  },
  {
   "cell_type": "markdown",
   "id": "81b3fef1",
   "metadata": {},
   "source": [
    "#### Mutability"
   ]
  },
  {
   "cell_type": "code",
   "execution_count": null,
   "id": "acac3c3a",
   "metadata": {},
   "outputs": [],
   "source": [
    "List = ['Hi' , \"hello\" ,\"Namaste\"] \n",
    "List[1] = \"Waka waka\"\n",
    "\n",
    "for i in List:\n",
    "    print(i)"
   ]
  },
  {
   "cell_type": "code",
   "execution_count": null,
   "id": "be684e82",
   "metadata": {},
   "outputs": [],
   "source": [
    "string = \"Namaste\"\n",
    "string[1] = 'o'\n",
    "print(string)"
   ]
  },
  {
   "cell_type": "code",
   "execution_count": null,
   "id": "3d686f41",
   "metadata": {},
   "outputs": [],
   "source": [
    "string = \"Namaste\"\n",
    "print(min(string))\n",
    "print(max(string))\n",
    "print(sorted(string))\n",
    "print(len(string))"
   ]
  },
  {
   "cell_type": "markdown",
   "id": "51cf1e7a",
   "metadata": {},
   "source": [
    "#### List to String"
   ]
  },
  {
   "cell_type": "code",
   "execution_count": null,
   "id": "e8abd44f",
   "metadata": {},
   "outputs": [],
   "source": [
    "l = ['Tomorrow' , 'is' , 'friday']\n",
    "\" \".join(l)"
   ]
  },
  {
   "cell_type": "code",
   "execution_count": null,
   "id": "bc541fe0",
   "metadata": {},
   "outputs": [],
   "source": [
    "l = ['Tomorrow' , 'is' , 'friday']\n",
    "print(\" \".join(l))"
   ]
  },
  {
   "cell_type": "code",
   "execution_count": null,
   "id": "665f6ae5",
   "metadata": {},
   "outputs": [],
   "source": [
    "#String to list\n",
    "# s = 'Tomorrow is friday'\n",
    "# s.split(sperator)"
   ]
  },
  {
   "cell_type": "code",
   "execution_count": null,
   "id": "70aacebd",
   "metadata": {},
   "outputs": [],
   "source": [
    "s = 'Tomorrow is friday'\n",
    "s.split()"
   ]
  },
  {
   "cell_type": "code",
   "execution_count": null,
   "id": "8ee80077",
   "metadata": {},
   "outputs": [],
   "source": [
    "s.split('o')"
   ]
  },
  {
   "cell_type": "code",
   "execution_count": null,
   "id": "737e5767",
   "metadata": {},
   "outputs": [],
   "source": [
    "string = \"Christmas Day\"\n",
    "string.startswith(\"C\")"
   ]
  },
  {
   "cell_type": "code",
   "execution_count": null,
   "id": "aa6c4f3e",
   "metadata": {},
   "outputs": [],
   "source": [
    "string = \"Christmas Day\"\n",
    "string.endswith(\"ay\")"
   ]
  },
  {
   "cell_type": "code",
   "execution_count": null,
   "id": "4884672c",
   "metadata": {},
   "outputs": [],
   "source": [
    "#To remove space in string"
   ]
  },
  {
   "cell_type": "code",
   "execution_count": null,
   "id": "e05c2e19",
   "metadata": {},
   "outputs": [],
   "source": [
    "string = \"   Python is Object Oriented    \"\n",
    "print(string.strip())\n",
    "print(string.rstrip())\n",
    "print(string.lstrip())"
   ]
  },
  {
   "cell_type": "markdown",
   "id": "22a21a9f",
   "metadata": {},
   "source": [
    "#### To Remove all the spaces in string"
   ]
  },
  {
   "cell_type": "code",
   "execution_count": null,
   "id": "870a3c23",
   "metadata": {},
   "outputs": [],
   "source": [
    "string = \"   Python is Object Oriented    \"\n",
    "clean_space = string.strip()\n",
    "List = clean_space.split()\n",
    "\"\".join(List)"
   ]
  },
  {
   "cell_type": "code",
   "execution_count": null,
   "id": "51cb0e94",
   "metadata": {},
   "outputs": [],
   "source": [
    "string = \"   Python is Object Oriented    \"\n",
    "print(\"\".join(string.strip().split()))"
   ]
  },
  {
   "cell_type": "markdown",
   "id": "2f00adc9",
   "metadata": {},
   "source": [
    "#### Add item in list "
   ]
  },
  {
   "cell_type": "code",
   "execution_count": null,
   "id": "262417a1",
   "metadata": {},
   "outputs": [],
   "source": [
    "List = ['Border collie' , 'Cattle warrior' , 'Lustful himanshu']\n",
    "List.append(\"Border\")\n",
    "print(List)"
   ]
  },
  {
   "cell_type": "code",
   "execution_count": null,
   "id": "5f554d21",
   "metadata": {},
   "outputs": [],
   "source": [
    "dogs = ['X' , 'Y' , 'Z' , 'P']\n",
    "new_dogs = ['A' , 'B' , 'C']\n",
    "\n",
    "for i in range(len(new_dogs)):\n",
    "    dogs.append(new_dogs[i])\n",
    "\n",
    "print(dogs)"
   ]
  },
  {
   "cell_type": "code",
   "execution_count": null,
   "id": "2d3f09e9",
   "metadata": {},
   "outputs": [],
   "source": [
    "dogs = ['X' , 'Y' , 'Z' , 'P']\n",
    "new_dogs = ['A' , 'B' , 'C']\n",
    "\n",
    "for i in new_dogs:\n",
    "    dogs.append(i)\n",
    "\n",
    "print(dogs)"
   ]
  },
  {
   "cell_type": "code",
   "execution_count": null,
   "id": "b936544d",
   "metadata": {},
   "outputs": [],
   "source": [
    "l = ['Mon' , 'Tues' , 'Wed' , 'Thurs' , 'Fri' ]\n",
    "k = l\n",
    "k[0] = 'sun'\n",
    "print(k)\n",
    "print(l)"
   ]
  },
  {
   "cell_type": "code",
   "execution_count": null,
   "id": "d698768a",
   "metadata": {},
   "outputs": [],
   "source": [
    "l = ['Mon' , 'Tues' , 'Wed' , 'Thurs' , 'Fri' ]\n",
    "k = l.copy()\n",
    "k[0] = 'sun'\n",
    "print(k)\n",
    "print(l)"
   ]
  },
  {
   "cell_type": "code",
   "execution_count": null,
   "id": "1ca57452",
   "metadata": {},
   "outputs": [],
   "source": [
    "l = ['Mon' , 'Tues' , 'Wed' , 'Thurs' , 'Fri' ]\n",
    "l.append(\"sat\")\n",
    "l.append(\"sun\")\n",
    "l.append(1)\n",
    "l.append(True)\n",
    "print(l)"
   ]
  },
  {
   "cell_type": "markdown",
   "id": "794e3255",
   "metadata": {},
   "source": [
    "#### Adding two list"
   ]
  },
  {
   "cell_type": "code",
   "execution_count": null,
   "id": "d93f9f64",
   "metadata": {},
   "outputs": [],
   "source": [
    "l = ['Mon' , 'Tues' , 'Wed' , 'Thurs' , 'Fri' ]\n",
    "add = ['Sat' , 'Sun' , 10 , 20.5 , True]\n",
    "\n",
    "for i in add:\n",
    "    l.append(i)\n",
    "print(l)"
   ]
  },
  {
   "cell_type": "code",
   "execution_count": null,
   "id": "0a8d9e88",
   "metadata": {},
   "outputs": [],
   "source": [
    "l = ['Mon' , 'Tues' , 'Wed' , 'Thurs' , 'Fri' ]\n",
    "add = ['Sat' , 'Sun' , 10 , 20.5 , True]\n",
    "\n",
    "l.extend(add)\n",
    "print(l)"
   ]
  },
  {
   "cell_type": "code",
   "execution_count": null,
   "id": "27d2cbf0",
   "metadata": {},
   "outputs": [],
   "source": [
    "l = ['Mon' , 'Tues' , 'Wed' , 'Thurs' , 'Fri' ]\n",
    "l.insert(1 , 'Sun' )\n",
    "print(l)"
   ]
  },
  {
   "cell_type": "markdown",
   "id": "29b50bf5",
   "metadata": {},
   "source": [
    "#### Removing an object in list with index"
   ]
  },
  {
   "cell_type": "code",
   "execution_count": null,
   "id": "69ed4fdb",
   "metadata": {},
   "outputs": [],
   "source": [
    "l = ['Mon' , 'Tues' , 'Wed' , 'Thurs' , 'Fri' ]\n",
    "del l[0]\n",
    "print(l)"
   ]
  },
  {
   "cell_type": "code",
   "execution_count": null,
   "id": "c4a2e482",
   "metadata": {
    "scrolled": false
   },
   "outputs": [],
   "source": [
    "# l = ['Mon' , 'Tues' , 'Wed' , 'Thurs' , 'Fri' ]\n",
    "# del l['Mon'] \n",
    "#Wrong method"
   ]
  },
  {
   "cell_type": "markdown",
   "id": "07077096",
   "metadata": {},
   "source": [
    "#### Removing an object in list by value"
   ]
  },
  {
   "cell_type": "code",
   "execution_count": null,
   "id": "9d67c9c9",
   "metadata": {},
   "outputs": [],
   "source": [
    "l = ['Mon' , 'Tues' , 'Wed' , 'Thurs' , 'Fri' ]\n",
    "l.remove('Mon')\n",
    "print(l)"
   ]
  },
  {
   "cell_type": "code",
   "execution_count": null,
   "id": "c746cc95",
   "metadata": {},
   "outputs": [],
   "source": [
    "# l = ['Mon' , 'Tues' , 'Wed' , 'Thurs' , 'Fri' ]\n",
    "# l.remove(4)\n",
    "# print(l)\n",
    "#Wrong Method"
   ]
  },
  {
   "cell_type": "markdown",
   "id": "78fec574",
   "metadata": {},
   "source": [
    "#### Removing using pop -> It removes the last value if no index is provides and if index is provide it remove the index object"
   ]
  },
  {
   "cell_type": "code",
   "execution_count": null,
   "id": "c2d23d84",
   "metadata": {
    "scrolled": true
   },
   "outputs": [],
   "source": [
    "l = ['Mon' , 'Tues' , 'Wed' , 'Thurs' , 'Fri' ]\n",
    "l.pop()\n",
    "print(l)"
   ]
  },
  {
   "cell_type": "code",
   "execution_count": null,
   "id": "f8fa4de0",
   "metadata": {},
   "outputs": [],
   "source": [
    "l = ['Mon' , 'Tues' , 'Wed' , 'Thurs' , 'Fri' ]\n",
    "for i in range(len(l)-1,0,-1):\n",
    "    if i%2 != 0 :\n",
    "        del l[i]\n",
    "for d in l:\n",
    "    if \"i\" in d:\n",
    "        l.remove(d)\n",
    "print(l)"
   ]
  },
  {
   "cell_type": "markdown",
   "id": "02b7c6e4",
   "metadata": {},
   "source": [
    "### Alphabetical sorting of string"
   ]
  },
  {
   "cell_type": "code",
   "execution_count": 14,
   "id": "20b5dd7e",
   "metadata": {},
   "outputs": [
    {
     "name": "stdout",
     "output_type": "stream",
     "text": [
      "['Amit', 'Pratik', 'Rahul']\n"
     ]
    }
   ],
   "source": [
    "students = ['Amit' , 'Rahul' , 'Pratik']\n",
    "students.sort()\n",
    "print(students)\n",
    "\n",
    "#It will change the original lsit also."
   ]
  },
  {
   "cell_type": "code",
   "execution_count": 11,
   "id": "06254165",
   "metadata": {},
   "outputs": [
    {
     "name": "stdout",
     "output_type": "stream",
     "text": [
      "['Amit', 'Pratik', 'Rahul']\n",
      "['Amit', 'Rahul', 'Pratik']\n"
     ]
    }
   ],
   "source": [
    "students = ['Amit' , 'Rahul' , 'Pratik']\n",
    "print(sorted(students))\n",
    "print(students)\n",
    "\n",
    "#It will not change the original List."
   ]
  },
  {
   "cell_type": "markdown",
   "id": "2cc8da1c",
   "metadata": {},
   "source": [
    "#### Reverse a list"
   ]
  },
  {
   "cell_type": "code",
   "execution_count": 18,
   "id": "035271b7",
   "metadata": {},
   "outputs": [],
   "source": [
    "students.reverse()"
   ]
  },
  {
   "cell_type": "code",
   "execution_count": 19,
   "id": "a8a6c482",
   "metadata": {},
   "outputs": [
    {
     "data": {
      "text/plain": [
       "['Rahul', 'Pratik', 'Amit']"
      ]
     },
     "execution_count": 19,
     "metadata": {},
     "output_type": "execute_result"
    }
   ],
   "source": [
    "students"
   ]
  },
  {
   "cell_type": "code",
   "execution_count": 22,
   "id": "ea99e9d0",
   "metadata": {},
   "outputs": [
    {
     "data": {
      "text/plain": [
       "['Rahul', 'Pratik', 'Amit']"
      ]
     },
     "execution_count": 22,
     "metadata": {},
     "output_type": "execute_result"
    }
   ],
   "source": [
    "students.sort(reverse=True)\n",
    "students"
   ]
  },
  {
   "cell_type": "markdown",
   "id": "8dbce19e",
   "metadata": {},
   "source": [
    "#### List component"
   ]
  },
  {
   "cell_type": "code",
   "execution_count": 23,
   "id": "3ffef5a2",
   "metadata": {},
   "outputs": [
    {
     "name": "stdout",
     "output_type": "stream",
     "text": [
      "[0, 1, 2, 3, 4, 5, 6, 7, 8, 9, 10, 11, 12, 13, 14, 15, 16, 17, 18, 19, 20, 21, 22, 23, 24, 25, 26, 27, 28, 29, 30, 31, 32, 33, 34, 35, 36, 37, 38, 39, 40, 41, 42, 43, 44, 45, 46, 47, 48, 49, 50, 51, 52, 53, 54, 55, 56, 57, 58, 59, 60, 61, 62, 63, 64, 65, 66, 67, 68, 69, 70, 71, 72, 73, 74, 75, 76, 77, 78, 79, 80, 81, 82, 83, 84, 85, 86, 87, 88, 89, 90, 91, 92, 93, 94, 95, 96, 97, 98, 99, 100]\n"
     ]
    }
   ],
   "source": [
    "f = []\n",
    "for i in range(101):\n",
    "    f.append(i)\n",
    "print(f)"
   ]
  },
  {
   "cell_type": "code",
   "execution_count": 24,
   "id": "470894c3",
   "metadata": {},
   "outputs": [],
   "source": [
    "#Its alternate"
   ]
  },
  {
   "cell_type": "code",
   "execution_count": 26,
   "id": "82611338",
   "metadata": {},
   "outputs": [
    {
     "name": "stdout",
     "output_type": "stream",
     "text": [
      "[0, 1, 2, 3, 4, 5, 6, 7, 8, 9, 10, 11, 12, 13, 14, 15, 16, 17, 18, 19, 20, 21, 22, 23, 24, 25, 26, 27, 28, 29, 30, 31, 32, 33, 34, 35, 36, 37, 38, 39, 40, 41, 42, 43, 44, 45, 46, 47, 48, 49, 50, 51, 52, 53, 54, 55, 56, 57, 58, 59, 60, 61, 62, 63, 64, 65, 66, 67, 68, 69, 70, 71, 72, 73, 74, 75, 76, 77, 78, 79, 80, 81, 82, 83, 84, 85, 86, 87, 88, 89, 90, 91, 92, 93, 94, 95, 96, 97, 98, 99, 100]\n"
     ]
    }
   ],
   "source": [
    "lc = [i for i in range(101)]\n",
    "print(lc)"
   ]
  }
 ],
 "metadata": {
  "kernelspec": {
   "display_name": "Python 3 (ipykernel)",
   "language": "python",
   "name": "python3"
  },
  "language_info": {
   "codemirror_mode": {
    "name": "ipython",
    "version": 3
   },
   "file_extension": ".py",
   "mimetype": "text/x-python",
   "name": "python",
   "nbconvert_exporter": "python",
   "pygments_lexer": "ipython3",
   "version": "3.10.9"
  }
 },
 "nbformat": 4,
 "nbformat_minor": 5
}
