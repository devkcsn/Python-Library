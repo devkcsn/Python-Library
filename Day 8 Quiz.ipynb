{
 "cells": [
  {
   "cell_type": "code",
   "execution_count": null,
   "id": "c68316e9",
   "metadata": {},
   "outputs": [],
   "source": [
    "#Question 1"
   ]
  },
  {
   "cell_type": "code",
   "execution_count": null,
   "id": "b9589898",
   "metadata": {},
   "outputs": [],
   "source": [
    "#First Part\n",
    "l_main = [4,5,2,True , 'March' , 7.3]\n",
    "rev = l_main.copy() \n",
    "rev.reverse()\n",
    "l_main.extend(rev)\n",
    "print(l_main)\n",
    "\n",
    "#Second Part\n",
    "l_main = [str(i) for i in l_main]\n",
    "\" \".join(l_main)       #.join is only for strings in list   \n",
    "print(l_main)\n",
    "\n",
    "#Second Part \n",
    "l_str = []\n",
    "\n",
    "for i in l_main:\n",
    "    x = str(i)\n",
    "    l_str.append(x)\n",
    "l_str "
   ]
  },
  {
   "cell_type": "code",
   "execution_count": null,
   "id": "994032ff",
   "metadata": {},
   "outputs": [],
   "source": [
    "#Question 2"
   ]
  },
  {
   "cell_type": "code",
   "execution_count": null,
   "id": "dec8c8ce",
   "metadata": {},
   "outputs": [],
   "source": [
    "tup = ([1,2,3],[4,5,6])\n",
    "\n",
    "for i in range(len(tup)):\n",
    "    if i == 0:\n",
    "        tup[i][2] = 5\n",
    "print(tup)"
   ]
  },
  {
   "cell_type": "code",
   "execution_count": null,
   "id": "04efe6d6",
   "metadata": {},
   "outputs": [],
   "source": [
    "#Another method "
   ]
  },
  {
   "cell_type": "code",
   "execution_count": null,
   "id": "5cee0a37",
   "metadata": {},
   "outputs": [],
   "source": [
    "tup = ([1,2,3],[4,5,6])\n",
    "\n",
    "for i in range(len(tup)):\n",
    "    for j in range(3):\n",
    "        if tup[i][j] == 3:\n",
    "            tup[i][j] = 5\n",
    "print(tup)"
   ]
  },
  {
   "cell_type": "code",
   "execution_count": null,
   "id": "ef2d5175",
   "metadata": {},
   "outputs": [],
   "source": [
    "#question 4"
   ]
  },
  {
   "cell_type": "code",
   "execution_count": null,
   "id": "0dcff32b",
   "metadata": {},
   "outputs": [],
   "source": [
    "test_str = \"(7,8,9)\"\n",
    "l_list = []\n",
    "for i in test_str:\n",
    "    if i.isnumeric():\n",
    "        l_list.append(i)\n",
    "l_list = [int(i) for i in l_list]                  #Conversion by type casting\n",
    "l_list = tuple(l_list)\n",
    "print(l_list)"
   ]
  },
  {
   "cell_type": "code",
   "execution_count": null,
   "id": "584c7309",
   "metadata": {},
   "outputs": [],
   "source": [
    "#Question 7"
   ]
  },
  {
   "cell_type": "code",
   "execution_count": null,
   "id": "24c1c6f8",
   "metadata": {},
   "outputs": [],
   "source": [
    "str1 = input()\n",
    "str2 = str1[::-1]\n",
    "if str1 == str2:\n",
    "    print(f\"{str1} is Palindrome word\")\n",
    "else:\n",
    "    print(f\"{str1} is Not Palindrome word\")"
   ]
  },
  {
   "cell_type": "code",
   "execution_count": null,
   "id": "206a66c9",
   "metadata": {},
   "outputs": [],
   "source": [
    "#Question 8"
   ]
  },
  {
   "cell_type": "code",
   "execution_count": null,
   "id": "f51ff865",
   "metadata": {},
   "outputs": [],
   "source": [
    "l = {0:'Mon' ,1: 'Tues' ,2: 'Wed'}\n",
    "custom_sort = lambda x:x[1]    #lambda is used to sort by values [1] and to sort by keys use [0] \n",
    "sorted_by_value = sorted(l.items() ,key = custom_sort)"
   ]
  },
  {
   "cell_type": "code",
   "execution_count": null,
   "id": "5f5cf0f5",
   "metadata": {},
   "outputs": [],
   "source": [
    "dict(sorted_by_value)"
   ]
  },
  {
   "cell_type": "code",
   "execution_count": null,
   "id": "fdaeafa4",
   "metadata": {},
   "outputs": [],
   "source": [
    "l = {0:'Mon' ,1: 'Tues' ,2: 'Wed'}\n",
    "custom_sort = lambda x:x[1][1]            #Is used to sort the first letter of word in Name of days \n",
    "sorted_by_value = sorted(l.items() ,key = custom_sort)\n",
    "dict(sorted_by_value)"
   ]
  },
  {
   "cell_type": "code",
   "execution_count": null,
   "id": "ed37e05e",
   "metadata": {},
   "outputs": [],
   "source": [
    "l = []\n",
    "for i in range(5):\n",
    "    if i%2 == 0:\n",
    "        l.append(0)\n",
    "    else:\n",
    "        l.append(1)\n",
    "final = []\n",
    "for k in range(4):\n",
    "    final.append(l)\n",
    "print(final,\"\\n\")"
   ]
  },
  {
   "cell_type": "code",
   "execution_count": 1,
   "id": "a67cff45",
   "metadata": {},
   "outputs": [],
   "source": [
    "#Question 9"
   ]
  },
  {
   "cell_type": "code",
   "execution_count": 4,
   "id": "f3019a03",
   "metadata": {},
   "outputs": [
    {
     "name": "stdout",
     "output_type": "stream",
     "text": [
      "[[1, 2, 3, 4], [5, 6, 7, 8], [9, 10, 11, 12]] \n",
      "\n"
     ]
    }
   ],
   "source": [
    "final = []\n",
    "l = []\n",
    "\n",
    "for i in range(1,13):\n",
    "    l.append(i)\n",
    "    if i%4 == 0:\n",
    "        final.append(l)\n",
    "        l = []\n",
    "        \n",
    "        \n",
    "print(final)"
   ]
  },
  {
   "cell_type": "code",
   "execution_count": null,
   "id": "08673250",
   "metadata": {},
   "outputs": [],
   "source": []
  }
 ],
 "metadata": {
  "kernelspec": {
   "display_name": "Python 3 (ipykernel)",
   "language": "python",
   "name": "python3"
  },
  "language_info": {
   "codemirror_mode": {
    "name": "ipython",
    "version": 3
   },
   "file_extension": ".py",
   "mimetype": "text/x-python",
   "name": "python",
   "nbconvert_exporter": "python",
   "pygments_lexer": "ipython3",
   "version": "3.10.9"
  }
 },
 "nbformat": 4,
 "nbformat_minor": 5
}
