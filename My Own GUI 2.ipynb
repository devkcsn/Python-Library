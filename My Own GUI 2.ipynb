{
 "cells": [
  {
   "cell_type": "code",
   "execution_count": 1,
   "id": "331b1749",
   "metadata": {},
   "outputs": [],
   "source": [
    "from tkinter import *\n",
    "from tkinter import messagebox\n",
    "\n",
    "def calculate_emi():\n",
    "    principal = float(principal_entry.get())\n",
    "    interest_rate = float(interest_rate_entry.get())\n",
    "    tenure = float(tenure_entry.get())\n",
    "    \n",
    "    interest_rate = interest_rate / 100\n",
    "    monthly_interest_rate = interest_rate / 12\n",
    "    months = tenure * 12\n",
    "    \n",
    "    emi = (principal * monthly_interest_rate * (1 + monthly_interest_rate) ** months) / ((1 + monthly_interest_rate) ** months - 1)\n",
    "    \n",
    "    emi_label.configure(text=f\"EMI: {emi:.2f} USD\")\n",
    "\n",
    "r = Tk()\n",
    "r.geometry(\"500x300\")\n",
    "r.configure(bg=\"khaki\")\n",
    "r.title(\"EMI Calculator\")\n",
    "r.resizable(0, 0)\n",
    "\n",
    "principal_label = Label(r, text=\"Principal Amount (USD):\", font=(\"Segoe Script\", 12))\n",
    "principal_label.place(x=40, y=30)\n",
    "principal_label.configure(bg=\"darkkhaki\")\n",
    "principal_entry = Entry(font=\"30\")\n",
    "principal_entry.configure(bg=\"palegoldenrod\")\n",
    "principal_entry.place(x=250, y=35)\n",
    "\n",
    "interest_rate_label = Label(r, text=\"Interest Rate (%):\", font=(\"Segoe Script\", 12))\n",
    "interest_rate_label.place(x=40, y=80)\n",
    "interest_rate_label.configure(bg=\"darkkhaki\")\n",
    "interest_rate_entry = Entry(font=\"30\")\n",
    "interest_rate_entry.configure(bg=\"palegoldenrod\")\n",
    "interest_rate_entry.place(x=250, y=85)\n",
    "\n",
    "tenure_label = Label(r, text=\"Tenure (years):\", font=(\"Segoe Script\", 12))\n",
    "tenure_label.place(x=40, y=130)\n",
    "tenure_label.configure(bg=\"darkkhaki\")\n",
    "tenure_entry = Entry(font=\"30\")\n",
    "tenure_entry.configure(bg=\"palegoldenrod\")\n",
    "tenure_entry.place(x=250, y=135)\n",
    "\n",
    "calculate_button = Button(r, text=\"Calculate EMI\", font=\"30\", command=calculate_emi)\n",
    "calculate_button.place(x=40, y=200)\n",
    "calculate_button.configure(bg=\"darkkhaki\")\n",
    "\n",
    "emi_label = Label(r, text=\"EMI:\", font=(\"Segoe Script\", 12))\n",
    "emi_label.place(x=40, y=250)\n",
    "emi_label.configure(bg=\"darkkhaki\")\n",
    "\n",
    "r.mainloop()\n"
   ]
  },
  {
   "cell_type": "code",
   "execution_count": null,
   "id": "4b80095e",
   "metadata": {},
   "outputs": [],
   "source": []
  }
 ],
 "metadata": {
  "kernelspec": {
   "display_name": "Python 3 (ipykernel)",
   "language": "python",
   "name": "python3"
  },
  "language_info": {
   "codemirror_mode": {
    "name": "ipython",
    "version": 3
   },
   "file_extension": ".py",
   "mimetype": "text/x-python",
   "name": "python",
   "nbconvert_exporter": "python",
   "pygments_lexer": "ipython3",
   "version": "3.10.9"
  }
 },
 "nbformat": 4,
 "nbformat_minor": 5
}
