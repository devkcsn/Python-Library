{
 "cells": [
  {
   "cell_type": "code",
   "execution_count": null,
   "id": "4036014c",
   "metadata": {},
   "outputs": [],
   "source": [
    "#IF "
   ]
  },
  {
   "cell_type": "code",
   "execution_count": null,
   "id": "bf2729e1",
   "metadata": {},
   "outputs": [],
   "source": [
    "a= int(input('Value of a -> ' ))\n",
    "b= int(input('Value of b -> ' ))\n",
    "print(a+b)\n",
    "print(a//b)\n",
    "if a!=0:\n",
    "    print(b%a)"
   ]
  },
  {
   "cell_type": "code",
   "execution_count": null,
   "id": "6853e795",
   "metadata": {},
   "outputs": [],
   "source": [
    "#Odd Even "
   ]
  },
  {
   "cell_type": "code",
   "execution_count": null,
   "id": "56e5d46c",
   "metadata": {},
   "outputs": [],
   "source": [
    "num = int(input('Enter a number -> '))\n",
    "if num%2==0:\n",
    "    print(\"The number\" , num, \"is even\")\n",
    "else:\n",
    "    print(\"The number\" , num, \"is odd\")"
   ]
  },
  {
   "cell_type": "code",
   "execution_count": null,
   "id": "73593557",
   "metadata": {},
   "outputs": [],
   "source": [
    "#Test Case"
   ]
  },
  {
   "cell_type": "code",
   "execution_count": null,
   "id": "7092f30d",
   "metadata": {},
   "outputs": [],
   "source": [
    "bike_balance = int(input(\"Bike Balance -> \"))\n",
    "account_balance = int(input(\"Account Balance -> \"))\n",
    "min_recharge = 500\n",
    "if(bike_balance<100 and account_balance >= 500):\n",
    "    bike_balance += min_recharge\n",
    "    account_balance -= min_recharge\n",
    "    print(\"New Bike Balance -> \" , bike_balance)\n",
    "    print(\"Now Account Balance -> \", account_balance)\n",
    "else:\n",
    "    print(\"Bike Balance -> \" ,bike_balance)\n",
    "    print(\"Account Balance -> \" ,account_balance)"
   ]
  },
  {
   "cell_type": "code",
   "execution_count": null,
   "id": "ff219606",
   "metadata": {
    "slideshow": {
     "slide_type": "notes"
    }
   },
   "outputs": [],
   "source": [
    "#Test Case 2 Calculator"
   ]
  },
  {
   "cell_type": "code",
   "execution_count": null,
   "id": "97f91670",
   "metadata": {},
   "outputs": [],
   "source": [
    "#Uses of elif "
   ]
  },
  {
   "cell_type": "code",
   "execution_count": null,
   "id": "4492c7ad",
   "metadata": {},
   "outputs": [],
   "source": [
    "a,operator,b = int(input('Number 1 -> ')) ,input('Operation -> '), int(input('Number 2 -> '))\n",
    "if operator == '+':\n",
    "    print(a+b)\n",
    "elif operator == '-':\n",
    "    print(a-b)\n",
    "elif operator == '*':\n",
    "    print(a*b)\n",
    "elif operator == '/' and b!=0:\n",
    "    print(a/b)\n",
    "else:\n",
    "    print('Pass one of the operation + - * /')"
   ]
  },
  {
   "cell_type": "code",
   "execution_count": null,
   "id": "663e7bad",
   "metadata": {},
   "outputs": [],
   "source": [
    "#Test case 3"
   ]
  },
  {
   "cell_type": "code",
   "execution_count": null,
   "id": "88ec2097",
   "metadata": {},
   "outputs": [],
   "source": [
    "num1 = int(input(\"Enter the first number -> \"))\n",
    "num2 = int(input(\"Enter the second nunmber -> \"))\n",
    "if (num1>num2):\n",
    "    print(num1 , \"Is Greater\")\n",
    "elif (num1<num2):\n",
    "    print(num2 , \"Is Greater\")\n",
    "else:\n",
    "    print(num1 , \"is eequal to \" , num2)"
   ]
  },
  {
   "cell_type": "code",
   "execution_count": null,
   "id": "e30b4f38",
   "metadata": {},
   "outputs": [],
   "source": [
    "#Nested if else"
   ]
  },
  {
   "cell_type": "code",
   "execution_count": null,
   "id": "dbe7920c",
   "metadata": {},
   "outputs": [],
   "source": [
    "num1 = int(input(\"Enter the first number -> \"))\n",
    "num2 = int(input(\"Enter the second nunmber -> \"))\n",
    "\n",
    "if num1 != num2:\n",
    "    if num1>num2:\n",
    "        print(num1, \"Is Greater\")\n",
    "    else:\n",
    "        print(num2, \"Is Greater\")\n",
    "else:\n",
    "    print(num1,\"and\" ,num2, \"is equal\")\n",
    "    "
   ]
  },
  {
   "cell_type": "code",
   "execution_count": null,
   "id": "b1c374d1",
   "metadata": {},
   "outputs": [],
   "source": [
    "#Test case 4"
   ]
  },
  {
   "cell_type": "code",
   "execution_count": null,
   "id": "c2335628",
   "metadata": {},
   "outputs": [],
   "source": [
    "marks = int(input(\"Marks -> \"))\n",
    "if marks>=90 and marks <= 100:\n",
    "    print(\"Grade A+ Marks =\" ,marks)\n",
    "elif marks >= 80 and marks<90:\n",
    "    print(\"Grade A Marks =\" ,marks)\n",
    "elif marks >=70 and marks <80:\n",
    "    print(\"Grade B Marks =\" ,marks)\n",
    "elif marks >=60 and marks <70:\n",
    "    print(\"Grade C Marks =\" ,marks)\n",
    "elif marks >=50 and marks <60:\n",
    "    print(\"Grade D Marks =\" ,marks)\n",
    "elif marks >=40 and marks <50:\n",
    "    print(\"Grade E Marks =\" ,marks)\n",
    "elif marks <40 and marks >= 0:\n",
    "    print(\"Fail Marks =\" ,marks)"
   ]
  },
  {
   "cell_type": "code",
   "execution_count": null,
   "id": "79d5fb2b",
   "metadata": {},
   "outputs": [],
   "source": [
    "#Test Case 5 "
   ]
  },
  {
   "cell_type": "code",
   "execution_count": null,
   "id": "3fab54a3",
   "metadata": {},
   "outputs": [],
   "source": [
    "side1 = int(input(\"Enter the first side \"))\n",
    "side2 = int(input(\"Enter the second side \"))\n",
    "side3 = int(input(\"Enter the third side \"))\n",
    "if (side1+side2>side3 and side2 + side3 > side1 and side2 +side3 > side1):\n",
    "    if side1 == side2 and side1 == side3 :\n",
    "        print(\"The Triangle is Equivalent\")\n",
    "    elif (side1 == side2 and side1 != side3) or (side2 == side3 and side2 != side1) or (side1 == side3 and side1 != side2):\n",
    "        print(\"The Triangle is Isoceles\")\n",
    "    elif (side1 != side2 and side1 != side3) or (side2 != side3 and side2 != side1) or (side3 != side2 and side3 != side1):\n",
    "        print(\"The Trianlge is Scalene\")\n",
    "else: \n",
    "    print(\"Triangle cannot be formed\")"
   ]
  },
  {
   "cell_type": "code",
   "execution_count": null,
   "id": "3fb62f9c",
   "metadata": {},
   "outputs": [],
   "source": [
    "#Loop "
   ]
  },
  {
   "cell_type": "code",
   "execution_count": null,
   "id": "ff6337a2",
   "metadata": {},
   "outputs": [],
   "source": [
    "while True:\n",
    "    side1 = int(input(\"Enter the first side: \"))\n",
    "    side2 = int(input(\"Enter the second side: \"))\n",
    "    side3 = int(input(\"Enter the third side: \"))\n",
    "\n",
    "    if side1 + side2 > side3 and side2 + side3 > side1 and side1 + side3 > side2:\n",
    "        if side1 == side2 and side2 == side3:\n",
    "            print(\"The triangle is Equilateral\")\n",
    "            break\n",
    "        elif (side1 == side2 and side1 != side3) or (side2 == side3 and side2 != side1) or (side1 == side3 and side1 != side2):\n",
    "            print(\"The triangle is Isosceles\")\n",
    "            break\n",
    "        elif (side1 != side2 and side1 != side3) or (side2 != side3 and side2 != side1) or (side3 != side2 and side3 != side1):\n",
    "            print(\"The Trianlge is Scalene\")\n",
    "            break                                                                               \n",
    "    else:\n",
    "        print(\"Triangle cannot be formed\")\n",
    "        print(\"Again Enter the values\")\n",
    "        continue"
   ]
  },
  {
   "cell_type": "code",
   "execution_count": null,
   "id": "ddc64158",
   "metadata": {},
   "outputs": [],
   "source": [
    "error = int(input(\"Error found -> \"))\n",
    "if error: \n",
    "    print(\"You have {} error to fix! \".format(error)) \n",
    "else:\n",
    "    print(\"No error to fix\")"
   ]
  },
  {
   "cell_type": "code",
   "execution_count": null,
   "id": "630a90d7",
   "metadata": {},
   "outputs": [],
   "source": [
    "#Vowel and consonent"
   ]
  },
  {
   "cell_type": "code",
   "execution_count": null,
   "id": "be6131f9",
   "metadata": {},
   "outputs": [],
   "source": [
    "vowel = ['a','e','i','o','u']\n",
    "char = input(\"Enter the character -> \") \n",
    "if char in vowel:\n",
    "    print(\"Entered character is vowel\")\n",
    "else:\n",
    "    print(\"Entered character is a consonent\")\n"
   ]
  },
  {
   "cell_type": "code",
   "execution_count": null,
   "id": "aaf9fc9d",
   "metadata": {},
   "outputs": [],
   "source": [
    "#Number of days in minth"
   ]
  },
  {
   "cell_type": "code",
   "execution_count": 6,
   "id": "a71a4d65",
   "metadata": {},
   "outputs": [
    {
     "name": "stdout",
     "output_type": "stream",
     "text": [
      "Enter the month febuary\n",
      "Year -> 1200\n",
      "Febuary have 29 days in year 1200\n"
     ]
    }
   ],
   "source": [
    "month1 = ['april' , 'june' , 'september' , 'november']\n",
    "month2 = ['january' , 'march' , 'may' , 'july' , ' august' , 'octumber' , 'december']\n",
    "month = input(\"Enter the month \")\n",
    "if month in month1:\n",
    "    print(\"This month have 30 days\")\n",
    "elif month in month2:\n",
    "    print(\"This month have 31 days\")\n",
    "elif month=='febuary':\n",
    "        year = int(input(\"Year -> \"))\n",
    "        if (year%4==0 and year%100 != 0) or (year%400 == 0):\n",
    "            print('Febuary have 29 days in year',year)\n",
    "        else:\n",
    "            print('Febuary have 28 days in year',year)"
   ]
  },
  {
   "cell_type": "code",
   "execution_count": 3,
   "id": "a617ac9d",
   "metadata": {},
   "outputs": [],
   "source": [
    "#Leap year and century year"
   ]
  },
  {
   "cell_type": "code",
   "execution_count": 18,
   "id": "b82841f2",
   "metadata": {},
   "outputs": [
    {
     "name": "stdout",
     "output_type": "stream",
     "text": [
      "ENter the year -> 1600\n",
      "This year 1600 is not a leap year\n",
      "And also this year 1600 is a century year\n"
     ]
    }
   ],
   "source": [
    "year = int(input(\"Enter the year -> \"))\n",
    "if (year%4==0 or year%400 == 0) and (year%100 != 0):\n",
    "    print(\"This year {} is a leap year\" .format(year))\n",
    "else:\n",
    "    print(\"This year {} is not a leap year\" .format(year))\n",
    "if (year%100==0):\n",
    "    print(\"And also this year {} is a century year\" .format(year))\n",
    "else:\n",
    "    print(\"And also this year {} is not a century year\" .format(year))"
   ]
  },
  {
   "cell_type": "code",
   "execution_count": null,
   "id": "e2079a58",
   "metadata": {},
   "outputs": [],
   "source": [
    "year = int(input(\"Enter the year -> \"))\n",
    "if (year%4==0) or (year%400 == 0 and year%100 != 0):\n",
    "    print(f\"This year {year} is a leap year\")\n",
    "else:\n",
    "    print(f\"This year {year} is not a leap year\")\n",
    "if (year%100==0):\n",
    "    print(f\"And also this year {year} is a century year\")\n",
    "else:\n",
    "    print(f\"And also this year {year} is not a century year\")"
   ]
  },
  {
   "cell_type": "code",
   "execution_count": null,
   "id": "0e5019f9",
   "metadata": {},
   "outputs": [],
   "source": [
    "#Number divisible by 3,5 and 15"
   ]
  },
  {
   "cell_type": "code",
   "execution_count": 4,
   "id": "1116917c",
   "metadata": {},
   "outputs": [
    {
     "name": "stdout",
     "output_type": "stream",
     "text": [
      "Enter the number 52\n",
      "It is divisible by none\n"
     ]
    }
   ],
   "source": [
    "num = int(input(\"Enter the number \"))\n",
    "if num%5==0:\n",
    "    if num%3 == 0:\n",
    "        print(\"It is divisible by 15\")\n",
    "    else:\n",
    "        print(\"It is divisible by 5 only\")\n",
    "else:\n",
    "    if num%3==0:\n",
    "        print(\"It is divisible by 3 only\")\n",
    "    else:\n",
    "        print(\"It is divisible by none\")"
   ]
  },
  {
   "cell_type": "code",
   "execution_count": null,
   "id": "b725655b",
   "metadata": {},
   "outputs": [],
   "source": [
    "#Test case Blood donation camp"
   ]
  },
  {
   "cell_type": "code",
   "execution_count": null,
   "id": "0af2a6fe",
   "metadata": {},
   "outputs": [],
   "source": [
    "Age = int(input(\"Age \"))\n",
    "height=int(input(\"Height \"))\n",
    "weight = int(input(\"Weight \"))\n",
    "BG = ['o+' , 'o-']\n",
    "BGInput = input(\"Blood Group \")\n",
    "if Age>19:\n",
    "    if weight>=52:\n",
    "        if BGInput in BG:\n",
    "            if height >= 172:\n",
    "                print(\"You are eligible for donation\")\n",
    "else:\n",
    "    print(\"You are not eligible for donation\")"
   ]
  },
  {
   "cell_type": "code",
   "execution_count": null,
   "id": "c0d968af",
   "metadata": {},
   "outputs": [],
   "source": [
    "Age = int(input(\"Age \"))\n",
    "height=int(input(\"Height \"))\n",
    "weight = int(input(\"Weight \"))\n",
    "BG = ['o+' , 'o-']\n",
    "BGInput = input(\"Blood Group \")\n",
    "if Age>19 and weight>=52 and height >= 172 and (BGInput in BG):\n",
    "    print(\"You are eligible for donation\")\n",
    "else:\n",
    "    print(\"You are not eligible for donation\")"
   ]
  },
  {
   "cell_type": "code",
   "execution_count": null,
   "id": "f67b8cb7",
   "metadata": {},
   "outputs": [],
   "source": []
  }
 ],
 "metadata": {
  "kernelspec": {
   "display_name": "Python 3 (ipykernel)",
   "language": "python",
   "name": "python3"
  },
  "language_info": {
   "codemirror_mode": {
    "name": "ipython",
    "version": 3
   },
   "file_extension": ".py",
   "mimetype": "text/x-python",
   "name": "python",
   "nbconvert_exporter": "python",
   "pygments_lexer": "ipython3",
   "version": "3.10.9"
  }
 },
 "nbformat": 4,
 "nbformat_minor": 5
}
