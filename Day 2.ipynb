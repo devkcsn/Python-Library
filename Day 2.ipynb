{
 "cells": [
  {
   "cell_type": "code",
   "execution_count": 5,
   "id": "064a66cd",
   "metadata": {},
   "outputs": [
    {
     "name": "stdout",
     "output_type": "stream",
     "text": [
      "t4\n"
     ]
    }
   ],
   "source": [
    "char = 't'\n",
    "char += '4'\n",
    "print(char)"
   ]
  },
  {
   "cell_type": "code",
   "execution_count": 7,
   "id": "aa67a0ee",
   "metadata": {},
   "outputs": [
    {
     "name": "stdout",
     "output_type": "stream",
     "text": [
      "GOODGOODGOODGOODGOOD\n"
     ]
    }
   ],
   "source": [
    "label = 'GOOD'\n",
    "label *= 5 \n",
    "print(label)"
   ]
  },
  {
   "cell_type": "code",
   "execution_count": 8,
   "id": "88d5149d",
   "metadata": {},
   "outputs": [
    {
     "name": "stdout",
     "output_type": "stream",
     "text": [
      "GoodGoodGoodGoodGood\n"
     ]
    }
   ],
   "source": [
    "label = 5\n",
    "label *= 'Good'\n",
    "print(label)"
   ]
  },
  {
   "cell_type": "code",
   "execution_count": 1,
   "id": "9b8fa604",
   "metadata": {},
   "outputs": [
    {
     "name": "stdout",
     "output_type": "stream",
     "text": [
      "Identical check True\n"
     ]
    }
   ],
   "source": [
    "print(\"Identical check\" , 1 == True)"
   ]
  },
  {
   "cell_type": "code",
   "execution_count": 3,
   "id": "2343d47f",
   "metadata": {},
   "outputs": [
    {
     "name": "stdout",
     "output_type": "stream",
     "text": [
      "Identical check False\n"
     ]
    }
   ],
   "source": [
    "print(\"Identical check\" , '1' == True)"
   ]
  },
  {
   "cell_type": "code",
   "execution_count": 4,
   "id": "60563590",
   "metadata": {},
   "outputs": [
    {
     "name": "stdout",
     "output_type": "stream",
     "text": [
      "Identical check True\n"
     ]
    }
   ],
   "source": [
    "print(\"Identical check\" , 14 == int('14'))"
   ]
  },
  {
   "cell_type": "code",
   "execution_count": 5,
   "id": "e8c79b03",
   "metadata": {},
   "outputs": [
    {
     "data": {
      "text/plain": [
       "True"
      ]
     },
     "execution_count": 5,
     "metadata": {},
     "output_type": "execute_result"
    }
   ],
   "source": [
    "\"123456\" > \"12345\""
   ]
  },
  {
   "cell_type": "code",
   "execution_count": 6,
   "id": "8ea15f36",
   "metadata": {},
   "outputs": [
    {
     "data": {
      "text/plain": [
       "True"
      ]
     },
     "execution_count": 6,
     "metadata": {},
     "output_type": "execute_result"
    }
   ],
   "source": [
    "'z' > \"abc\""
   ]
  },
  {
   "cell_type": "code",
   "execution_count": 7,
   "id": "29aebfec",
   "metadata": {},
   "outputs": [
    {
     "data": {
      "text/plain": [
       "False"
      ]
     },
     "execution_count": 7,
     "metadata": {},
     "output_type": "execute_result"
    }
   ],
   "source": [
    "\"ABCD\" == \"ABCE\""
   ]
  },
  {
   "cell_type": "code",
   "execution_count": 8,
   "id": "b6726fcc",
   "metadata": {},
   "outputs": [
    {
     "data": {
      "text/plain": [
       "False"
      ]
     },
     "execution_count": 8,
     "metadata": {},
     "output_type": "execute_result"
    }
   ],
   "source": [
    "\"ABC\" == \"ABc\""
   ]
  },
  {
   "cell_type": "code",
   "execution_count": null,
   "id": "1ba61384",
   "metadata": {},
   "outputs": [],
   "source": []
  }
 ],
 "metadata": {
  "kernelspec": {
   "display_name": "Python 3 (ipykernel)",
   "language": "python",
   "name": "python3"
  },
  "language_info": {
   "codemirror_mode": {
    "name": "ipython",
    "version": 3
   },
   "file_extension": ".py",
   "mimetype": "text/x-python",
   "name": "python",
   "nbconvert_exporter": "python",
   "pygments_lexer": "ipython3",
   "version": "3.10.9"
  }
 },
 "nbformat": 4,
 "nbformat_minor": 5
}
