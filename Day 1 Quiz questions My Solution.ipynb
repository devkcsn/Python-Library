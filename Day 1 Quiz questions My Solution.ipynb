{
 "cells": [
  {
   "cell_type": "code",
   "execution_count": 2,
   "id": "30393799",
   "metadata": {},
   "outputs": [
    {
     "ename": "ValueError",
     "evalue": "invalid literal for int() with base 10: ''",
     "output_type": "error",
     "traceback": [
      "\u001b[1;31m---------------------------------------------------------------------------\u001b[0m",
      "\u001b[1;31mValueError\u001b[0m                                Traceback (most recent call last)",
      "Cell \u001b[1;32mIn[2], line 4\u001b[0m\n\u001b[0;32m      1\u001b[0m \u001b[39mimport\u001b[39;00m \u001b[39mmath\u001b[39;00m\n\u001b[0;32m      3\u001b[0m \u001b[39m# Taking sides input\u001b[39;00m\n\u001b[1;32m----> 4\u001b[0m side1 \u001b[39m=\u001b[39m \u001b[39mint\u001b[39;49m(\u001b[39minput\u001b[39;49m(\u001b[39m'\u001b[39;49m\u001b[39mside1 - \u001b[39;49m\u001b[39m'\u001b[39;49m))\n\u001b[0;32m      5\u001b[0m side2 \u001b[39m=\u001b[39m \u001b[39mint\u001b[39m(\u001b[39minput\u001b[39m(\u001b[39m'\u001b[39m\u001b[39mside2 - \u001b[39m\u001b[39m'\u001b[39m))\n\u001b[0;32m      6\u001b[0m side3 \u001b[39m=\u001b[39m \u001b[39mint\u001b[39m(\u001b[39minput\u001b[39m(\u001b[39m'\u001b[39m\u001b[39mside3 - \u001b[39m\u001b[39m'\u001b[39m))\n",
      "\u001b[1;31mValueError\u001b[0m: invalid literal for int() with base 10: ''"
     ]
    }
   ],
   "source": [
    "import math\n",
    "\n",
    "# Taking sides input\n",
    "side1 = int(input('side1 - '))\n",
    "side2 = int(input('side2 - '))\n",
    "side3 = int(input('side3 - '))\n",
    "\n",
    "# Computing value of s\n",
    "s = (side1 + side2 + side3) / 2\n",
    "\n",
    "# Computing Area\n",
    "Area = math.sqrt(s * (s - side1) * (s - side2) * (s - side3))\n",
    "\n",
    "# Printing Area\n",
    "print('Area of triangle =', Area)\n"
   ]
  },
  {
   "cell_type": "code",
   "execution_count": 4,
   "id": "89f63835",
   "metadata": {},
   "outputs": [
    {
     "ename": "ValueError",
     "evalue": "could not convert string to float: ''",
     "output_type": "error",
     "traceback": [
      "\u001b[1;31m---------------------------------------------------------------------------\u001b[0m",
      "\u001b[1;31mValueError\u001b[0m                                Traceback (most recent call last)",
      "Cell \u001b[1;32mIn[4], line 3\u001b[0m\n\u001b[0;32m      1\u001b[0m \u001b[39m#Area of rectangle\u001b[39;00m\n\u001b[0;32m      2\u001b[0m \u001b[39m#Taking inputs \u001b[39;00m\n\u001b[1;32m----> 3\u001b[0m Length \u001b[39m=\u001b[39m \u001b[39mfloat\u001b[39;49m(\u001b[39minput\u001b[39;49m(\u001b[39m\"\u001b[39;49m\u001b[39mLength -\u001b[39;49m\u001b[39m\"\u001b[39;49m))\n\u001b[0;32m      4\u001b[0m Breadth \u001b[39m=\u001b[39m \u001b[39mfloat\u001b[39m(\u001b[39minput\u001b[39m(\u001b[39m\"\u001b[39m\u001b[39mBreadth -\u001b[39m\u001b[39m\"\u001b[39m))\n\u001b[0;32m      5\u001b[0m \u001b[39m#Computing Area\u001b[39;00m\n",
      "\u001b[1;31mValueError\u001b[0m: could not convert string to float: ''"
     ]
    }
   ],
   "source": [
    "#Area of rectangle\n",
    "#Taking inputs \n",
    "Length = float(input(\"Length -\"))\n",
    "Breadth = float(input(\"Breadth -\"))\n",
    "#Computing Area\n",
    "Area = Length*Breadth \n",
    "#Printing Area\n",
    "print(\"Area of rectangle =\" , Area)"
   ]
  },
  {
   "cell_type": "code",
   "execution_count": null,
   "id": "9f638924",
   "metadata": {},
   "outputs": [],
   "source": [
    "#Area of Triangle \n",
    "#Taking inputs\n",
    "base = int(input(\"Base -\"))\n",
    "height = int(input(\"Height -\"))\n",
    "#Computing area\n",
    "Area = (base*height)/2\n",
    "#Printing Area\n",
    "print('Area of triangle = ' , Area)"
   ]
  },
  {
   "cell_type": "code",
   "execution_count": null,
   "id": "43786abb",
   "metadata": {},
   "outputs": [],
   "source": [
    "#Area of Square\n",
    "#Taking inputs\n",
    "Side = int(input('Side of Square -'))\n",
    "#Computing Area\n",
    "Area = Side**2\n",
    "#Printing Area \n",
    "print('Area of Square-' , Area)"
   ]
  }
 ],
 "metadata": {
  "kernelspec": {
   "display_name": "Python 3 (ipykernel)",
   "language": "python",
   "name": "python3"
  },
  "language_info": {
   "codemirror_mode": {
    "name": "ipython",
    "version": 3
   },
   "file_extension": ".py",
   "mimetype": "text/x-python",
   "name": "python",
   "nbconvert_exporter": "python",
   "pygments_lexer": "ipython3",
   "version": "3.11.4"
  }
 },
 "nbformat": 4,
 "nbformat_minor": 5
}
